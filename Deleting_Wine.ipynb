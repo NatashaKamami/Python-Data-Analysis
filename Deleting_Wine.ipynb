{
  "cells": [
    {
      "cell_type": "markdown",
      "metadata": {
        "id": "view-in-github",
        "colab_type": "text"
      },
      "source": [
        "<a href=\"https://colab.research.google.com/github/NatashaKamami/Python-Data-Analysis/blob/main/Deleting_Wine.ipynb\" target=\"_parent\"><img src=\"https://colab.research.google.com/assets/colab-badge.svg\" alt=\"Open In Colab\"/></a>"
      ]
    },
    {
      "cell_type": "markdown",
      "metadata": {
        "id": "fMhdVOVXy6f7"
      },
      "source": [
        "# Wine"
      ]
    },
    {
      "cell_type": "markdown",
      "metadata": {
        "id": "-fFpOAeNy6f_"
      },
      "source": [
        "### Introduction:\n",
        "\n",
        "This exercise is a adaptation from the UCI Wine dataset.\n",
        "The only pupose is to practice deleting data with pandas.\n",
        "\n",
        "### Step 1. Import the necessary libraries"
      ]
    },
    {
      "cell_type": "code",
      "execution_count": null,
      "metadata": {
        "id": "FvfE-HLZy6gB"
      },
      "outputs": [],
      "source": [
        "import pandas as pd\n",
        "import numpy as np"
      ]
    },
    {
      "cell_type": "markdown",
      "metadata": {
        "id": "SPjhkGe9y6gC"
      },
      "source": [
        "### Step 2. Import the dataset from this [address](https://archive.ics.uci.edu/ml/machine-learning-databases/wine/wine.data)."
      ]
    },
    {
      "cell_type": "markdown",
      "metadata": {
        "id": "j0U2uOE9y6gD"
      },
      "source": [
        "### Step 3. Assign it to a variable called wine"
      ]
    },
    {
      "cell_type": "code",
      "execution_count": null,
      "metadata": {
        "id": "txSXzQjiy6gD"
      },
      "outputs": [],
      "source": [
        "wine = pd.read_csv('https://archive.ics.uci.edu/ml/machine-learning-databases/wine/wine.data',header=None)"
      ]
    },
    {
      "cell_type": "markdown",
      "metadata": {
        "id": "saDIQyosy6gE"
      },
      "source": [
        "### Step 4. Delete the first, fourth, seventh, nineth, eleventh, thirteenth and fourteenth columns"
      ]
    },
    {
      "cell_type": "code",
      "execution_count": null,
      "metadata": {
        "id": "Kr27U-ARy6gF"
      },
      "outputs": [],
      "source": [
        "columns_to_delete = [0, 3, 6, 8, 10, 12, 13]\n",
        "wine.drop(wine.columns[columns_to_delete], axis=1, inplace=True)"
      ]
    },
    {
      "cell_type": "markdown",
      "metadata": {
        "id": "EJiGQ57Ty6gF"
      },
      "source": [
        "### Step 5. Assign the columns as below:\n",
        "\n",
        "The attributes are (donated by Riccardo Leardi, riclea '@' anchem.unige.it):  \n",
        "1) alcohol  \n",
        "2) malic_acid  \n",
        "3) alcalinity_of_ash  \n",
        "4) magnesium  \n",
        "5) flavanoids  \n",
        "6) proanthocyanins  \n",
        "7) hue"
      ]
    },
    {
      "cell_type": "code",
      "execution_count": null,
      "metadata": {
        "colab": {
          "base_uri": "https://localhost:8080/"
        },
        "id": "Xd7AY8iqy6gG",
        "outputId": "d036a4f0-1c47-492d-a3f7-f7a26b43cf49"
      },
      "outputs": [
        {
          "output_type": "execute_result",
          "data": {
            "text/plain": [
              "Index(['alcohol', 'malic_acid', 'alcalinity_of_ash', 'magnesium', 'flavanoids',\n",
              "       'proanthocyanins', 'hue'],\n",
              "      dtype='object')"
            ]
          },
          "metadata": {},
          "execution_count": 4
        }
      ],
      "source": [
        "wine.columns = ['alcohol', 'malic_acid', 'alcalinity_of_ash', 'magnesium', 'flavanoids', 'proanthocyanins', 'hue']\n",
        "wine.columns"
      ]
    },
    {
      "cell_type": "markdown",
      "metadata": {
        "id": "K7msXp97y6gH"
      },
      "source": [
        "### Step 6. Set the values of the first 3 rows from alcohol as NaN"
      ]
    },
    {
      "cell_type": "code",
      "execution_count": null,
      "metadata": {
        "colab": {
          "base_uri": "https://localhost:8080/",
          "height": 178
        },
        "id": "6q8BXE5Ly6gH",
        "outputId": "00850ced-446d-4d4d-cf01-4140954428fc"
      },
      "outputs": [
        {
          "output_type": "execute_result",
          "data": {
            "text/plain": [
              "0   NaN\n",
              "1   NaN\n",
              "2   NaN\n",
              "Name: alcohol, dtype: float64"
            ],
            "text/html": [
              "<div>\n",
              "<style scoped>\n",
              "    .dataframe tbody tr th:only-of-type {\n",
              "        vertical-align: middle;\n",
              "    }\n",
              "\n",
              "    .dataframe tbody tr th {\n",
              "        vertical-align: top;\n",
              "    }\n",
              "\n",
              "    .dataframe thead th {\n",
              "        text-align: right;\n",
              "    }\n",
              "</style>\n",
              "<table border=\"1\" class=\"dataframe\">\n",
              "  <thead>\n",
              "    <tr style=\"text-align: right;\">\n",
              "      <th></th>\n",
              "      <th>alcohol</th>\n",
              "    </tr>\n",
              "  </thead>\n",
              "  <tbody>\n",
              "    <tr>\n",
              "      <th>0</th>\n",
              "      <td>NaN</td>\n",
              "    </tr>\n",
              "    <tr>\n",
              "      <th>1</th>\n",
              "      <td>NaN</td>\n",
              "    </tr>\n",
              "    <tr>\n",
              "      <th>2</th>\n",
              "      <td>NaN</td>\n",
              "    </tr>\n",
              "  </tbody>\n",
              "</table>\n",
              "</div><br><label><b>dtype:</b> float64</label>"
            ]
          },
          "metadata": {},
          "execution_count": 5
        }
      ],
      "source": [
        "wine.loc[:2, 'alcohol'] = np.nan\n",
        "wine.loc[:2, 'alcohol']"
      ]
    },
    {
      "cell_type": "markdown",
      "metadata": {
        "id": "sn8bNGdyy6gI"
      },
      "source": [
        "### Step 7. Now set the value of the rows 3 and 4 of magnesium as NaN"
      ]
    },
    {
      "cell_type": "code",
      "execution_count": null,
      "metadata": {
        "colab": {
          "base_uri": "https://localhost:8080/",
          "height": 147
        },
        "id": "07gBE2Uxy6gI",
        "outputId": "d6e2ee38-6549-424a-bc96-ef73cd43d215"
      },
      "outputs": [
        {
          "output_type": "execute_result",
          "data": {
            "text/plain": [
              "3   NaN\n",
              "4   NaN\n",
              "Name: magnesium, dtype: float64"
            ],
            "text/html": [
              "<div>\n",
              "<style scoped>\n",
              "    .dataframe tbody tr th:only-of-type {\n",
              "        vertical-align: middle;\n",
              "    }\n",
              "\n",
              "    .dataframe tbody tr th {\n",
              "        vertical-align: top;\n",
              "    }\n",
              "\n",
              "    .dataframe thead th {\n",
              "        text-align: right;\n",
              "    }\n",
              "</style>\n",
              "<table border=\"1\" class=\"dataframe\">\n",
              "  <thead>\n",
              "    <tr style=\"text-align: right;\">\n",
              "      <th></th>\n",
              "      <th>magnesium</th>\n",
              "    </tr>\n",
              "  </thead>\n",
              "  <tbody>\n",
              "    <tr>\n",
              "      <th>3</th>\n",
              "      <td>NaN</td>\n",
              "    </tr>\n",
              "    <tr>\n",
              "      <th>4</th>\n",
              "      <td>NaN</td>\n",
              "    </tr>\n",
              "  </tbody>\n",
              "</table>\n",
              "</div><br><label><b>dtype:</b> float64</label>"
            ]
          },
          "metadata": {},
          "execution_count": 6
        }
      ],
      "source": [
        "wine.loc[3:4, 'magnesium'] = np.nan\n",
        "wine.loc[3:4, 'magnesium']"
      ]
    },
    {
      "cell_type": "markdown",
      "metadata": {
        "id": "r4aF-unIy6gI"
      },
      "source": [
        "### Step 8. Fill the value of NaN with the number 10 in alcohol and 100 in magnesium"
      ]
    },
    {
      "cell_type": "code",
      "execution_count": null,
      "metadata": {
        "colab": {
          "base_uri": "https://localhost:8080/"
        },
        "id": "cB3NkBC7y6gJ",
        "outputId": "1b2d017c-768f-4694-aca9-4070b70c3a27"
      },
      "outputs": [
        {
          "output_type": "stream",
          "name": "stdout",
          "text": [
            "0    10.0\n",
            "1    10.0\n",
            "2    10.0\n",
            "Name: alcohol, dtype: float64\n",
            "3    100.0\n",
            "4    100.0\n",
            "Name: magnesium, dtype: float64\n"
          ]
        },
        {
          "output_type": "stream",
          "name": "stderr",
          "text": [
            "<ipython-input-8-00695163125a>:1: FutureWarning: A value is trying to be set on a copy of a DataFrame or Series through chained assignment using an inplace method.\n",
            "The behavior will change in pandas 3.0. This inplace method will never work because the intermediate object on which we are setting values always behaves as a copy.\n",
            "\n",
            "For example, when doing 'df[col].method(value, inplace=True)', try using 'df.method({col: value}, inplace=True)' or df[col] = df[col].method(value) instead, to perform the operation inplace on the original object.\n",
            "\n",
            "\n",
            "  wine['alcohol'].fillna(10, inplace=True)\n",
            "<ipython-input-8-00695163125a>:3: FutureWarning: A value is trying to be set on a copy of a DataFrame or Series through chained assignment using an inplace method.\n",
            "The behavior will change in pandas 3.0. This inplace method will never work because the intermediate object on which we are setting values always behaves as a copy.\n",
            "\n",
            "For example, when doing 'df[col].method(value, inplace=True)', try using 'df.method({col: value}, inplace=True)' or df[col] = df[col].method(value) instead, to perform the operation inplace on the original object.\n",
            "\n",
            "\n",
            "  wine['magnesium'].fillna(100, inplace=True)\n"
          ]
        }
      ],
      "source": [
        "wine['alcohol'].fillna(10, inplace=True)\n",
        "print(wine.loc[:2, 'alcohol'])\n",
        "wine['magnesium'].fillna(100, inplace=True)\n",
        "print(wine.loc[3:4, 'magnesium'])"
      ]
    },
    {
      "cell_type": "markdown",
      "metadata": {
        "id": "wTo5iTWfy6gJ"
      },
      "source": [
        "### Step 9. Count the number of missing values"
      ]
    },
    {
      "cell_type": "code",
      "execution_count": null,
      "metadata": {
        "colab": {
          "base_uri": "https://localhost:8080/",
          "height": 303
        },
        "id": "PyRTsFH7y6gJ",
        "outputId": "4d16274c-f2c1-467d-bb04-e7fab5d0bf17"
      },
      "outputs": [
        {
          "output_type": "execute_result",
          "data": {
            "text/plain": [
              "alcohol              0\n",
              "malic_acid           0\n",
              "alcalinity_of_ash    0\n",
              "magnesium            0\n",
              "flavanoids           0\n",
              "proanthocyanins      0\n",
              "hue                  0\n",
              "dtype: int64"
            ],
            "text/html": [
              "<div>\n",
              "<style scoped>\n",
              "    .dataframe tbody tr th:only-of-type {\n",
              "        vertical-align: middle;\n",
              "    }\n",
              "\n",
              "    .dataframe tbody tr th {\n",
              "        vertical-align: top;\n",
              "    }\n",
              "\n",
              "    .dataframe thead th {\n",
              "        text-align: right;\n",
              "    }\n",
              "</style>\n",
              "<table border=\"1\" class=\"dataframe\">\n",
              "  <thead>\n",
              "    <tr style=\"text-align: right;\">\n",
              "      <th></th>\n",
              "      <th>0</th>\n",
              "    </tr>\n",
              "  </thead>\n",
              "  <tbody>\n",
              "    <tr>\n",
              "      <th>alcohol</th>\n",
              "      <td>0</td>\n",
              "    </tr>\n",
              "    <tr>\n",
              "      <th>malic_acid</th>\n",
              "      <td>0</td>\n",
              "    </tr>\n",
              "    <tr>\n",
              "      <th>alcalinity_of_ash</th>\n",
              "      <td>0</td>\n",
              "    </tr>\n",
              "    <tr>\n",
              "      <th>magnesium</th>\n",
              "      <td>0</td>\n",
              "    </tr>\n",
              "    <tr>\n",
              "      <th>flavanoids</th>\n",
              "      <td>0</td>\n",
              "    </tr>\n",
              "    <tr>\n",
              "      <th>proanthocyanins</th>\n",
              "      <td>0</td>\n",
              "    </tr>\n",
              "    <tr>\n",
              "      <th>hue</th>\n",
              "      <td>0</td>\n",
              "    </tr>\n",
              "  </tbody>\n",
              "</table>\n",
              "</div><br><label><b>dtype:</b> int64</label>"
            ]
          },
          "metadata": {},
          "execution_count": 9
        }
      ],
      "source": [
        "wine.isna().sum()"
      ]
    },
    {
      "cell_type": "markdown",
      "metadata": {
        "id": "VkqpJh4Uy6gJ"
      },
      "source": [
        "### Step 10.  Create an array of 10 random numbers up until 10"
      ]
    },
    {
      "cell_type": "code",
      "execution_count": null,
      "metadata": {
        "colab": {
          "base_uri": "https://localhost:8080/"
        },
        "id": "0GKCGZV4y6gK",
        "outputId": "b475e7e2-1f81-450f-e753-ce0c579fea23"
      },
      "outputs": [
        {
          "output_type": "execute_result",
          "data": {
            "text/plain": [
              "array([4, 1, 4, 9, 9, 4, 5, 2, 0, 1])"
            ]
          },
          "metadata": {},
          "execution_count": 13
        }
      ],
      "source": [
        "random_indices = np.random.randint(0, 10, 10)\n",
        "random_indices"
      ]
    },
    {
      "cell_type": "markdown",
      "metadata": {
        "id": "qmgdzDPzy6gK"
      },
      "source": [
        "### Step 11.  Use random numbers you generated as an index and assign NaN value to each of cell."
      ]
    },
    {
      "cell_type": "code",
      "execution_count": null,
      "metadata": {
        "id": "Ag82I1lMy6gK"
      },
      "outputs": [],
      "source": [
        "for index in random_indices:\n",
        "    wine.loc[index] = np.nan"
      ]
    },
    {
      "cell_type": "markdown",
      "metadata": {
        "id": "yE-cG_82y6gL"
      },
      "source": [
        "### Step 12.  How many missing values do we have?"
      ]
    },
    {
      "cell_type": "code",
      "execution_count": null,
      "metadata": {
        "colab": {
          "base_uri": "https://localhost:8080/"
        },
        "id": "-muTLc80y6gL",
        "outputId": "8fec3ddf-8ec3-4ecd-9a15-84ac0db0f772"
      },
      "outputs": [
        {
          "output_type": "execute_result",
          "data": {
            "text/plain": [
              "42"
            ]
          },
          "metadata": {},
          "execution_count": 16
        }
      ],
      "source": [
        "wine.isna().sum().sum()"
      ]
    },
    {
      "cell_type": "markdown",
      "metadata": {
        "id": "D-ivuZwDy6gL"
      },
      "source": [
        "### Step 13. Delete the rows that contain missing values"
      ]
    },
    {
      "cell_type": "code",
      "execution_count": null,
      "metadata": {
        "id": "0mOYaMYsy6gL"
      },
      "outputs": [],
      "source": [
        "wine.dropna(inplace=True)"
      ]
    },
    {
      "cell_type": "markdown",
      "metadata": {
        "id": "n1QqMLmdy6gM"
      },
      "source": [
        "### Step 14. Print only the non-null values in alcohol"
      ]
    },
    {
      "cell_type": "code",
      "execution_count": null,
      "metadata": {
        "colab": {
          "base_uri": "https://localhost:8080/",
          "height": 458
        },
        "id": "G-eqv43Gy6gM",
        "outputId": "40cfc9a7-7365-4cb0-96b5-a98b26ea981b"
      },
      "outputs": [
        {
          "output_type": "execute_result",
          "data": {
            "text/plain": [
              "3      14.37\n",
              "6      14.39\n",
              "7      14.06\n",
              "8      14.83\n",
              "10     14.10\n",
              "       ...  \n",
              "173    13.71\n",
              "174    13.40\n",
              "175    13.27\n",
              "176    13.17\n",
              "177    14.13\n",
              "Name: alcohol, Length: 172, dtype: float64"
            ],
            "text/html": [
              "<div>\n",
              "<style scoped>\n",
              "    .dataframe tbody tr th:only-of-type {\n",
              "        vertical-align: middle;\n",
              "    }\n",
              "\n",
              "    .dataframe tbody tr th {\n",
              "        vertical-align: top;\n",
              "    }\n",
              "\n",
              "    .dataframe thead th {\n",
              "        text-align: right;\n",
              "    }\n",
              "</style>\n",
              "<table border=\"1\" class=\"dataframe\">\n",
              "  <thead>\n",
              "    <tr style=\"text-align: right;\">\n",
              "      <th></th>\n",
              "      <th>alcohol</th>\n",
              "    </tr>\n",
              "  </thead>\n",
              "  <tbody>\n",
              "    <tr>\n",
              "      <th>3</th>\n",
              "      <td>14.37</td>\n",
              "    </tr>\n",
              "    <tr>\n",
              "      <th>6</th>\n",
              "      <td>14.39</td>\n",
              "    </tr>\n",
              "    <tr>\n",
              "      <th>7</th>\n",
              "      <td>14.06</td>\n",
              "    </tr>\n",
              "    <tr>\n",
              "      <th>8</th>\n",
              "      <td>14.83</td>\n",
              "    </tr>\n",
              "    <tr>\n",
              "      <th>10</th>\n",
              "      <td>14.10</td>\n",
              "    </tr>\n",
              "    <tr>\n",
              "      <th>...</th>\n",
              "      <td>...</td>\n",
              "    </tr>\n",
              "    <tr>\n",
              "      <th>173</th>\n",
              "      <td>13.71</td>\n",
              "    </tr>\n",
              "    <tr>\n",
              "      <th>174</th>\n",
              "      <td>13.40</td>\n",
              "    </tr>\n",
              "    <tr>\n",
              "      <th>175</th>\n",
              "      <td>13.27</td>\n",
              "    </tr>\n",
              "    <tr>\n",
              "      <th>176</th>\n",
              "      <td>13.17</td>\n",
              "    </tr>\n",
              "    <tr>\n",
              "      <th>177</th>\n",
              "      <td>14.13</td>\n",
              "    </tr>\n",
              "  </tbody>\n",
              "</table>\n",
              "<p>172 rows × 1 columns</p>\n",
              "</div><br><label><b>dtype:</b> float64</label>"
            ]
          },
          "metadata": {},
          "execution_count": 18
        }
      ],
      "source": [
        "wine['alcohol'].dropna()"
      ]
    },
    {
      "cell_type": "markdown",
      "metadata": {
        "id": "I93jAGEDy6gM"
      },
      "source": [
        "### Step 15.  Reset the index, so it starts with 0 again"
      ]
    },
    {
      "cell_type": "code",
      "execution_count": null,
      "metadata": {
        "id": "vkXcEcTOy6gN"
      },
      "outputs": [],
      "source": [
        "wine.reset_index(drop=True, inplace=True)"
      ]
    },
    {
      "cell_type": "markdown",
      "metadata": {
        "id": "OzMsz6tdy6gN"
      },
      "source": [
        "### BONUS: Create your own question and answer it."
      ]
    },
    {
      "cell_type": "code",
      "execution_count": null,
      "metadata": {
        "collapsed": true,
        "colab": {
          "base_uri": "https://localhost:8080/",
          "height": 303
        },
        "id": "DTj0pmK_y6gO",
        "outputId": "3e629425-63e3-4e96-d645-f6366b1e4ee2"
      },
      "outputs": [
        {
          "output_type": "execute_result",
          "data": {
            "text/plain": [
              "alcohol              12.978023\n",
              "malic_acid            2.350698\n",
              "alcalinity_of_ash    19.607558\n",
              "magnesium            99.331395\n",
              "flavanoids            1.993721\n",
              "proanthocyanins       1.576512\n",
              "hue                   0.954686\n",
              "dtype: float64"
            ],
            "text/html": [
              "<div>\n",
              "<style scoped>\n",
              "    .dataframe tbody tr th:only-of-type {\n",
              "        vertical-align: middle;\n",
              "    }\n",
              "\n",
              "    .dataframe tbody tr th {\n",
              "        vertical-align: top;\n",
              "    }\n",
              "\n",
              "    .dataframe thead th {\n",
              "        text-align: right;\n",
              "    }\n",
              "</style>\n",
              "<table border=\"1\" class=\"dataframe\">\n",
              "  <thead>\n",
              "    <tr style=\"text-align: right;\">\n",
              "      <th></th>\n",
              "      <th>0</th>\n",
              "    </tr>\n",
              "  </thead>\n",
              "  <tbody>\n",
              "    <tr>\n",
              "      <th>alcohol</th>\n",
              "      <td>12.978023</td>\n",
              "    </tr>\n",
              "    <tr>\n",
              "      <th>malic_acid</th>\n",
              "      <td>2.350698</td>\n",
              "    </tr>\n",
              "    <tr>\n",
              "      <th>alcalinity_of_ash</th>\n",
              "      <td>19.607558</td>\n",
              "    </tr>\n",
              "    <tr>\n",
              "      <th>magnesium</th>\n",
              "      <td>99.331395</td>\n",
              "    </tr>\n",
              "    <tr>\n",
              "      <th>flavanoids</th>\n",
              "      <td>1.993721</td>\n",
              "    </tr>\n",
              "    <tr>\n",
              "      <th>proanthocyanins</th>\n",
              "      <td>1.576512</td>\n",
              "    </tr>\n",
              "    <tr>\n",
              "      <th>hue</th>\n",
              "      <td>0.954686</td>\n",
              "    </tr>\n",
              "  </tbody>\n",
              "</table>\n",
              "</div><br><label><b>dtype:</b> float64</label>"
            ]
          },
          "metadata": {},
          "execution_count": 20
        }
      ],
      "source": [
        "# Example: Find the mean of each column after cleaning\n",
        "wine.mean()"
      ]
    }
  ],
  "metadata": {
    "kernelspec": {
      "display_name": "Python [default]",
      "language": "python",
      "name": "python2"
    },
    "language_info": {
      "codemirror_mode": {
        "name": "ipython",
        "version": 2
      },
      "file_extension": ".py",
      "mimetype": "text/x-python",
      "name": "python",
      "nbconvert_exporter": "python",
      "pygments_lexer": "ipython2",
      "version": "2.7.12"
    },
    "colab": {
      "provenance": [],
      "include_colab_link": true
    }
  },
  "nbformat": 4,
  "nbformat_minor": 0
}