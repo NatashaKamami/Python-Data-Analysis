{
  "cells": [
    {
      "cell_type": "markdown",
      "metadata": {
        "id": "view-in-github",
        "colab_type": "text"
      },
      "source": [
        "<a href=\"https://colab.research.google.com/github/NatashaKamami/Python-Data-Analysis/blob/main/Numpy_Exercise1.ipynb\" target=\"_parent\"><img src=\"https://colab.research.google.com/assets/colab-badge.svg\" alt=\"Open In Colab\"/></a>"
      ]
    },
    {
      "cell_type": "markdown",
      "metadata": {
        "id": "DPzSvKn77p9d"
      },
      "source": [
        "# Numpy Exercise 1\n",
        "\n",
        "### All of the questions in this exercise are attributed to rougier/numpy-100"
      ]
    },
    {
      "cell_type": "code",
      "execution_count": null,
      "metadata": {
        "id": "ti7ast3s7p9i"
      },
      "outputs": [],
      "source": []
    },
    {
      "cell_type": "markdown",
      "metadata": {
        "id": "K0gmQsV87p9k"
      },
      "source": [
        "#### 1. Import the numpy package under the name `np` (★☆☆)"
      ]
    },
    {
      "cell_type": "code",
      "execution_count": null,
      "metadata": {
        "id": "uQvtoE5a7p9m"
      },
      "outputs": [],
      "source": [
        "import numpy as np"
      ]
    },
    {
      "cell_type": "markdown",
      "metadata": {
        "id": "4MIc8JlU7p9m"
      },
      "source": [
        "#### 2. Print the numpy version and the configuration (★☆☆)"
      ]
    },
    {
      "cell_type": "code",
      "execution_count": null,
      "metadata": {
        "colab": {
          "base_uri": "https://localhost:8080/",
          "height": 35
        },
        "id": "vrE66m087p9n",
        "outputId": "77d5bc0d-1eca-4384-a970-eda0d859ae1b"
      },
      "outputs": [
        {
          "output_type": "execute_result",
          "data": {
            "text/plain": [
              "'1.26.4'"
            ],
            "application/vnd.google.colaboratory.intrinsic+json": {
              "type": "string"
            }
          },
          "metadata": {},
          "execution_count": 3
        }
      ],
      "source": [
        "np.__version__"
      ]
    },
    {
      "cell_type": "markdown",
      "metadata": {
        "id": "7ljjaa9P7p9o"
      },
      "source": [
        "#### 3. Create a null vector of size 10 (★☆☆)"
      ]
    },
    {
      "cell_type": "code",
      "execution_count": null,
      "metadata": {
        "colab": {
          "base_uri": "https://localhost:8080/"
        },
        "id": "QmBCZBVX7p9o",
        "outputId": "f444203d-da74-44bf-f044-60d6120e0fd5"
      },
      "outputs": [
        {
          "output_type": "execute_result",
          "data": {
            "text/plain": [
              "array([0., 0., 0., 0., 0., 0., 0., 0., 0., 0.])"
            ]
          },
          "metadata": {},
          "execution_count": 5
        }
      ],
      "source": [
        "null_vector = np.zeros(10)\n",
        "null_vector"
      ]
    },
    {
      "cell_type": "markdown",
      "metadata": {
        "id": "Gi5XGBGL7p9p"
      },
      "source": [
        "#### 4. How to find the memory size of any array (★☆☆)"
      ]
    },
    {
      "cell_type": "code",
      "execution_count": null,
      "metadata": {
        "colab": {
          "base_uri": "https://localhost:8080/"
        },
        "id": "spH8Tc5_7p9q",
        "outputId": "42e78051-37af-4169-aea2-7c6bc09f1d83"
      },
      "outputs": [
        {
          "output_type": "execute_result",
          "data": {
            "text/plain": [
              "80"
            ]
          },
          "metadata": {},
          "execution_count": 11
        }
      ],
      "source": [
        "null_vector.nbytes"
      ]
    },
    {
      "cell_type": "markdown",
      "metadata": {
        "id": "U5sVJgY67p9q"
      },
      "source": [
        "#### 5. How to get the documentation of the numpy add function from the command line? (★☆☆)"
      ]
    },
    {
      "cell_type": "code",
      "execution_count": null,
      "metadata": {
        "id": "hU0-5hw37p9r"
      },
      "outputs": [],
      "source": [
        "np.add?"
      ]
    },
    {
      "cell_type": "markdown",
      "metadata": {
        "id": "0uv_xuft7p9r"
      },
      "source": [
        "#### 6. Create a null vector of size 10 but the fifth value which is 1 (★☆☆)"
      ]
    },
    {
      "cell_type": "code",
      "execution_count": null,
      "metadata": {
        "colab": {
          "base_uri": "https://localhost:8080/"
        },
        "id": "8vY7282d7p9r",
        "outputId": "f8655dba-5741-43e2-cd5b-fc1bfd9b216f"
      },
      "outputs": [
        {
          "output_type": "execute_result",
          "data": {
            "text/plain": [
              "array([0., 0., 0., 0., 1., 0., 0., 0., 0., 0.])"
            ]
          },
          "metadata": {},
          "execution_count": 8
        }
      ],
      "source": [
        "null_vector1 = np.zeros(10)\n",
        "null_vector1[4] = 1\n",
        "null_vector1"
      ]
    },
    {
      "cell_type": "markdown",
      "metadata": {
        "id": "iqiNGLNW7p9s"
      },
      "source": [
        "#### 7. Create a vector with values ranging from 10 to 49 (★☆☆)"
      ]
    },
    {
      "cell_type": "code",
      "execution_count": null,
      "metadata": {
        "colab": {
          "base_uri": "https://localhost:8080/"
        },
        "id": "Kx_xPsJS7p9s",
        "outputId": "27c0f9ab-ef1f-4733-b32f-d82b73791d19"
      },
      "outputs": [
        {
          "output_type": "execute_result",
          "data": {
            "text/plain": [
              "array([10, 11, 12, 13, 14, 15, 16, 17, 18, 19, 20, 21, 22, 23, 24, 25, 26,\n",
              "       27, 28, 29, 30, 31, 32, 33, 34, 35, 36, 37, 38, 39, 40, 41, 42, 43,\n",
              "       44, 45, 46, 47, 48])"
            ]
          },
          "metadata": {},
          "execution_count": 10
        }
      ],
      "source": [
        "vector = np.arange(10, 49)\n",
        "vector"
      ]
    },
    {
      "cell_type": "markdown",
      "metadata": {
        "id": "AoHkoGKv7p9s"
      },
      "source": [
        "#### 8. Reverse a vector (first element becomes last) (★☆☆)"
      ]
    },
    {
      "cell_type": "code",
      "execution_count": null,
      "metadata": {
        "colab": {
          "base_uri": "https://localhost:8080/"
        },
        "id": "LQzQFAsr7p9t",
        "outputId": "b43e7b9f-760e-49e6-dccf-de3296c15cf7"
      },
      "outputs": [
        {
          "output_type": "execute_result",
          "data": {
            "text/plain": [
              "array([9, 7, 5, 3, 1])"
            ]
          },
          "metadata": {},
          "execution_count": 12
        }
      ],
      "source": [
        "array = np.array([1, 3, 5, 7, 9])\n",
        "array[::-1]"
      ]
    },
    {
      "cell_type": "markdown",
      "metadata": {
        "id": "0Df0X4sH7p9t"
      },
      "source": [
        "#### 9. Create a 3x3 matrix with values ranging from 0 to 8 (★☆☆)"
      ]
    },
    {
      "cell_type": "code",
      "execution_count": null,
      "metadata": {
        "colab": {
          "base_uri": "https://localhost:8080/"
        },
        "id": "vxlJXA4S7p9t",
        "outputId": "3a27153c-8f79-4a4f-8cee-0e861433f07a"
      },
      "outputs": [
        {
          "output_type": "execute_result",
          "data": {
            "text/plain": [
              "array([[0, 1, 2],\n",
              "       [3, 4, 5],\n",
              "       [6, 7, 8]])"
            ]
          },
          "metadata": {},
          "execution_count": 18
        }
      ],
      "source": [
        "vector1 = np.arange(0, 9).reshape(3,3)\n",
        "vector1"
      ]
    },
    {
      "cell_type": "markdown",
      "metadata": {
        "id": "o74C7_wY7p9u"
      },
      "source": [
        "#### 10. Find indices of non-zero elements from [1,2,0,0,4,0] (★☆☆)"
      ]
    },
    {
      "cell_type": "code",
      "execution_count": null,
      "metadata": {
        "colab": {
          "base_uri": "https://localhost:8080/"
        },
        "id": "PNAlzh3d7p9u",
        "outputId": "cfe9985c-38b6-4011-aa6a-135f0db5ec1c"
      },
      "outputs": [
        {
          "output_type": "execute_result",
          "data": {
            "text/plain": [
              "(array([0, 1, 4]),)"
            ]
          },
          "metadata": {},
          "execution_count": 20
        }
      ],
      "source": [
        "array1 = np.array([1, 2, 0, 0, 4, 0])\n",
        "np.nonzero(array1)"
      ]
    },
    {
      "cell_type": "markdown",
      "metadata": {
        "id": "btF-YZRx7p9u"
      },
      "source": [
        "#### 11. Create a 3x3 identity matrix (★☆☆)"
      ]
    },
    {
      "cell_type": "code",
      "execution_count": null,
      "metadata": {
        "colab": {
          "base_uri": "https://localhost:8080/"
        },
        "id": "8lvxWbGY7p9u",
        "outputId": "a0da52d8-f5d3-4187-c70f-300611418f36"
      },
      "outputs": [
        {
          "output_type": "execute_result",
          "data": {
            "text/plain": [
              "array([[1., 0., 0.],\n",
              "       [0., 1., 0.],\n",
              "       [0., 0., 1.]])"
            ]
          },
          "metadata": {},
          "execution_count": 22
        }
      ],
      "source": [
        "identity_matrix = np.eye(3)\n",
        "identity_matrix"
      ]
    },
    {
      "cell_type": "markdown",
      "metadata": {
        "id": "TkdEC9Rk7p9v"
      },
      "source": [
        "#### 12. Create a 3x3x3 array with random values (★☆☆)"
      ]
    },
    {
      "cell_type": "code",
      "execution_count": null,
      "metadata": {
        "colab": {
          "base_uri": "https://localhost:8080/"
        },
        "id": "qZr2T2-t7p9v",
        "outputId": "2ecefb5c-db2b-4f23-b6f0-f7196c920095"
      },
      "outputs": [
        {
          "output_type": "execute_result",
          "data": {
            "text/plain": [
              "array([[[8, 8, 3],\n",
              "        [1, 3, 6],\n",
              "        [9, 7, 3]],\n",
              "\n",
              "       [[7, 8, 6],\n",
              "        [3, 5, 5],\n",
              "        [5, 7, 4]],\n",
              "\n",
              "       [[7, 5, 8],\n",
              "        [8, 7, 6],\n",
              "        [7, 5, 8]]])"
            ]
          },
          "metadata": {},
          "execution_count": 28
        }
      ],
      "source": [
        "array3 = np.random.randint(1,10, size=(3,3,3))\n",
        "array3"
      ]
    },
    {
      "cell_type": "markdown",
      "metadata": {
        "id": "SWd9vAcG7p9v"
      },
      "source": [
        "#### 13. Create a 10x10 array with random values and find the minimum and maximum values (★☆☆)"
      ]
    },
    {
      "cell_type": "code",
      "execution_count": null,
      "metadata": {
        "colab": {
          "base_uri": "https://localhost:8080/"
        },
        "id": "oAmP1JTj7p9w",
        "outputId": "e6784387-9b79-461d-ba29-c61335f30af6"
      },
      "outputs": [
        {
          "output_type": "stream",
          "name": "stdout",
          "text": [
            "[[7.31182782e-01 9.89673755e-01 9.34428248e-01 5.02877510e-01\n",
            "  9.66951619e-02 4.39628569e-01 5.76351756e-01 6.14491545e-01\n",
            "  7.39027415e-01 9.32514782e-01]\n",
            " [2.06872512e-02 9.58224264e-01 5.25255193e-01 7.32746011e-04\n",
            "  1.49568217e-01 4.44875720e-01 5.32973464e-01 8.56216431e-01\n",
            "  2.57824750e-02 3.89395130e-01]\n",
            " [8.36688565e-01 9.23619120e-03 6.12922966e-01 6.41821268e-01\n",
            "  4.66408083e-01 3.20623778e-01 6.38897125e-01 6.10012909e-01\n",
            "  5.44290917e-01 9.94892392e-01]\n",
            " [3.68086659e-01 1.35788728e-01 5.92649268e-02 9.10197941e-01\n",
            "  4.92826619e-01 9.71933494e-01 8.76198426e-01 2.32193720e-01\n",
            "  8.04765206e-01 1.81944165e-02]\n",
            " [8.05814153e-01 2.64624090e-01 3.70030307e-01 8.19095132e-03\n",
            "  1.41643870e-01 2.57747243e-02 5.79453190e-02 8.04716151e-01\n",
            "  8.55037101e-01 8.09963334e-01]\n",
            " [1.73288525e-01 8.97251983e-01 4.80000265e-01 4.03836612e-01\n",
            "  6.51649175e-01 2.36293289e-01 4.82715169e-01 4.56749891e-01\n",
            "  2.22385308e-01 7.74609672e-01]\n",
            " [4.70374120e-03 8.30304630e-01 6.46700314e-01 9.41328823e-02\n",
            "  3.78346410e-01 7.57992589e-01 5.77334196e-01 3.32571260e-01\n",
            "  4.89155423e-01 3.88086706e-01]\n",
            " [3.87169664e-01 3.23913183e-01 5.70563705e-01 1.74340880e-01\n",
            "  3.56080485e-02 6.50179101e-01 3.30208042e-01 6.64791170e-03\n",
            "  1.61980432e-01 9.47507613e-01]\n",
            " [6.61826768e-02 5.71295494e-01 5.54560946e-02 4.93388033e-01\n",
            "  7.67322305e-01 7.50568846e-01 7.70326895e-01 7.67616588e-02\n",
            "  3.79750090e-01 3.12245648e-01]\n",
            " [2.07788089e-01 7.88797605e-01 3.87875437e-02 9.49545103e-01\n",
            "  7.45460811e-01 6.80707277e-01 7.84098508e-01 2.68141303e-02\n",
            "  8.31445513e-01 4.64853039e-01]]\n",
            "0.0007327460113549789\n",
            "0.9948923921377927\n"
          ]
        }
      ],
      "source": [
        "array4 = np.random.rand(10,10)\n",
        "min = np.min(array4)\n",
        "max = np.max(array4)\n",
        "#print(array4)\n",
        "print(min)\n",
        "print(max)"
      ]
    },
    {
      "cell_type": "markdown",
      "metadata": {
        "id": "mffMB0-V7p9w"
      },
      "source": [
        "#### 14. Create a random vector of size 30 and find the mean value (★☆☆)"
      ]
    },
    {
      "cell_type": "code",
      "execution_count": null,
      "metadata": {
        "colab": {
          "base_uri": "https://localhost:8080/"
        },
        "id": "8yhhtxd87p9x",
        "outputId": "b0997ff2-7be2-436a-8e13-3d5db19997c8"
      },
      "outputs": [
        {
          "output_type": "stream",
          "name": "stdout",
          "text": [
            "[33 79 24 66 43 21 87 60 53 73 27 26 73 64 19 88 92 87 56 20 75 82  6 52\n",
            " 61 82 64 71 39 80]\n",
            "56.766666666666666\n"
          ]
        }
      ],
      "source": [
        "random_vector = np.random.randint(1, 100, size=(30))\n",
        "mean = np.mean(random_vector)\n",
        "print(random_vector)\n",
        "print(mean)"
      ]
    },
    {
      "cell_type": "markdown",
      "metadata": {
        "id": "K_A0mF_l7p9x"
      },
      "source": [
        "#### 15. Create a 2d array with 1 on the border and 0 inside (★☆☆)"
      ]
    },
    {
      "cell_type": "code",
      "execution_count": null,
      "metadata": {
        "id": "bqzcJRNi7p9x"
      },
      "outputs": [],
      "source": [
        "import numpy as np\n",
        "\n",
        "def create_border_array(rows, cols):\n",
        "    # Create an array filled with zeros\n",
        "    array = np.zeros((rows, cols), dtype=int)\n",
        "\n",
        "    # Set the border elements to 1\n",
        "    array[0, :] = 1        # Top border\n",
        "    array[-1, :] = 1       # Bottom border\n",
        "    array[:, 0] = 1        # Left border\n",
        "    array[:, -1] = 1       # Right border\n",
        "\n",
        "    return array\n",
        "\n",
        "# Example usage\n",
        "rows = 5\n",
        "cols = 5\n",
        "border_array = create_border_array(rows, cols)\n",
        "\n",
        "print(border_array)\n"
      ]
    }
  ],
  "metadata": {
    "kernelspec": {
      "display_name": "Python 3",
      "language": "python",
      "name": "python3"
    },
    "language_info": {
      "codemirror_mode": {
        "name": "ipython",
        "version": 3
      },
      "file_extension": ".py",
      "mimetype": "text/x-python",
      "name": "python",
      "nbconvert_exporter": "python",
      "pygments_lexer": "ipython3",
      "version": "3.7.4"
    },
    "colab": {
      "provenance": [],
      "include_colab_link": true
    }
  },
  "nbformat": 4,
  "nbformat_minor": 0
}