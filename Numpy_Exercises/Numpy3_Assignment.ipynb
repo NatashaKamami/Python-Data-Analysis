{
  "cells": [
    {
      "cell_type": "markdown",
      "metadata": {
        "id": "view-in-github",
        "colab_type": "text"
      },
      "source": [
        "<a href=\"https://colab.research.google.com/github/NatashaKamami/Python-Data-Analysis/blob/main/Numpy3_Assignment.ipynb\" target=\"_parent\"><img src=\"https://colab.research.google.com/assets/colab-badge.svg\" alt=\"Open In Colab\"/></a>"
      ]
    },
    {
      "cell_type": "markdown",
      "metadata": {
        "id": "wWmWB8_I-6_K"
      },
      "source": [
        "# Numpy Exercise 3\n",
        "\n",
        "### All of the questions in this exercise are attributed to rougier/numpy-100"
      ]
    },
    {
      "cell_type": "code",
      "execution_count": null,
      "metadata": {
        "id": "jp6HuyYt-6_Q"
      },
      "outputs": [],
      "source": [
        "import numpy as np"
      ]
    },
    {
      "cell_type": "markdown",
      "metadata": {
        "id": "mBasRKQG-6_R"
      },
      "source": [
        "#### 31. How to ignore all numpy warnings (not recommended)? (★☆☆)"
      ]
    },
    {
      "cell_type": "code",
      "execution_count": null,
      "metadata": {
        "id": "ht-b3NKl-6_Y",
        "colab": {
          "base_uri": "https://localhost:8080/"
        },
        "outputId": "ada38990-f01d-4767-bc4c-cbb8aebe939b"
      },
      "outputs": [
        {
          "output_type": "stream",
          "name": "stdout",
          "text": [
            "[inf inf inf]\n"
          ]
        }
      ],
      "source": [
        "import warnings\n",
        "\n",
        "# Suppress all warnings\n",
        "warnings.filterwarnings(\"ignore\")\n",
        "\n",
        "# Example of code that might generate warnings\n",
        "# For instance, performing an invalid operation\n",
        "arr = np.array([1, 2, 3])\n",
        "invalid_operation = arr / 0  # This would normally generate a warning\n",
        "\n",
        "print(invalid_operation)\n"
      ]
    },
    {
      "cell_type": "markdown",
      "metadata": {
        "id": "H4BidIEM-6_Y"
      },
      "source": [
        "#### 32. Is the following expressions true? (★☆☆)\n",
        "```python\n",
        "np.sqrt(-1) == np.emath.sqrt(-1)\n",
        "```"
      ]
    },
    {
      "cell_type": "code",
      "execution_count": null,
      "metadata": {
        "colab": {
          "base_uri": "https://localhost:8080/"
        },
        "id": "lwiWtXMZ-6_Z",
        "outputId": "d28d88ae-c752-4ab3-d815-ba704a68a898"
      },
      "outputs": [
        {
          "output_type": "stream",
          "name": "stderr",
          "text": [
            "<ipython-input-2-16339fbc685e>:1: RuntimeWarning: invalid value encountered in sqrt\n",
            "  np.sqrt(-1) == np.emath.sqrt(-1)\n"
          ]
        },
        {
          "output_type": "execute_result",
          "data": {
            "text/plain": [
              "False"
            ]
          },
          "metadata": {},
          "execution_count": 2
        }
      ],
      "source": [
        "np.sqrt(-1) == np.emath.sqrt(-1)"
      ]
    },
    {
      "cell_type": "markdown",
      "metadata": {
        "id": "wc2gMtFs-6_Z"
      },
      "source": [
        "#### 33. How to get the dates of yesterday, today and tomorrow? (★☆☆)"
      ]
    },
    {
      "cell_type": "code",
      "execution_count": null,
      "metadata": {
        "colab": {
          "base_uri": "https://localhost:8080/"
        },
        "id": "sp75PDOf-6_d",
        "outputId": "000a3588-e375-4665-e803-776ffeead1db"
      },
      "outputs": [
        {
          "output_type": "stream",
          "name": "stdout",
          "text": [
            "Yesterday's date: 2024-10-26\n",
            "Today's date: 2024-10-27\n",
            "Tomorrow's date: 2024-10-28\n"
          ]
        }
      ],
      "source": [
        "today = np.datetime64('today', 'D')\n",
        "\n",
        "yesterday = today - np.timedelta64(1, 'D')\n",
        "tomorrow = today + np.timedelta64(1, 'D')\n",
        "\n",
        "print(\"Yesterday's date:\", yesterday)\n",
        "print(\"Today's date:\", today)\n",
        "print(\"Tomorrow's date:\", tomorrow)\n"
      ]
    },
    {
      "cell_type": "markdown",
      "metadata": {
        "id": "emOP6oJ5-6_e"
      },
      "source": [
        "#### 34. How to get all the dates corresponding to the month of July 2016? (★★☆)"
      ]
    },
    {
      "cell_type": "code",
      "execution_count": null,
      "metadata": {
        "colab": {
          "base_uri": "https://localhost:8080/"
        },
        "id": "k6vIh6iH-6_f",
        "outputId": "2b64240c-db39-469c-c4ca-79f4554bddf2"
      },
      "outputs": [
        {
          "output_type": "stream",
          "name": "stdout",
          "text": [
            "All dates in July 2016:\n",
            "['2016-07-01' '2016-07-02' '2016-07-03' '2016-07-04' '2016-07-05'\n",
            " '2016-07-06' '2016-07-07' '2016-07-08' '2016-07-09' '2016-07-10'\n",
            " '2016-07-11' '2016-07-12' '2016-07-13' '2016-07-14' '2016-07-15'\n",
            " '2016-07-16' '2016-07-17' '2016-07-18' '2016-07-19' '2016-07-20'\n",
            " '2016-07-21' '2016-07-22' '2016-07-23' '2016-07-24' '2016-07-25'\n",
            " '2016-07-26' '2016-07-27' '2016-07-28' '2016-07-29' '2016-07-30'\n",
            " '2016-07-31']\n"
          ]
        }
      ],
      "source": [
        "start_date = np.datetime64('2016-07-01')\n",
        "end_date = np.datetime64('2016-08-01')  # Next day after July\n",
        "\n",
        "# Generate all dates in July 2016\n",
        "july_dates = np.arange(start_date, end_date, dtype='datetime64[D]')\n",
        "\n",
        "print(\"All dates in July 2016:\")\n",
        "print(july_dates)\n"
      ]
    },
    {
      "cell_type": "markdown",
      "metadata": {
        "id": "MHVLATvk-6_g"
      },
      "source": [
        "#### 35. How to compute ((A+B)*(-A/2)) in place (without copy)? (★★☆)"
      ]
    },
    {
      "cell_type": "code",
      "execution_count": null,
      "metadata": {
        "colab": {
          "base_uri": "https://localhost:8080/"
        },
        "id": "5p0XWHlm-6_h",
        "outputId": "9254a24c-31c1-4cff-b1bd-fb48d1055950"
      },
      "outputs": [
        {
          "output_type": "stream",
          "name": "stdout",
          "text": [
            "Result in A:\n",
            "[ -2.5  -7.  -13.5]\n"
          ]
        }
      ],
      "source": [
        "A = np.array([1, 2, 3], dtype=float)\n",
        "B = np.array([4, 5, 6], dtype=float)\n",
        "\n",
        "# Compute (A + B) in place in a temporary variable\n",
        "temp = A + B\n",
        "\n",
        "# Update A in place to compute the final result\n",
        "A *= -0.5  # This updates A to -A/2\n",
        "A *= temp  # This computes (A + B) * (-A/2) in place\n",
        "\n",
        "print(\"Result in A:\")\n",
        "print(A)\n"
      ]
    },
    {
      "cell_type": "markdown",
      "metadata": {
        "id": "4WmOd_Zr-6_i"
      },
      "source": [
        "#### 36. Extract the integer part of a random array of positive numbers using 4 different methods (★★☆)"
      ]
    },
    {
      "cell_type": "code",
      "execution_count": null,
      "metadata": {
        "colab": {
          "base_uri": "https://localhost:8080/"
        },
        "id": "o7czvj-6-6_i",
        "outputId": "cdbfab98-b8e9-4599-9a07-6a3cacb69443"
      },
      "outputs": [
        {
          "output_type": "stream",
          "name": "stdout",
          "text": [
            "Original Array:\n",
            "[9.20766604 7.49378048 1.03092231 0.21093763 6.65542251]\n",
            "\n",
            "Integer Part using np.floor:\n",
            "[9 7 1 0 6]\n",
            "\n",
            "Integer Part using np.trunc:\n",
            "[9 7 1 0 6]\n",
            "\n",
            "Integer Part using np.floor_divide:\n",
            "[9. 7. 1. 0. 6.]\n",
            "\n",
            "Integer Part using astype(int):\n",
            "[9 7 1 0 6]\n"
          ]
        }
      ],
      "source": [
        "arr = np.random.rand(5) * 10  # Scale to get numbers between 0 and 10\n",
        "\n",
        "# Method 1: Using np.floor\n",
        "int_part_floor = np.floor(arr).astype(int)\n",
        "\n",
        "# Method 2: Using np.trunc\n",
        "int_part_trunc = np.trunc(arr).astype(int)\n",
        "\n",
        "# Method 3: Using np.floor_divide\n",
        "int_part_floor_divide = np.floor_divide(arr, 1)\n",
        "\n",
        "# Method 4: Using type casting (astype)\n",
        "int_part_cast = arr.astype(int)\n",
        "\n",
        "# Print the original array and integer parts\n",
        "print(\"Original Array:\")\n",
        "print(arr)\n",
        "print(\"\\nInteger Part using np.floor:\")\n",
        "print(int_part_floor)\n",
        "print(\"\\nInteger Part using np.trunc:\")\n",
        "print(int_part_trunc)\n",
        "print(\"\\nInteger Part using np.floor_divide:\")\n",
        "print(int_part_floor_divide)\n",
        "print(\"\\nInteger Part using astype(int):\")\n",
        "print(int_part_cast)\n"
      ]
    },
    {
      "cell_type": "markdown",
      "metadata": {
        "id": "4HZtyeKI-6_i"
      },
      "source": [
        "#### 37. Create a 5x5 matrix with row values ranging from 0 to 4 (★★☆)"
      ]
    },
    {
      "cell_type": "code",
      "execution_count": null,
      "metadata": {
        "colab": {
          "base_uri": "https://localhost:8080/"
        },
        "id": "xgu81UC0-6_i",
        "outputId": "c7e89553-943c-4f24-9ee8-d76f2db2c383"
      },
      "outputs": [
        {
          "output_type": "stream",
          "name": "stdout",
          "text": [
            "5x5 Matrix:\n",
            "[[0 1 2 3 4]\n",
            " [0 1 2 3 4]\n",
            " [0 1 2 3 4]\n",
            " [0 1 2 3 4]\n",
            " [0 1 2 3 4]]\n"
          ]
        }
      ],
      "source": [
        "matrix = np.tile(np.arange(5), (5, 1))\n",
        "\n",
        "print(\"5x5 Matrix:\")\n",
        "print(matrix)\n"
      ]
    },
    {
      "cell_type": "markdown",
      "metadata": {
        "id": "eCuphc3F-6_j"
      },
      "source": [
        "#### 38. Consider a generator function that generates 10 integers and use it to build an array (★☆☆)"
      ]
    },
    {
      "cell_type": "code",
      "execution_count": null,
      "metadata": {
        "colab": {
          "base_uri": "https://localhost:8080/"
        },
        "id": "f1UJpZ3h-6_j",
        "outputId": "6146eb16-0901-48c3-b589-78df9e7f5e86"
      },
      "outputs": [
        {
          "output_type": "stream",
          "name": "stdout",
          "text": [
            "Generated Array:\n",
            "[99 52  7 93 66 22 19  1 46 28]\n"
          ]
        }
      ],
      "source": [
        "import numpy as np\n",
        "\n",
        "# Define the generator function\n",
        "def generate_integers(n):\n",
        "    for _ in range(n):\n",
        "        yield np.random.randint(0, 100)  # Generate integers between 0 and 99\n",
        "\n",
        "# Use the generator to build an array\n",
        "generator = generate_integers(10)\n",
        "array = np.array(list(generator))\n",
        "\n",
        "print(\"Generated Array:\")\n",
        "print(array)\n"
      ]
    },
    {
      "cell_type": "markdown",
      "metadata": {
        "id": "KM0vAscN-6_j"
      },
      "source": [
        "#### 39. Create a vector of size 10 with values ranging from 0 to 1, both excluded (★★☆)"
      ]
    },
    {
      "cell_type": "code",
      "execution_count": null,
      "metadata": {
        "colab": {
          "base_uri": "https://localhost:8080/"
        },
        "id": "YZGLARDP-6_k",
        "outputId": "4c62bb32-2a9e-446b-feb0-ce96f55d6eac"
      },
      "outputs": [
        {
          "output_type": "stream",
          "name": "stdout",
          "text": [
            "Vector using np.linspace:\n",
            "[0.09090909 0.18181818 0.27272727 0.36363636 0.45454545 0.54545455\n",
            " 0.63636364 0.72727273 0.81818182 0.90909091]\n"
          ]
        }
      ],
      "source": [
        "import numpy as np\n",
        "\n",
        "# Create a vector with values ranging from 0 to 1, both excluded\n",
        "vector_linspace = np.linspace(0, 1, 12)[1:-1]  # Generates 12 points and excludes the first and last\n",
        "\n",
        "print(\"Vector using np.linspace:\")\n",
        "print(vector_linspace)\n"
      ]
    },
    {
      "cell_type": "markdown",
      "metadata": {
        "id": "nC0jJwg7-6_k"
      },
      "source": [
        "#### 40. Create a random vector of size 10 and sort it (★★☆)"
      ]
    },
    {
      "cell_type": "code",
      "execution_count": null,
      "metadata": {
        "colab": {
          "base_uri": "https://localhost:8080/"
        },
        "id": "69ejCthL-6_k",
        "outputId": "da049fa9-392a-400f-96b8-e27cce0a1881"
      },
      "outputs": [
        {
          "output_type": "stream",
          "name": "stdout",
          "text": [
            "[0.48313991 0.21956455 0.55441359 0.15559095 0.08252572 0.89700314\n",
            " 0.45495979 0.71628588 0.21995712 0.84337122]\n",
            "[0.08252572 0.15559095 0.21956455 0.21995712 0.45495979 0.48313991\n",
            " 0.55441359 0.71628588 0.84337122 0.89700314]\n"
          ]
        }
      ],
      "source": [
        "random_vector = np.random.rand(10)\n",
        "sorted_vector = np.sort(random_vector)\n",
        "\n",
        "print(random_vector)\n",
        "print(sorted_vector)\n"
      ]
    },
    {
      "cell_type": "markdown",
      "metadata": {
        "id": "7k0SS87H-6_l"
      },
      "source": [
        "#### 41. How to sum a small array faster than np.sum? (★★☆)"
      ]
    },
    {
      "cell_type": "code",
      "execution_count": null,
      "metadata": {
        "id": "w8jQRpgF-6_l",
        "colab": {
          "base_uri": "https://localhost:8080/"
        },
        "outputId": "773721ac-3683-4bff-d405-ec7d8d045019"
      },
      "outputs": [
        {
          "output_type": "stream",
          "name": "stdout",
          "text": [
            "15\n"
          ]
        }
      ],
      "source": [
        "small_array = [1, 2, 3, 4, 5]\n",
        "result = sum(small_array)\n",
        "print(result)"
      ]
    },
    {
      "cell_type": "markdown",
      "metadata": {
        "id": "29a2lAsB-6_l"
      },
      "source": [
        "#### 42. Consider two random array A and B, check if they are equal (★★☆)"
      ]
    },
    {
      "cell_type": "code",
      "execution_count": null,
      "metadata": {
        "colab": {
          "base_uri": "https://localhost:8080/"
        },
        "id": "lFuQIBUC-6_l",
        "outputId": "9c7b81b6-4a4b-478d-98c3-0652792f6f01"
      },
      "outputs": [
        {
          "output_type": "stream",
          "name": "stdout",
          "text": [
            "[0.17284307 0.4720461  0.71602738 0.36354219 0.41144299]\n",
            "[0.2406358  0.75136411 0.09594569 0.82625949 0.75958125]\n",
            "\n",
            "Are A and B equal? False\n"
          ]
        }
      ],
      "source": [
        "A = np.random.rand(5)  # Array of size 5 with random values\n",
        "B = np.random.rand(5)  # Another array of the same size with random values\n",
        "\n",
        "# Check if they are equal\n",
        "are_equal = np.array_equal(A, B)\n",
        "\n",
        "\n",
        "print(A)\n",
        "print(B)\n",
        "print(\"\\nAre A and B equal?\", are_equal)\n"
      ]
    },
    {
      "cell_type": "markdown",
      "metadata": {
        "id": "I_0D2hSY-6_l"
      },
      "source": [
        "#### 43. Make an array immutable (read-only) (★★☆)"
      ]
    },
    {
      "cell_type": "code",
      "execution_count": null,
      "metadata": {
        "id": "wKPAyxZT-6_m",
        "colab": {
          "base_uri": "https://localhost:8080/"
        },
        "outputId": "7f836af7-94f3-493c-8c88-b774e04a00b6"
      },
      "outputs": [
        {
          "output_type": "stream",
          "name": "stdout",
          "text": [
            "Error: assignment destination is read-only\n",
            "[1 2 3 4 5]\n"
          ]
        }
      ],
      "source": [
        "arr = np.array([1, 2, 3, 4, 5])\n",
        "\n",
        "# Make the array read-only\n",
        "arr.setflags(write=False)\n",
        "\n",
        "# Try to modify the array (this will raise an error)\n",
        "try:\n",
        "    arr[0] = 10\n",
        "except ValueError as e:\n",
        "    print(f\"Error: {e}\")\n",
        "\n",
        "# You can still read the values\n",
        "print(arr)\n"
      ]
    },
    {
      "cell_type": "markdown",
      "metadata": {
        "id": "OfuHRmVn-6_m"
      },
      "source": [
        "#### 44. Consider a random 10x2 matrix representing cartesian coordinates, convert them to polar coordinates (★★☆)"
      ]
    },
    {
      "cell_type": "code",
      "execution_count": null,
      "metadata": {
        "id": "6fqhBpjY-6_n",
        "colab": {
          "base_uri": "https://localhost:8080/"
        },
        "outputId": "dd9adc4d-5a71-43d8-a8cf-e1f89205616e"
      },
      "outputs": [
        {
          "output_type": "stream",
          "name": "stdout",
          "text": [
            "Cartesian coordinates:\n",
            " [[0.16444063 0.15007776]\n",
            " [0.74679576 0.8810789 ]\n",
            " [0.99184014 0.52423595]\n",
            " [0.78007286 0.66514192]\n",
            " [0.41182483 0.50070521]\n",
            " [0.54411424 0.44897162]\n",
            " [0.56441546 0.42774989]\n",
            " [0.47619981 0.56282716]\n",
            " [0.15854509 0.47891424]\n",
            " [0.08046697 0.21563079]]\n",
            "\n",
            "Polar coordinates (r, theta):\n",
            " [[0.22262986 0.73976366]\n",
            " [1.15499088 0.86770167]\n",
            " [1.12186015 0.48622498]\n",
            " [1.02514752 0.70604002]\n",
            " [0.64830965 0.88249185]\n",
            " [0.70543308 0.68988465]\n",
            " [0.70819121 0.6485148 ]\n",
            " [0.7372521  0.86857932]\n",
            " [0.50447537 1.25110118]\n",
            " [0.23015554 1.21363088]]\n"
          ]
        }
      ],
      "source": [
        "# Generate a random 10x2 matrix representing Cartesian coordinates\n",
        "cartesian_coords = np.random.rand(10, 2)\n",
        "\n",
        "# Extract x and y coordinates\n",
        "x = cartesian_coords[:, 0]\n",
        "y = cartesian_coords[:, 1]\n",
        "\n",
        "# Convert to polar coordinates\n",
        "r = np.sqrt(x**2 + y**2)               # radius\n",
        "theta = np.arctan2(y, x)                # angle in radians\n",
        "\n",
        "# Combine r and theta into a single array\n",
        "polar_coords = np.column_stack((r, theta))\n",
        "\n",
        "# Output the results\n",
        "print(\"Cartesian coordinates:\\n\", cartesian_coords)\n",
        "print(\"\\nPolar coordinates (r, theta):\\n\", polar_coords)\n"
      ]
    },
    {
      "cell_type": "markdown",
      "metadata": {
        "id": "QvklePHS-6_n"
      },
      "source": [
        "#### 45. Create random vector of size 10 and replace the maximum value by 0 (★★☆)"
      ]
    },
    {
      "cell_type": "code",
      "execution_count": null,
      "metadata": {
        "colab": {
          "base_uri": "https://localhost:8080/"
        },
        "id": "9uDOKqH_-6_o",
        "outputId": "67ea749d-fb43-46a7-ab60-22f70b8f8e54"
      },
      "outputs": [
        {
          "output_type": "stream",
          "name": "stdout",
          "text": [
            "Random Vector:\n",
            "[0.23394314 0.19422801 0.         0.57556867 0.12844642 0.8178774\n",
            " 0.51612984 0.33937017 0.60791628 0.12734012]\n"
          ]
        }
      ],
      "source": [
        "vector = np.random.rand(10)\n",
        "\n",
        "max_index = np.argmax(vector)\n",
        "\n",
        "vector[max_index] = 0\n",
        "\n",
        "print(\"Random Vector:\")\n",
        "print(vector)\n"
      ]
    }
  ],
  "metadata": {
    "kernelspec": {
      "display_name": "Python 3",
      "language": "python",
      "name": "python3"
    },
    "language_info": {
      "codemirror_mode": {
        "name": "ipython",
        "version": 3
      },
      "file_extension": ".py",
      "mimetype": "text/x-python",
      "name": "python",
      "nbconvert_exporter": "python",
      "pygments_lexer": "ipython3",
      "version": "3.7.4"
    },
    "colab": {
      "provenance": [],
      "include_colab_link": true
    }
  },
  "nbformat": 4,
  "nbformat_minor": 0
}