{
  "cells": [
    {
      "cell_type": "markdown",
      "metadata": {
        "id": "view-in-github",
        "colab_type": "text"
      },
      "source": [
        "<a href=\"https://colab.research.google.com/github/NatashaKamami/Python-Data-Analysis/blob/main/Pandas_Exercise1.ipynb\" target=\"_parent\"><img src=\"https://colab.research.google.com/assets/colab-badge.svg\" alt=\"Open In Colab\"/></a>"
      ]
    },
    {
      "cell_type": "markdown",
      "metadata": {
        "id": "hyAqF3qN5ubc"
      },
      "source": [
        "# Pokemon"
      ]
    },
    {
      "cell_type": "markdown",
      "metadata": {
        "id": "tCKAb2_s5ubg"
      },
      "source": [
        "### Introduction:\n",
        "\n",
        "This time you will create the data.\n",
        "\n",
        "\n",
        "\n",
        "### Step 1. Import the necessary libraries"
      ]
    },
    {
      "cell_type": "code",
      "execution_count": null,
      "metadata": {
        "id": "gdVfQjOl5ubi"
      },
      "outputs": [],
      "source": [
        "import pandas as pd\n",
        "import numpy as np\n"
      ]
    },
    {
      "cell_type": "markdown",
      "metadata": {
        "id": "IdqwEtQ75ubj"
      },
      "source": [
        "### Step 2. Create a data dictionary that looks like the DataFrame below"
      ]
    },
    {
      "cell_type": "code",
      "execution_count": null,
      "metadata": {
        "collapsed": true,
        "colab": {
          "base_uri": "https://localhost:8080/"
        },
        "id": "n1eKXFEc5ubk",
        "outputId": "2e5416b2-59ee-4869-81d3-f7acbc03aea6"
      },
      "outputs": [
        {
          "output_type": "stream",
          "name": "stdout",
          "text": [
            "{'evolution': ['Ivysaur', 'Charmeleon', 'Wartortle', 'Metapod'], 'hp': [45, 39, 44, 45], 'name': ['Bulbasaur', 'Charmander', 'Squirtle', 'Caterpie'], 'pokedex': ['yes', 'no', 'yes', 'no'], 'type': ['grass', 'fire', 'water', 'bug']}\n"
          ]
        }
      ],
      "source": [
        "data = {\n",
        "    'evolution': ['Ivysaur', 'Charmeleon', 'Wartortle', 'Metapod'],\n",
        "    'hp': [45, 39, 44, 45],\n",
        "    'name': ['Bulbasaur', 'Charmander', 'Squirtle', 'Caterpie'],\n",
        "    'pokedex': ['yes', 'no', 'yes', 'no'],\n",
        "    'type': ['grass', 'fire', 'water', 'bug']\n",
        "}\n",
        "print(data)"
      ]
    },
    {
      "cell_type": "markdown",
      "metadata": {
        "id": "gEaoT8Zl5ubm"
      },
      "source": [
        "### Step 3. Assign it to a variable called pokemon"
      ]
    },
    {
      "cell_type": "code",
      "execution_count": null,
      "metadata": {
        "colab": {
          "base_uri": "https://localhost:8080/"
        },
        "id": "YbCrPjLM5ubn",
        "outputId": "21ac41bd-539a-47c5-8036-f0bdb4819613"
      },
      "outputs": [
        {
          "output_type": "stream",
          "name": "stdout",
          "text": [
            "    evolution  hp        name pokedex   type\n",
            "0     Ivysaur  45   Bulbasaur     yes  grass\n",
            "1  Charmeleon  39  Charmander      no   fire\n",
            "2   Wartortle  44    Squirtle     yes  water\n",
            "3     Metapod  45    Caterpie      no    bug\n"
          ]
        }
      ],
      "source": [
        "pokemon = pd.DataFrame(data)\n",
        "print(pokemon)"
      ]
    },
    {
      "cell_type": "markdown",
      "metadata": {
        "id": "i6pYK9gV5ubq"
      },
      "source": [
        "### Step 4. Ops...it seems the DataFrame columns are in alphabetical order. Place  the order of the columns as name, type, hp, evolution, pokedex"
      ]
    },
    {
      "cell_type": "code",
      "execution_count": null,
      "metadata": {
        "colab": {
          "base_uri": "https://localhost:8080/"
        },
        "id": "q1j5IIzT5ubs",
        "outputId": "d26e1e25-08e7-41b0-9065-72ffc4141df1"
      },
      "outputs": [
        {
          "output_type": "stream",
          "name": "stdout",
          "text": [
            "         name   type  hp   evolution pokedex\n",
            "0   Bulbasaur  grass  45     Ivysaur     yes\n",
            "1  Charmander   fire  39  Charmeleon      no\n",
            "2    Squirtle  water  44   Wartortle     yes\n",
            "3    Caterpie    bug  45     Metapod      no\n"
          ]
        }
      ],
      "source": [
        "pokemon = pokemon[['name', 'type', 'hp', 'evolution', 'pokedex']]\n",
        "print(pokemon)"
      ]
    },
    {
      "cell_type": "markdown",
      "metadata": {
        "id": "44iOnyf95ubs"
      },
      "source": [
        "### Step 5. Add another column called place, and insert what you have in mind."
      ]
    },
    {
      "cell_type": "code",
      "execution_count": null,
      "metadata": {
        "id": "RSxdeR1p5ubt"
      },
      "outputs": [],
      "source": [
        "pokemon['place'] = ['Kanto', 'Kanto', 'Kanto', 'Kanto']\n"
      ]
    },
    {
      "cell_type": "markdown",
      "metadata": {
        "id": "t96Quw6u5ubu"
      },
      "source": [
        "### Step 6. Present the type of each column"
      ]
    },
    {
      "cell_type": "code",
      "execution_count": null,
      "metadata": {
        "colab": {
          "base_uri": "https://localhost:8080/"
        },
        "id": "c8rmFtra5ubu",
        "outputId": "c60d2966-1969-4904-b2ed-a7c69f0531ff"
      },
      "outputs": [
        {
          "output_type": "stream",
          "name": "stdout",
          "text": [
            "name         object\n",
            "type         object\n",
            "hp            int64\n",
            "evolution    object\n",
            "pokedex      object\n",
            "dtype: object\n"
          ]
        }
      ],
      "source": [
        "column_types = pokemon.dtypes\n",
        "print(column_types)\n"
      ]
    },
    {
      "cell_type": "markdown",
      "metadata": {
        "id": "jiqhoMPw5ubv"
      },
      "source": [
        "### BONUS: Create your own question and answer it."
      ]
    },
    {
      "cell_type": "code",
      "execution_count": null,
      "metadata": {
        "collapsed": true,
        "colab": {
          "base_uri": "https://localhost:8080/"
        },
        "id": "fnN8JuG85ubv",
        "outputId": "bcd53747-c412-4be3-a20e-0773d969e4db"
      },
      "outputs": [
        {
          "output_type": "stream",
          "name": "stdout",
          "text": [
            "There are 3 Pokémon with HP greater than 40.\n"
          ]
        }
      ],
      "source": [
        "high_hp_count = (pokemon['hp'] > 40).sum()\n",
        "print(f\"There are {high_hp_count} Pokémon with HP greater than 40.\")\n"
      ]
    }
  ],
  "metadata": {
    "kernelspec": {
      "display_name": "Python 2",
      "language": "python",
      "name": "python2"
    },
    "language_info": {
      "codemirror_mode": {
        "name": "ipython",
        "version": 2
      },
      "file_extension": ".py",
      "mimetype": "text/x-python",
      "name": "python",
      "nbconvert_exporter": "python",
      "pygments_lexer": "ipython2",
      "version": "2.7.11"
    },
    "colab": {
      "provenance": [],
      "include_colab_link": true
    }
  },
  "nbformat": 4,
  "nbformat_minor": 0
}