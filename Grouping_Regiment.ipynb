{
  "cells": [
    {
      "cell_type": "markdown",
      "metadata": {
        "id": "view-in-github",
        "colab_type": "text"
      },
      "source": [
        "<a href=\"https://colab.research.google.com/github/NatashaKamami/Python-Data-Analysis/blob/main/Grouping_Regiment.ipynb\" target=\"_parent\"><img src=\"https://colab.research.google.com/assets/colab-badge.svg\" alt=\"Open In Colab\"/></a>"
      ]
    },
    {
      "cell_type": "markdown",
      "metadata": {
        "id": "qZwk6y_pLu3u"
      },
      "source": [
        "# Regiment"
      ]
    },
    {
      "cell_type": "markdown",
      "metadata": {
        "id": "rQZXkQm1Lu3x"
      },
      "source": [
        "### Introduction:\n",
        "\n",
        "Special thanks to: http://chrisalbon.com/ for sharing the dataset and materials.\n",
        "\n",
        "### Step 1. Import the necessary libraries"
      ]
    },
    {
      "cell_type": "code",
      "execution_count": null,
      "metadata": {
        "id": "ZmbrSWC3Lu3y"
      },
      "outputs": [],
      "source": [
        "import pandas as pd"
      ]
    },
    {
      "cell_type": "markdown",
      "metadata": {
        "id": "Ll9pa_ORLu3z"
      },
      "source": [
        "### Step 2. Create the DataFrame with the following values:"
      ]
    },
    {
      "cell_type": "code",
      "execution_count": null,
      "metadata": {
        "collapsed": true,
        "id": "Gp0MyXbFLu3z"
      },
      "outputs": [],
      "source": [
        "raw_data = {'regiment': ['Nighthawks', 'Nighthawks', 'Nighthawks', 'Nighthawks', 'Dragoons', 'Dragoons', 'Dragoons', 'Dragoons', 'Scouts', 'Scouts', 'Scouts', 'Scouts'],\n",
        "        'company': ['1st', '1st', '2nd', '2nd', '1st', '1st', '2nd', '2nd','1st', '1st', '2nd', '2nd'],\n",
        "        'name': ['Miller', 'Jacobson', 'Ali', 'Milner', 'Cooze', 'Jacon', 'Ryaner', 'Sone', 'Sloan', 'Piger', 'Riani', 'Ali'],\n",
        "        'preTestScore': [4, 24, 31, 2, 3, 4, 24, 31, 2, 3, 2, 3],\n",
        "        'postTestScore': [25, 94, 57, 62, 70, 25, 94, 57, 62, 70, 62, 70]}"
      ]
    },
    {
      "cell_type": "markdown",
      "metadata": {
        "id": "lyB0DGUWLu31"
      },
      "source": [
        "### Step 3. Assign it to a variable called regiment.\n",
        "#### Don't forget to name each column"
      ]
    },
    {
      "cell_type": "code",
      "execution_count": null,
      "metadata": {
        "id": "G8XFvu8ILu31"
      },
      "outputs": [],
      "source": [
        "regiment = pd.DataFrame(raw_data)"
      ]
    },
    {
      "cell_type": "markdown",
      "metadata": {
        "id": "ABkO-sDOLu32"
      },
      "source": [
        "### Step 4. What is the mean preTestScore from the regiment Nighthawks?  "
      ]
    },
    {
      "cell_type": "code",
      "execution_count": null,
      "metadata": {
        "id": "sRa5sZNxLu32"
      },
      "outputs": [],
      "source": [
        "mean_nighthawks = regiment[regiment['regiment'] == 'Nighthawks']['preTestScore'].mean()\n",
        "print(mean_nighthawks)\n"
      ]
    },
    {
      "cell_type": "markdown",
      "metadata": {
        "id": "ZVyWknrELu33"
      },
      "source": [
        "### Step 5. Present general statistics by company"
      ]
    },
    {
      "cell_type": "code",
      "execution_count": null,
      "metadata": {
        "colab": {
          "base_uri": "https://localhost:8080/"
        },
        "id": "wdqOuVMULu34",
        "outputId": "6faa4652-1379-4dbd-eee5-bb2692bf5359"
      },
      "outputs": [
        {
          "output_type": "stream",
          "name": "stdout",
          "text": [
            "        preTestScore                                                      \\\n",
            "               count       mean        std  min   25%   50%    75%   max   \n",
            "company                                                                    \n",
            "1st              6.0   6.666667   8.524475  2.0  3.00   3.5   4.00  24.0   \n",
            "2nd              6.0  15.500000  14.652645  2.0  2.25  13.5  29.25  31.0   \n",
            "\n",
            "        postTestScore                                                       \n",
            "                count       mean        std   min    25%   50%   75%   max  \n",
            "company                                                                     \n",
            "1st               6.0  57.666667  27.485754  25.0  34.25  66.0  70.0  94.0  \n",
            "2nd               6.0  67.000000  14.057027  57.0  58.25  62.0  68.0  94.0  \n"
          ]
        }
      ],
      "source": [
        "company_stats = regiment.groupby('company').describe()\n",
        "print(company_stats)\n"
      ]
    },
    {
      "cell_type": "markdown",
      "metadata": {
        "id": "yyGUTYcLLu34"
      },
      "source": [
        "### Step 6. What is the mean of each company's preTestScore?"
      ]
    },
    {
      "cell_type": "code",
      "execution_count": null,
      "metadata": {
        "colab": {
          "base_uri": "https://localhost:8080/"
        },
        "id": "n_wunZrpLu35",
        "outputId": "b6307d00-59eb-4fb4-f57a-5b3dbe7a35bd"
      },
      "outputs": [
        {
          "output_type": "stream",
          "name": "stdout",
          "text": [
            "company\n",
            "1st     6.666667\n",
            "2nd    15.500000\n",
            "Name: preTestScore, dtype: float64\n"
          ]
        }
      ],
      "source": [
        "mean_preTestScore_by_company = regiment.groupby('company')['preTestScore'].mean()\n",
        "print(mean_preTestScore_by_company)\n"
      ]
    },
    {
      "cell_type": "markdown",
      "metadata": {
        "id": "aPbbIP17Lu35"
      },
      "source": [
        "### Step 7. Present the mean preTestScores grouped by regiment and company"
      ]
    },
    {
      "cell_type": "code",
      "execution_count": null,
      "metadata": {
        "colab": {
          "base_uri": "https://localhost:8080/"
        },
        "id": "96uUIKEiLu35",
        "outputId": "70f5d528-2249-4ead-ce90-07d8cd13c259"
      },
      "outputs": [
        {
          "output_type": "stream",
          "name": "stdout",
          "text": [
            "regiment    company\n",
            "Dragoons    1st         3.5\n",
            "            2nd        27.5\n",
            "Nighthawks  1st        14.0\n",
            "            2nd        16.5\n",
            "Scouts      1st         2.5\n",
            "            2nd         2.5\n",
            "Name: preTestScore, dtype: float64\n"
          ]
        }
      ],
      "source": [
        "mean_preTestScores_grouped = regiment.groupby(['regiment', 'company'])['preTestScore'].mean()\n",
        "print(mean_preTestScores_grouped)\n"
      ]
    },
    {
      "cell_type": "markdown",
      "metadata": {
        "id": "U3BMzhnULu35"
      },
      "source": [
        "### Step 8. Present the mean preTestScores grouped by regiment and company without heirarchical indexing"
      ]
    },
    {
      "cell_type": "code",
      "execution_count": null,
      "metadata": {
        "colab": {
          "base_uri": "https://localhost:8080/"
        },
        "id": "U3a4_W4yLu36",
        "outputId": "b74a52da-ec0b-4214-ed6d-6a42a8f0d696"
      },
      "outputs": [
        {
          "output_type": "stream",
          "name": "stdout",
          "text": [
            "     regiment company  preTestScore\n",
            "0    Dragoons     1st           3.5\n",
            "1    Dragoons     2nd          27.5\n",
            "2  Nighthawks     1st          14.0\n",
            "3  Nighthawks     2nd          16.5\n",
            "4      Scouts     1st           2.5\n",
            "5      Scouts     2nd           2.5\n"
          ]
        }
      ],
      "source": [
        "mean_preTestScores_flat = regiment.groupby(['regiment', 'company'])['preTestScore'].mean().reset_index()\n",
        "print(mean_preTestScores_flat)\n"
      ]
    },
    {
      "cell_type": "markdown",
      "metadata": {
        "id": "Byzm_oQQLu36"
      },
      "source": [
        "### Step 9. Group the entire dataframe by regiment and company"
      ]
    },
    {
      "cell_type": "code",
      "execution_count": null,
      "metadata": {
        "id": "n7yoQqseLu36"
      },
      "outputs": [],
      "source": [
        "grouped_data = regiment.groupby(['regiment', 'company'])"
      ]
    },
    {
      "cell_type": "markdown",
      "metadata": {
        "id": "7ssQ2z2KLu36"
      },
      "source": [
        "### Step 10. What is the number of observations in each regiment and company"
      ]
    },
    {
      "cell_type": "code",
      "execution_count": null,
      "metadata": {
        "colab": {
          "base_uri": "https://localhost:8080/"
        },
        "id": "tLI5GcUgLu37",
        "outputId": "ba263233-f686-4757-efae-753a1d82b553"
      },
      "outputs": [
        {
          "output_type": "stream",
          "name": "stdout",
          "text": [
            "regiment    company\n",
            "Dragoons    1st        2\n",
            "            2nd        2\n",
            "Nighthawks  1st        2\n",
            "            2nd        2\n",
            "Scouts      1st        2\n",
            "            2nd        2\n",
            "dtype: int64\n"
          ]
        }
      ],
      "source": [
        "observations_count = grouped_data.size()\n",
        "print(observations_count)\n"
      ]
    },
    {
      "cell_type": "markdown",
      "metadata": {
        "id": "JkWw-R1xLu37"
      },
      "source": [
        "### Step 11. Iterate over a group and print the name and the whole data from the regiment"
      ]
    },
    {
      "cell_type": "code",
      "execution_count": null,
      "metadata": {
        "colab": {
          "base_uri": "https://localhost:8080/"
        },
        "id": "jk_ijSUCLu37",
        "outputId": "b89cfe45-979c-4bb1-8a3c-edce70966876"
      },
      "outputs": [
        {
          "output_type": "stream",
          "name": "stdout",
          "text": [
            "Regiment: Dragoons, Company: 1st\n",
            "   regiment company   name  preTestScore  postTestScore\n",
            "4  Dragoons     1st  Cooze             3             70\n",
            "5  Dragoons     1st  Jacon             4             25\n",
            "\n",
            "Regiment: Dragoons, Company: 2nd\n",
            "   regiment company    name  preTestScore  postTestScore\n",
            "6  Dragoons     2nd  Ryaner            24             94\n",
            "7  Dragoons     2nd    Sone            31             57\n",
            "\n",
            "Regiment: Nighthawks, Company: 1st\n",
            "     regiment company      name  preTestScore  postTestScore\n",
            "0  Nighthawks     1st    Miller             4             25\n",
            "1  Nighthawks     1st  Jacobson            24             94\n",
            "\n",
            "Regiment: Nighthawks, Company: 2nd\n",
            "     regiment company    name  preTestScore  postTestScore\n",
            "2  Nighthawks     2nd     Ali            31             57\n",
            "3  Nighthawks     2nd  Milner             2             62\n",
            "\n",
            "Regiment: Scouts, Company: 1st\n",
            "  regiment company   name  preTestScore  postTestScore\n",
            "8   Scouts     1st  Sloan             2             62\n",
            "9   Scouts     1st  Piger             3             70\n",
            "\n",
            "Regiment: Scouts, Company: 2nd\n",
            "   regiment company   name  preTestScore  postTestScore\n",
            "10   Scouts     2nd  Riani             2             62\n",
            "11   Scouts     2nd    Ali             3             70\n",
            "\n"
          ]
        }
      ],
      "source": [
        "for name, group in grouped_data:\n",
        "    print(f\"Regiment: {name[0]}, Company: {name[1]}\")\n",
        "    print(group)\n",
        "    print()  # Add a newline for better readability\n"
      ]
    }
  ],
  "metadata": {
    "kernelspec": {
      "display_name": "Python 2",
      "language": "python",
      "name": "python2"
    },
    "language_info": {
      "codemirror_mode": {
        "name": "ipython",
        "version": 2
      },
      "file_extension": ".py",
      "mimetype": "text/x-python",
      "name": "python",
      "nbconvert_exporter": "python",
      "pygments_lexer": "ipython2",
      "version": "2.7.11"
    },
    "colab": {
      "provenance": [],
      "include_colab_link": true
    }
  },
  "nbformat": 4,
  "nbformat_minor": 0
}