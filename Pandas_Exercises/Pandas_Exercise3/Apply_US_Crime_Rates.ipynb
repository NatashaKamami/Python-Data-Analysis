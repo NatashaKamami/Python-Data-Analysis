{
  "cells": [
    {
      "cell_type": "markdown",
      "metadata": {
        "id": "view-in-github",
        "colab_type": "text"
      },
      "source": [
        "<a href=\"https://colab.research.google.com/github/NatashaKamami/Python-Data-Analysis/blob/main/Apply_US_Crime_Rates.ipynb\" target=\"_parent\"><img src=\"https://colab.research.google.com/assets/colab-badge.svg\" alt=\"Open In Colab\"/></a>"
      ]
    },
    {
      "cell_type": "markdown",
      "metadata": {
        "id": "n2B3IHV1UYFO"
      },
      "source": [
        "# United States - Crime Rates - 1960 - 2014"
      ]
    },
    {
      "cell_type": "markdown",
      "metadata": {
        "id": "yPK8fyG_UYFV"
      },
      "source": [
        "### Introduction:\n",
        "\n",
        "This time you will create a data\n",
        "\n",
        "Special thanks to: https://github.com/justmarkham for sharing the dataset and materials.\n",
        "\n",
        "### Step 1. Import the necessary libraries"
      ]
    },
    {
      "cell_type": "code",
      "execution_count": null,
      "metadata": {
        "id": "8vnH4RikUYFX"
      },
      "outputs": [],
      "source": [
        "import pandas as pd"
      ]
    },
    {
      "cell_type": "markdown",
      "metadata": {
        "id": "o7crZ4B2UYFZ"
      },
      "source": [
        "### Step 2. Import the dataset from this [address](https://raw.githubusercontent.com/guipsamora/pandas_exercises/master/04_Apply/US_Crime_Rates/US_Crime_Rates_1960_2014.csv)."
      ]
    },
    {
      "cell_type": "markdown",
      "metadata": {
        "id": "bTXyr2-qUYFa"
      },
      "source": [
        "### Step 3. Assign it to a variable called crime."
      ]
    },
    {
      "cell_type": "code",
      "execution_count": null,
      "metadata": {
        "id": "E8SNOUMZUYFc"
      },
      "outputs": [],
      "source": [
        "url = 'https://raw.githubusercontent.com/guipsamora/pandas_exercises/master/04_Apply/US_Crime_Rates/US_Crime_Rates_1960_2014.csv'\n",
        "crime = pd.read_csv(url)\n"
      ]
    },
    {
      "cell_type": "markdown",
      "metadata": {
        "id": "B9__QywtUYFc"
      },
      "source": [
        "### Step 4. What is the type of the columns?"
      ]
    },
    {
      "cell_type": "code",
      "execution_count": null,
      "metadata": {
        "colab": {
          "base_uri": "https://localhost:8080/"
        },
        "id": "kvzL4WZmUYFd",
        "outputId": "53364ba3-2e3a-40f4-8660-5c1a277aa502"
      },
      "outputs": [
        {
          "output_type": "stream",
          "name": "stdout",
          "text": [
            "Year                  int64\n",
            "Population            int64\n",
            "Total                 int64\n",
            "Violent               int64\n",
            "Property              int64\n",
            "Murder                int64\n",
            "Forcible_Rape         int64\n",
            "Robbery               int64\n",
            "Aggravated_assault    int64\n",
            "Burglary              int64\n",
            "Larceny_Theft         int64\n",
            "Vehicle_Theft         int64\n",
            "dtype: object\n"
          ]
        }
      ],
      "source": [
        "print(crime.dtypes)\n"
      ]
    },
    {
      "cell_type": "markdown",
      "metadata": {
        "id": "MkpLBgxiUYFd"
      },
      "source": [
        "##### Have you noticed that the type of Year is int64. But pandas has a different type to work with Time Series. Let's see it now.\n",
        "\n",
        "### Step 5. Convert the type of the column Year to datetime64"
      ]
    },
    {
      "cell_type": "code",
      "execution_count": null,
      "metadata": {
        "id": "EtKqfeEwUYFe"
      },
      "outputs": [],
      "source": [
        "crime['Year'] = pd.to_datetime(crime['Year'], format='%Y')\n"
      ]
    },
    {
      "cell_type": "markdown",
      "metadata": {
        "id": "IuLt1J6-UYFe"
      },
      "source": [
        "### Step 6. Set the Year column as the index of the dataframe"
      ]
    },
    {
      "cell_type": "code",
      "execution_count": null,
      "metadata": {
        "id": "-xhZi8ORUYFf"
      },
      "outputs": [],
      "source": [
        "crime.set_index('Year', inplace=True)\n"
      ]
    },
    {
      "cell_type": "markdown",
      "metadata": {
        "id": "mw6x46ZmUYFf"
      },
      "source": [
        "### Step 7. Delete the Total column"
      ]
    },
    {
      "cell_type": "code",
      "execution_count": null,
      "metadata": {
        "id": "yXqmfH-rUYFg"
      },
      "outputs": [],
      "source": [
        "crime.drop(columns='Total', inplace=True)\n"
      ]
    },
    {
      "cell_type": "markdown",
      "metadata": {
        "id": "Q4vvC4eCUYFg"
      },
      "source": [
        "### Step 8. Group the year by decades and sum the values\n",
        "\n",
        "#### Pay attention to the Population column number, summing this column is a mistake"
      ]
    },
    {
      "cell_type": "code",
      "execution_count": null,
      "metadata": {
        "scrolled": true,
        "colab": {
          "base_uri": "https://localhost:8080/"
        },
        "id": "1ShMBeXAUYFh",
        "outputId": "083fcbcc-90bf-489d-a3f3-3892ec56da67"
      },
      "outputs": [
        {
          "output_type": "stream",
          "name": "stdout",
          "text": [
            "            Population   Violent   Property  Murder  Forcible_Rape  Robbery  \\\n",
            "Year                                                                          \n",
            "1960-12-31   179323175    288460    3095700    9110          17190   107840   \n",
            "1970-12-31  1938965298   4585290   49424400  113070         257520  1875530   \n",
            "1980-12-31  2143307264  10213630   96088300  199270         599570  4375000   \n",
            "1990-12-31  2394730678  14549938  117640700  206839         885209  5456539   \n",
            "2000-12-31  2645537291  17132404  116580585  203810         986445  5517676   \n",
            "2010-12-31  2975877430  13793818   99874408  162254         917914  4191439   \n",
            "2020-12-31  1260816088   4820769   34983325   58095         335466  1380720   \n",
            "\n",
            "            Aggravated_assault  Burglary  Larceny_Theft  Vehicle_Theft  \n",
            "Year                                                                    \n",
            "1960-12-31              154320    912100        1855400         328200  \n",
            "1970-12-31             2339170  14614000       28918100        5892300  \n",
            "1980-12-31             5039800  30076200       56068900        9943200  \n",
            "1990-12-31             8001340  32352194       72849053       12439611  \n",
            "2000-12-31            10425809  25727107       76705256       14148520  \n",
            "2010-12-31             8522262  21682641       67203302       10992397  \n",
            "2020-12-31             2982298   7956713       24197097        2829515  \n"
          ]
        },
        {
          "output_type": "stream",
          "name": "stderr",
          "text": [
            "<ipython-input-7-5f0c50744e5b>:1: FutureWarning: 'Y' is deprecated and will be removed in a future version, please use 'YE' instead.\n",
            "  crime_by_decade = crime.groupby(pd.Grouper(freq='10Y')).sum()\n"
          ]
        }
      ],
      "source": [
        "crime_by_decade = crime.groupby(pd.Grouper(freq='10Y')).sum()\n",
        "print(crime_by_decade)"
      ]
    },
    {
      "cell_type": "markdown",
      "metadata": {
        "id": "AAUqM5r7UYFh"
      },
      "source": [
        "### Step 9. What is the most dangerous decade to live in the US?"
      ]
    },
    {
      "cell_type": "code",
      "execution_count": null,
      "metadata": {
        "colab": {
          "base_uri": "https://localhost:8080/"
        },
        "id": "wZFskFDDUYFi",
        "outputId": "d3140696-869f-4336-83d3-8bd872ecb83e"
      },
      "outputs": [
        {
          "output_type": "stream",
          "name": "stdout",
          "text": [
            "The most dangerous decade is: Property\n"
          ]
        }
      ],
      "source": [
        "most_dangerous_decade = crime_by_decade.drop(columns='Population').sum().idxmax()\n",
        "print(f\"The most dangerous decade is: {most_dangerous_decade}\")\n"
      ]
    }
  ],
  "metadata": {
    "anaconda-cloud": {},
    "kernelspec": {
      "display_name": "Python [default]",
      "language": "python",
      "name": "python2"
    },
    "language_info": {
      "codemirror_mode": {
        "name": "ipython",
        "version": 2
      },
      "file_extension": ".py",
      "mimetype": "text/x-python",
      "name": "python",
      "nbconvert_exporter": "python",
      "pygments_lexer": "ipython2",
      "version": "2.7.12"
    },
    "colab": {
      "provenance": [],
      "include_colab_link": true
    }
  },
  "nbformat": 4,
  "nbformat_minor": 0
}