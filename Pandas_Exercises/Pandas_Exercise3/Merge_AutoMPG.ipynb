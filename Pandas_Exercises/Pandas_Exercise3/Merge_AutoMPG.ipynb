{
  "cells": [
    {
      "cell_type": "markdown",
      "metadata": {
        "id": "view-in-github",
        "colab_type": "text"
      },
      "source": [
        "<a href=\"https://colab.research.google.com/github/NatashaKamami/Python-Data-Analysis/blob/main/Merge_AutoMPG.ipynb\" target=\"_parent\"><img src=\"https://colab.research.google.com/assets/colab-badge.svg\" alt=\"Open In Colab\"/></a>"
      ]
    },
    {
      "cell_type": "markdown",
      "metadata": {
        "id": "QzsWHR_8aXPp"
      },
      "source": [
        "# MPG Cars"
      ]
    },
    {
      "cell_type": "markdown",
      "metadata": {
        "id": "ZF-a3XW1aXPr"
      },
      "source": [
        "### Introduction:\n",
        "\n",
        "The following exercise utilizes data from [UC Irvine Machine Learning Repository](https://archive.ics.uci.edu/ml/datasets/Auto+MPG)\n",
        "\n",
        "### Step 1. Import the necessary libraries"
      ]
    },
    {
      "cell_type": "code",
      "execution_count": null,
      "metadata": {
        "id": "gLicCcBAaXPs"
      },
      "outputs": [],
      "source": [
        "import pandas as pd\n"
      ]
    },
    {
      "cell_type": "markdown",
      "metadata": {
        "id": "aJCA76nFaXPt"
      },
      "source": [
        "### Step 2. Import the first dataset [cars1](https://raw.githubusercontent.com/guipsamora/pandas_exercises/master/05_Merge/Auto_MPG/cars1.csv) and [cars2](https://raw.githubusercontent.com/guipsamora/pandas_exercises/master/05_Merge/Auto_MPG/cars2.csv).  "
      ]
    },
    {
      "cell_type": "markdown",
      "metadata": {
        "id": "bXEPVPUUaXPt"
      },
      "source": [
        "   ### Step 3. Assign each to a variable called cars1 and cars2"
      ]
    },
    {
      "cell_type": "code",
      "execution_count": null,
      "metadata": {
        "id": "ZoXoqI8paXPu"
      },
      "outputs": [],
      "source": [
        "url1 = \"/content/cars1.csv\"\n",
        "url2 = \"/content/cars2.csv\"\n",
        "\n",
        "cars1 = pd.read_csv(url1)\n",
        "cars2 = pd.read_csv(url2)\n"
      ]
    },
    {
      "cell_type": "markdown",
      "metadata": {
        "id": "S1aoL6k7aXPv"
      },
      "source": [
        "### Step 4. Oops, it seems our first dataset has some unnamed blank columns, fix cars1"
      ]
    },
    {
      "cell_type": "code",
      "execution_count": null,
      "metadata": {
        "id": "OErzxzl-aXPv"
      },
      "outputs": [],
      "source": [
        "# Remove unnamed columns\n",
        "cars1 = cars1.loc[:, ~cars1.columns.str.contains('^Unnamed')]\n"
      ]
    },
    {
      "cell_type": "markdown",
      "metadata": {
        "id": "P1A2MN7VaXPv"
      },
      "source": [
        "### Step 5. What is the number of observations in each dataset?"
      ]
    },
    {
      "cell_type": "code",
      "execution_count": null,
      "metadata": {
        "colab": {
          "base_uri": "https://localhost:8080/"
        },
        "id": "bqKYfkENaXPw",
        "outputId": "18762322-3de6-4fa2-dcc3-a612e6d4e886"
      },
      "outputs": [
        {
          "output_type": "stream",
          "name": "stdout",
          "text": [
            "Number of observations in cars1: 198\n",
            "Number of observations in cars2: 200\n"
          ]
        }
      ],
      "source": [
        "num_observations_cars1 = cars1.shape[0]  # Number of rows in cars1\n",
        "num_observations_cars2 = cars2.shape[0]  # Number of rows in cars2\n",
        "\n",
        "print(\"Number of observations in cars1:\", num_observations_cars1)\n",
        "print(\"Number of observations in cars2:\", num_observations_cars2)\n"
      ]
    },
    {
      "cell_type": "markdown",
      "metadata": {
        "id": "bzIVNZOMaXPw"
      },
      "source": [
        "### Step 6. Join cars1 and cars2 into a single DataFrame called cars"
      ]
    },
    {
      "cell_type": "code",
      "execution_count": null,
      "metadata": {
        "colab": {
          "base_uri": "https://localhost:8080/"
        },
        "id": "_BJmQQEUaXPx",
        "outputId": "3b9f826b-cdd5-47c7-daed-b9de9e75df00"
      },
      "outputs": [
        {
          "output_type": "stream",
          "name": "stdout",
          "text": [
            "      mpg  cylinders  displacement horsepower  weight  acceleration  model  \\\n",
            "0    18.0          8           307        130    3504          12.0     70   \n",
            "1    15.0          8           350        165    3693          11.5     70   \n",
            "2    18.0          8           318        150    3436          11.0     70   \n",
            "3    16.0          8           304        150    3433          12.0     70   \n",
            "4    17.0          8           302        140    3449          10.5     70   \n",
            "..    ...        ...           ...        ...     ...           ...    ...   \n",
            "393  27.0          4           140         86    2790          15.6     82   \n",
            "394  44.0          4            97         52    2130          24.6     82   \n",
            "395  32.0          4           135         84    2295          11.6     82   \n",
            "396  28.0          4           120         79    2625          18.6     82   \n",
            "397  31.0          4           119         82    2720          19.4     82   \n",
            "\n",
            "     origin                        car  \n",
            "0         1  chevrolet chevelle malibu  \n",
            "1         1          buick skylark 320  \n",
            "2         1         plymouth satellite  \n",
            "3         1              amc rebel sst  \n",
            "4         1                ford torino  \n",
            "..      ...                        ...  \n",
            "393       1            ford mustang gl  \n",
            "394       2                  vw pickup  \n",
            "395       1              dodge rampage  \n",
            "396       1                ford ranger  \n",
            "397       1                 chevy s-10  \n",
            "\n",
            "[398 rows x 9 columns]\n"
          ]
        }
      ],
      "source": [
        "cars = pd.concat([cars1, cars2], ignore_index=True)\n",
        "print(cars)"
      ]
    },
    {
      "cell_type": "markdown",
      "metadata": {
        "id": "aMf-gPbmaXPx"
      },
      "source": [
        "### Step 7. Oops, there is a column missing, called owners. Create a random number Series from 15,000 to 73,000."
      ]
    },
    {
      "cell_type": "code",
      "execution_count": null,
      "metadata": {
        "id": "eV-nCB9WaXPx"
      },
      "outputs": [],
      "source": [
        "import numpy as np\n",
        "\n",
        "# Create a random number Series from 15,000 to 73,000\n",
        "owners = np.random.randint(15000, 73000, size=cars.shape[0])\n"
      ]
    },
    {
      "cell_type": "markdown",
      "metadata": {
        "id": "dBwjknyqaXPx"
      },
      "source": [
        "### Step 8. Add the column owners to cars"
      ]
    },
    {
      "cell_type": "code",
      "execution_count": null,
      "metadata": {
        "colab": {
          "base_uri": "https://localhost:8080/"
        },
        "id": "x0FJtPvIaXPy",
        "outputId": "11365460-1fdb-4d08-e8f6-416197fa48ce"
      },
      "outputs": [
        {
          "output_type": "stream",
          "name": "stdout",
          "text": [
            "      mpg  cylinders  displacement horsepower  weight  acceleration  model  \\\n",
            "0    18.0          8           307        130    3504          12.0     70   \n",
            "1    15.0          8           350        165    3693          11.5     70   \n",
            "2    18.0          8           318        150    3436          11.0     70   \n",
            "3    16.0          8           304        150    3433          12.0     70   \n",
            "4    17.0          8           302        140    3449          10.5     70   \n",
            "..    ...        ...           ...        ...     ...           ...    ...   \n",
            "393  27.0          4           140         86    2790          15.6     82   \n",
            "394  44.0          4            97         52    2130          24.6     82   \n",
            "395  32.0          4           135         84    2295          11.6     82   \n",
            "396  28.0          4           120         79    2625          18.6     82   \n",
            "397  31.0          4           119         82    2720          19.4     82   \n",
            "\n",
            "     origin                        car  owners  \n",
            "0         1  chevrolet chevelle malibu   63578  \n",
            "1         1          buick skylark 320   59999  \n",
            "2         1         plymouth satellite   21596  \n",
            "3         1              amc rebel sst   34817  \n",
            "4         1                ford torino   39758  \n",
            "..      ...                        ...     ...  \n",
            "393       1            ford mustang gl   63140  \n",
            "394       2                  vw pickup   51050  \n",
            "395       1              dodge rampage   41512  \n",
            "396       1                ford ranger   44330  \n",
            "397       1                 chevy s-10   32268  \n",
            "\n",
            "[398 rows x 10 columns]\n"
          ]
        }
      ],
      "source": [
        "cars['owners'] = owners\n",
        "print(cars)"
      ]
    }
  ],
  "metadata": {
    "anaconda-cloud": {},
    "kernelspec": {
      "display_name": "Python [default]",
      "language": "python",
      "name": "python2"
    },
    "language_info": {
      "codemirror_mode": {
        "name": "ipython",
        "version": 2
      },
      "file_extension": ".py",
      "mimetype": "text/x-python",
      "name": "python",
      "nbconvert_exporter": "python",
      "pygments_lexer": "ipython2",
      "version": "2.7.12"
    },
    "colab": {
      "provenance": [],
      "include_colab_link": true
    }
  },
  "nbformat": 4,
  "nbformat_minor": 0
}