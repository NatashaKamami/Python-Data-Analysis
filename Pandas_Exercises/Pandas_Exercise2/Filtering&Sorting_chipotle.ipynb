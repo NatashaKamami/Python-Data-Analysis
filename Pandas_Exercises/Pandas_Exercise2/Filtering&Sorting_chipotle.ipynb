{
  "cells": [
    {
      "cell_type": "markdown",
      "metadata": {
        "id": "view-in-github",
        "colab_type": "text"
      },
      "source": [
        "<a href=\"https://colab.research.google.com/github/NatashaKamami/Python-Data-Analysis/blob/main/Filtering%26Sorting_chipotle.ipynb\" target=\"_parent\"><img src=\"https://colab.research.google.com/assets/colab-badge.svg\" alt=\"Open In Colab\"/></a>"
      ]
    },
    {
      "cell_type": "markdown",
      "metadata": {
        "id": "n9i2QcC8ziI4"
      },
      "source": [
        "# Ex1 - Filtering and Sorting Data"
      ]
    },
    {
      "cell_type": "markdown",
      "metadata": {
        "id": "pAQr5HkSziI9"
      },
      "source": [
        "This time we are going to pull data directly from the internet.\n",
        "Special thanks to: https://github.com/justmarkham for sharing the dataset and materials.\n",
        "\n",
        "### Step 1. Import the necessary libraries"
      ]
    },
    {
      "cell_type": "code",
      "execution_count": null,
      "metadata": {
        "id": "ZMszCpQQziI_"
      },
      "outputs": [],
      "source": [
        "import pandas as pd"
      ]
    },
    {
      "cell_type": "markdown",
      "metadata": {
        "id": "NPYsmufTziJB"
      },
      "source": [
        "### Step 2. Import the dataset from this [address](https://raw.githubusercontent.com/justmarkham/DAT8/master/data/chipotle.tsv)."
      ]
    },
    {
      "cell_type": "markdown",
      "metadata": {
        "id": "0lxQkwOJziJD"
      },
      "source": [
        "### Step 3. Assign it to a variable called chipo."
      ]
    },
    {
      "cell_type": "code",
      "execution_count": null,
      "metadata": {
        "id": "ISRr6DxiziJF"
      },
      "outputs": [],
      "source": [
        "url = 'https://raw.githubusercontent.com/justmarkham/DAT8/master/data/chipotle.tsv'\n",
        "chipo = pd.read_csv(url, sep='\\t')\n"
      ]
    },
    {
      "cell_type": "markdown",
      "metadata": {
        "id": "nJXeyk6IziJH"
      },
      "source": [
        "### Step 4. How many products cost more than $10.00?"
      ]
    },
    {
      "cell_type": "code",
      "execution_count": null,
      "metadata": {
        "colab": {
          "base_uri": "https://localhost:8080/"
        },
        "id": "YE2q9D74ziJJ",
        "outputId": "20f7fd4f-1b6b-4c73-e37a-dbadfba67d1c"
      },
      "outputs": [
        {
          "output_type": "stream",
          "name": "stdout",
          "text": [
            "1130\n"
          ]
        }
      ],
      "source": [
        "# Convert the item_price to a float by removing the dollar sign and converting to float\n",
        "chipo['item_price'] = chipo['item_price'].replace({'\\$':'', '':'0'}, regex=True).astype(float)\n",
        "\n",
        "# Count the number of items costing more than $10.00\n",
        "expensive_items_count = (chipo['item_price'] > 10).sum()\n",
        "print(expensive_items_count)\n"
      ]
    },
    {
      "cell_type": "markdown",
      "metadata": {
        "id": "vZYMQQ3aziJK"
      },
      "source": [
        "### Step 5. What is the price of each item?\n",
        "###### print a data frame with only two columns item_name and item_price"
      ]
    },
    {
      "cell_type": "code",
      "execution_count": null,
      "metadata": {
        "colab": {
          "base_uri": "https://localhost:8080/"
        },
        "id": "m5taD50iziJL",
        "outputId": "43821a69-6c22-45d6-bdea-5d48cfbee418"
      },
      "outputs": [
        {
          "output_type": "stream",
          "name": "stdout",
          "text": [
            "                                  item_name  item_price\n",
            "0              Chips and Fresh Tomato Salsa        2.39\n",
            "1                                      Izze        3.39\n",
            "2                          Nantucket Nectar        3.39\n",
            "3     Chips and Tomatillo-Green Chili Salsa        2.39\n",
            "4                              Chicken Bowl       16.98\n",
            "...                                     ...         ...\n",
            "4617                          Steak Burrito       11.75\n",
            "4618                          Steak Burrito       11.75\n",
            "4619                     Chicken Salad Bowl       11.25\n",
            "4620                     Chicken Salad Bowl        8.75\n",
            "4621                     Chicken Salad Bowl        8.75\n",
            "\n",
            "[4622 rows x 2 columns]\n"
          ]
        }
      ],
      "source": [
        "item_price_df = chipo[['item_name', 'item_price']]\n",
        "print(item_price_df)\n"
      ]
    },
    {
      "cell_type": "markdown",
      "metadata": {
        "id": "HYL6scbEziJM"
      },
      "source": [
        "### Step 6. Sort by the name of the item"
      ]
    },
    {
      "cell_type": "code",
      "execution_count": null,
      "metadata": {
        "colab": {
          "base_uri": "https://localhost:8080/"
        },
        "id": "71XwNAZHziJN",
        "outputId": "7252a2e0-82dd-410d-fe6c-cbaf44dd6864"
      },
      "outputs": [
        {
          "output_type": "stream",
          "name": "stdout",
          "text": [
            "              item_name  item_price\n",
            "3389  6 Pack Soft Drink       12.98\n",
            "341   6 Pack Soft Drink        6.49\n",
            "1849  6 Pack Soft Drink        6.49\n",
            "1860  6 Pack Soft Drink        6.49\n",
            "2713  6 Pack Soft Drink        6.49\n",
            "...                 ...         ...\n",
            "2384  Veggie Soft Tacos        8.75\n",
            "781   Veggie Soft Tacos        8.75\n",
            "2851  Veggie Soft Tacos        8.49\n",
            "1699  Veggie Soft Tacos       11.25\n",
            "1395  Veggie Soft Tacos        8.49\n",
            "\n",
            "[4622 rows x 2 columns]\n"
          ]
        }
      ],
      "source": [
        "sorted_items = item_price_df.sort_values(by='item_name')\n",
        "print(sorted_items)\n"
      ]
    },
    {
      "cell_type": "markdown",
      "metadata": {
        "id": "zdGGmujPziJN"
      },
      "source": [
        "### Step 7. What was the quantity of the most expensive item ordered?"
      ]
    },
    {
      "cell_type": "code",
      "execution_count": null,
      "metadata": {
        "colab": {
          "base_uri": "https://localhost:8080/"
        },
        "id": "lwE_UOB4ziJO",
        "outputId": "afe34508-f312-439b-8961-dbb6176a41a8"
      },
      "outputs": [
        {
          "output_type": "stream",
          "name": "stdout",
          "text": [
            "15\n"
          ]
        }
      ],
      "source": [
        "# Find the maximum price\n",
        "max_price = chipo['item_price'].max()\n",
        "\n",
        "# Find the quantity of the most expensive item ordered\n",
        "most_expensive_item_quantity = chipo[chipo['item_price'] == max_price]['quantity'].max()\n",
        "print(most_expensive_item_quantity)\n"
      ]
    },
    {
      "cell_type": "markdown",
      "metadata": {
        "id": "Qj_4AXG1ziJO"
      },
      "source": [
        "### Step 8. How many times was a Veggie Salad Bowl ordered?"
      ]
    },
    {
      "cell_type": "code",
      "execution_count": null,
      "metadata": {
        "colab": {
          "base_uri": "https://localhost:8080/"
        },
        "id": "X1Kpgl0XziJP",
        "outputId": "bf505ab8-1da7-41b4-c048-d407101a833f"
      },
      "outputs": [
        {
          "output_type": "stream",
          "name": "stdout",
          "text": [
            "18\n"
          ]
        }
      ],
      "source": [
        "veggie_salad_orders = chipo[chipo['item_name'] == 'Veggie Salad Bowl']['quantity'].sum()\n",
        "print(veggie_salad_orders)\n"
      ]
    },
    {
      "cell_type": "markdown",
      "metadata": {
        "id": "4f_pE8jiziJP"
      },
      "source": [
        "### Step 9. How many times did someone order more than one Canned Soda?"
      ]
    },
    {
      "cell_type": "code",
      "execution_count": null,
      "metadata": {
        "colab": {
          "base_uri": "https://localhost:8080/"
        },
        "id": "L5vllacqziJP",
        "outputId": "5c7b5295-c135-4e4a-acf8-251f8607ea7a"
      },
      "outputs": [
        {
          "output_type": "stream",
          "name": "stdout",
          "text": [
            "20\n"
          ]
        }
      ],
      "source": [
        "canned_soda_orders = chipo[(chipo['item_name'] == 'Canned Soda') & (chipo['quantity'] > 1)].shape[0]\n",
        "print(canned_soda_orders)\n"
      ]
    }
  ],
  "metadata": {
    "kernelspec": {
      "display_name": "Python 2",
      "language": "python",
      "name": "python2"
    },
    "language_info": {
      "codemirror_mode": {
        "name": "ipython",
        "version": 2
      },
      "file_extension": ".py",
      "mimetype": "text/x-python",
      "name": "python",
      "nbconvert_exporter": "python",
      "pygments_lexer": "ipython2",
      "version": "2.7.11"
    },
    "colab": {
      "provenance": [],
      "include_colab_link": true
    }
  },
  "nbformat": 4,
  "nbformat_minor": 0
}