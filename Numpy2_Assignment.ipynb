{
  "cells": [
    {
      "cell_type": "markdown",
      "metadata": {
        "id": "view-in-github",
        "colab_type": "text"
      },
      "source": [
        "<a href=\"https://colab.research.google.com/github/NatashaKamami/Python-Data-Analysis/blob/main/Numpy2_Assignment.ipynb\" target=\"_parent\"><img src=\"https://colab.research.google.com/assets/colab-badge.svg\" alt=\"Open In Colab\"/></a>"
      ]
    },
    {
      "cell_type": "markdown",
      "metadata": {
        "id": "ZZ4dbLRb0T15"
      },
      "source": [
        "# Numpy Exercise 2\n",
        "\n",
        "### All of the questions in this exercise are attributed to rougier/numpy-100"
      ]
    },
    {
      "cell_type": "code",
      "execution_count": null,
      "metadata": {
        "id": "xavXL6Hq0T1_"
      },
      "outputs": [],
      "source": [
        "import numpy as np"
      ]
    },
    {
      "cell_type": "markdown",
      "metadata": {
        "id": "0jSYrH490T2A"
      },
      "source": [
        "#### 16. How to add a border (filled with 0's) around an existing array? (★☆☆)"
      ]
    },
    {
      "cell_type": "code",
      "execution_count": null,
      "metadata": {
        "colab": {
          "base_uri": "https://localhost:8080/"
        },
        "id": "MaU2rtdj0T2B",
        "outputId": "3ab491bd-d21b-4a23-f1a8-85f517e1488a"
      },
      "outputs": [
        {
          "output_type": "stream",
          "name": "stdout",
          "text": [
            "[[0 0 0 0 0]\n",
            " [0 1 2 3 0]\n",
            " [0 4 5 6 0]\n",
            " [0 7 8 9 0]\n",
            " [0 0 0 0 0]]\n"
          ]
        }
      ],
      "source": [
        "array = np.array([[1, 2, 3],\n",
        "                  [4, 5, 6],\n",
        "                  [7, 8, 9]])\n",
        "bordered_array = np.pad(array, pad_width=1, mode='constant', constant_values=0)\n",
        "print(bordered_array)\n"
      ]
    },
    {
      "cell_type": "markdown",
      "metadata": {
        "id": "CI3dU3nE0T2C"
      },
      "source": [
        "#### 17. What is the result of the following expression? (★☆☆)\n",
        "```python\n",
        "0 * np.nan\n",
        "np.nan == np.nan\n",
        "np.inf > np.nan\n",
        "np.nan - np.nan\n",
        "np.nan in set([np.nan])\n",
        "0.3 == 3 * 0.1\n",
        "```"
      ]
    },
    {
      "cell_type": "code",
      "execution_count": null,
      "metadata": {
        "colab": {
          "base_uri": "https://localhost:8080/"
        },
        "id": "oEqrM_lN0T31",
        "outputId": "b9414c7c-ec86-4158-a4bc-80476ac760a2"
      },
      "outputs": [
        {
          "output_type": "stream",
          "name": "stdout",
          "text": [
            "nan\n",
            "False\n",
            "False\n",
            "nan\n",
            "True\n",
            "False\n"
          ]
        }
      ],
      "source": [
        "print(0 * np.nan)\n",
        "print(np.nan == np.nan)\n",
        "print(np.inf > np.nan)\n",
        "print(np.nan - np.nan)\n",
        "print(np.nan in set([np.nan]))\n",
        "print(0.3 == 3 * 0.1)"
      ]
    },
    {
      "cell_type": "markdown",
      "metadata": {
        "id": "bdyFGZ8z0T32"
      },
      "source": [
        "#### 18. Create a 5x5 matrix with values 1,2,3,4 just below the diagonal (★☆☆)"
      ]
    },
    {
      "cell_type": "code",
      "execution_count": null,
      "metadata": {
        "colab": {
          "base_uri": "https://localhost:8080/"
        },
        "id": "ru6OpNJm0T33",
        "outputId": "9aa05a39-5d71-4375-ce3d-c71db66db39b"
      },
      "outputs": [
        {
          "output_type": "stream",
          "name": "stdout",
          "text": [
            "[[0. 0. 0. 0. 0.]\n",
            " [1. 0. 0. 0. 0.]\n",
            " [0. 2. 0. 0. 0.]\n",
            " [0. 0. 3. 0. 0.]\n",
            " [0. 0. 0. 4. 0.]]\n"
          ]
        }
      ],
      "source": [
        "matrix = np.zeros((5, 5))\n",
        "\n",
        "for i in range(1, 5):\n",
        "    matrix[i, i - 1] = i\n",
        "\n",
        "print(matrix)\n"
      ]
    },
    {
      "cell_type": "markdown",
      "metadata": {
        "id": "VUhbnK4V0T34"
      },
      "source": [
        "#### 19. Create a 8x8 matrix and fill it with a checkerboard pattern (★☆☆)"
      ]
    },
    {
      "cell_type": "code",
      "execution_count": null,
      "metadata": {
        "colab": {
          "base_uri": "https://localhost:8080/"
        },
        "id": "kJUlO9Us0T36",
        "outputId": "ef60574a-648e-465c-8218-0f5d5332b108"
      },
      "outputs": [
        {
          "output_type": "stream",
          "name": "stdout",
          "text": [
            "[[0 1 0 1 0 1 0 1]\n",
            " [1 0 1 0 1 0 1 0]\n",
            " [0 1 0 1 0 1 0 1]\n",
            " [1 0 1 0 1 0 1 0]\n",
            " [0 1 0 1 0 1 0 1]\n",
            " [1 0 1 0 1 0 1 0]\n",
            " [0 1 0 1 0 1 0 1]\n",
            " [1 0 1 0 1 0 1 0]]\n"
          ]
        }
      ],
      "source": [
        "checkerboard = np.zeros((8, 8), dtype=int)\n",
        "\n",
        "checkerboard[1::2, ::2] = 1  # Fill odd rows, even columns with 1\n",
        "checkerboard[::2, 1::2] = 1  # Fill even rows, odd columns with 1\n",
        "\n",
        "print(checkerboard)\n"
      ]
    },
    {
      "cell_type": "markdown",
      "metadata": {
        "id": "rYhLgPMT0T37"
      },
      "source": [
        "#### 20. Consider a (6,7,8) shape array, what is the index (x,y,z) of the 100th element?"
      ]
    },
    {
      "cell_type": "code",
      "execution_count": null,
      "metadata": {
        "id": "IDrnZJsg0T38",
        "colab": {
          "base_uri": "https://localhost:8080/"
        },
        "outputId": "b1031a34-6975-426d-f71b-168ff71425b1"
      },
      "outputs": [
        {
          "output_type": "stream",
          "name": "stdout",
          "text": [
            "(1, 5, 3)\n"
          ]
        }
      ],
      "source": [
        "# Define the shape of the array\n",
        "shape = (6, 7, 8)\n",
        "\n",
        "# The 100th element corresponds to index 99 (0-based index)\n",
        "flat_index = 99\n",
        "\n",
        "# Use np.unravel_index to convert flat index to multi-dimensional index\n",
        "multi_index = np.unravel_index(flat_index, shape)\n",
        "\n",
        "print(multi_index)  # Output will be (x, y, z)\n"
      ]
    },
    {
      "cell_type": "markdown",
      "metadata": {
        "id": "rSYnVqhB0T38"
      },
      "source": [
        "#### 21. Create a checkerboard 8x8 matrix using the tile function (★☆☆)"
      ]
    },
    {
      "cell_type": "code",
      "execution_count": null,
      "metadata": {
        "colab": {
          "base_uri": "https://localhost:8080/"
        },
        "id": "B6lCda4M0T39",
        "outputId": "37b327b9-3420-415b-cb24-1e025132c8cb"
      },
      "outputs": [
        {
          "output_type": "stream",
          "name": "stdout",
          "text": [
            "[[0 1 0 1 0 1 0 1]\n",
            " [1 0 1 0 1 0 1 0]\n",
            " [0 1 0 1 0 1 0 1]\n",
            " [1 0 1 0 1 0 1 0]\n",
            " [0 1 0 1 0 1 0 1]\n",
            " [1 0 1 0 1 0 1 0]\n",
            " [0 1 0 1 0 1 0 1]\n",
            " [1 0 1 0 1 0 1 0]]\n"
          ]
        }
      ],
      "source": [
        "checkerboard_pattern = np.array([[0, 1],\n",
        "                                  [1, 0]])\n",
        "\n",
        "checkerboard = np.tile(checkerboard_pattern, (4, 4))\n",
        "\n",
        "print(checkerboard)\n"
      ]
    },
    {
      "cell_type": "markdown",
      "metadata": {
        "id": "QwnZ0rOY0T3-"
      },
      "source": [
        "#### 22. Normalize a 5x5 random matrix (★☆☆)"
      ]
    },
    {
      "cell_type": "code",
      "execution_count": null,
      "metadata": {
        "colab": {
          "base_uri": "https://localhost:8080/"
        },
        "id": "9DCV1UEJ0T3-",
        "outputId": "286a4552-7045-4374-c1b4-07dcb14346ae"
      },
      "outputs": [
        {
          "output_type": "stream",
          "name": "stdout",
          "text": [
            "[[0.59832056 0.69220643 0.31856187 0.9223425  0.12497117]\n",
            " [0.64614279 0.56910066 0.01562924 0.22273043 0.7212486 ]\n",
            " [0.80492225 0.35089672 0.24785033 0.9051356  0.18783858]\n",
            " [0.47941229 0.94605784 0.37841348 0.39343873 0.42534634]\n",
            " [0.69209085 0.90340704 0.4817561  0.24328805 0.37170232]]\n",
            "[[0.62626119 0.72716724 0.32558396 0.97451139 0.11751781]\n",
            " [0.67765926 0.59485641 0.         0.22258687 0.75838099]\n",
            " [0.84831121 0.36033661 0.24958508 0.95601787 0.18508603]\n",
            " [0.49846173 1.         0.38991089 0.40605963 0.44035309]\n",
            " [0.72704301 0.95416005 0.50098079 0.24468165 0.38269791]]\n"
          ]
        }
      ],
      "source": [
        "matrix = np.random.rand(5, 5)\n",
        "\n",
        "#min max normalization\n",
        "normalized_matrix = (matrix - matrix.min()) / (matrix.max() - matrix.min())\n",
        "\n",
        "# Z-score normalization\n",
        "mean = matrix.mean()\n",
        "std = matrix.std()\n",
        "z_normalized_matrix = (matrix - mean) / std\n",
        "\n",
        "print(z_normalized_matrix)\n",
        "print(matrix)\n",
        "print(normalized_matrix)\n"
      ]
    },
    {
      "cell_type": "markdown",
      "metadata": {
        "id": "mjHq5IzA0T3_"
      },
      "source": [
        "#### 23. Create a custom dtype that describes a color as four unsigned bytes (RGBA) (★☆☆)"
      ]
    },
    {
      "cell_type": "code",
      "execution_count": null,
      "metadata": {
        "id": "gfv41EmC0T4A",
        "colab": {
          "base_uri": "https://localhost:8080/"
        },
        "outputId": "924c25af-fb5c-4d3d-dd1b-b5da2c0ceaa1"
      },
      "outputs": [
        {
          "output_type": "stream",
          "name": "stdout",
          "text": [
            "[(255,   0,   0, 255) (  0, 255,   0, 255) (  0,   0, 255, 255)\n",
            " (255, 255,   0, 255)]\n"
          ]
        }
      ],
      "source": [
        "# Define the custom dtype for RGBA color\n",
        "rgba_dtype = np.dtype([('r', np.uint8),\n",
        "                       ('g', np.uint8),\n",
        "                       ('b', np.uint8),\n",
        "                       ('a', np.uint8)])\n",
        "\n",
        "# Example: Create an array of RGBA colors using the custom dtype\n",
        "colors = np.array([(255, 0, 0, 255),   # Red\n",
        "                   (0, 255, 0, 255),   # Green\n",
        "                   (0, 0, 255, 255),   # Blue\n",
        "                   (255, 255, 0, 255)], # Yellow\n",
        "                  dtype=rgba_dtype)\n",
        "\n",
        "# Output the colors\n",
        "print(colors)\n"
      ]
    },
    {
      "cell_type": "markdown",
      "metadata": {
        "id": "PqDKuPTh0T4B"
      },
      "source": [
        "#### 24. Multiply a 5x3 matrix by a 3x2 matrix (real matrix product) (★☆☆)"
      ]
    },
    {
      "cell_type": "code",
      "execution_count": null,
      "metadata": {
        "colab": {
          "base_uri": "https://localhost:8080/"
        },
        "id": "69Lp-UO00T4C",
        "outputId": "bfcbc52d-d83c-491c-f0c1-b7a32f2d004c"
      },
      "outputs": [
        {
          "output_type": "stream",
          "name": "stdout",
          "text": [
            "[[0.25027805 0.58150232 0.8545501 ]\n",
            " [0.41887359 0.59205749 0.20220584]\n",
            " [0.43000077 0.37817894 0.91753155]\n",
            " [0.6633323  0.86170665 0.43066643]\n",
            " [0.10728128 0.44916097 0.49760862]]\n",
            "[[0.40829558 0.98696926]\n",
            " [0.77427093 0.19169317]\n",
            " [0.94528339 0.95993344]]\n",
            "[[1.36021978 1.17879799]\n",
            " [0.82057897 0.72101288]\n",
            " [1.33570771 1.37766107]\n",
            " [1.34513189 1.23328298]\n",
            " [0.86195592 0.66965558]]\n"
          ]
        }
      ],
      "source": [
        "A = np.random.rand(5, 3)\n",
        "B = np.random.rand(3, 2)\n",
        "C = np.dot(A, B)\n",
        "\n",
        "print(A)\n",
        "print(B)\n",
        "print(C)\n"
      ]
    },
    {
      "cell_type": "markdown",
      "metadata": {
        "id": "KFiM0QyF0T4C"
      },
      "source": [
        "#### 25. Given a 1D array, negate all elements which are between 3 and 8, in place. (★☆☆)"
      ]
    },
    {
      "cell_type": "code",
      "execution_count": null,
      "metadata": {
        "id": "ET4S0gWJ0T4D"
      },
      "outputs": [],
      "source": [
        "arr = np.array([1, 2, 3, 4, 5, 6, 7, 8, 9, 10])\n",
        "arr[(arr >= 3) & (arr <= 8)] *= -1\n",
        "\n",
        "print(arr)\n"
      ]
    },
    {
      "cell_type": "markdown",
      "metadata": {
        "id": "vD7naBmN0T4D"
      },
      "source": [
        "#### 26. What is the output of the following script? (★☆☆)\n",
        "```python\n",
        "# Author: Jake VanderPlas\n",
        "\n",
        "print(sum(range(5),-1))\n",
        "from numpy import *\n",
        "print(sum(range(5),-1))\n",
        "```"
      ]
    },
    {
      "cell_type": "code",
      "execution_count": null,
      "metadata": {
        "colab": {
          "base_uri": "https://localhost:8080/"
        },
        "id": "aC1zUhXI0T4E",
        "outputId": "4c525a6f-3b4d-4e5b-9cc9-ab6168dfc494"
      },
      "outputs": [
        {
          "output_type": "stream",
          "name": "stdout",
          "text": [
            "9\n",
            "10\n"
          ]
        }
      ],
      "source": [
        "print(sum(range(5),-1))\n",
        "from numpy import *\n",
        "print(sum(range(5),-1))"
      ]
    },
    {
      "cell_type": "markdown",
      "metadata": {
        "id": "bmh2V9IS0T4E"
      },
      "source": [
        "#### 27. Consider an integer vector Z, which of these expressions are legal? (★☆☆)\n",
        "```python\n",
        "Z**Z\n",
        "2 << Z >> 2\n",
        "Z <- Z\n",
        "1j*Z\n",
        "Z/1/1\n",
        "Z<Z>Z\n",
        "```"
      ]
    },
    {
      "cell_type": "code",
      "execution_count": null,
      "metadata": {
        "id": "HenLa2Pt0T4E",
        "colab": {
          "base_uri": "https://localhost:8080/"
        },
        "outputId": "e84c76a5-ee6e-42db-9895-2b29acb03545"
      },
      "outputs": [
        {
          "output_type": "execute_result",
          "data": {
            "text/plain": [
              "array([4, 4, 8, 6, 7])"
            ]
          },
          "metadata": {},
          "execution_count": 11
        }
      ],
      "source": [
        "z = np.random.randint(3,10, size=5)\n",
        "z"
      ]
    },
    {
      "cell_type": "markdown",
      "metadata": {
        "id": "m_mRtx4k0T4F"
      },
      "source": [
        "#### 28. What are the result of the following expressions?\n",
        "```python\n",
        "np.array(0) / np.array(0)\n",
        "np.array(0) // np.array(0)\n",
        "np.array([np.nan]).astype(int).astype(float)\n",
        "```"
      ]
    },
    {
      "cell_type": "code",
      "execution_count": null,
      "metadata": {
        "colab": {
          "base_uri": "https://localhost:8080/"
        },
        "id": "8X6dyPYD0T4F",
        "outputId": "040e7293-e774-4084-efc4-975e3d6a6067"
      },
      "outputs": [
        {
          "output_type": "stream",
          "name": "stderr",
          "text": [
            "<ipython-input-11-cd809174da5d>:1: RuntimeWarning: invalid value encountered in divide\n",
            "  np.array(0) / np.array(0)\n",
            "<ipython-input-11-cd809174da5d>:2: RuntimeWarning: divide by zero encountered in floor_divide\n",
            "  np.array(0) // np.array(0)\n",
            "<ipython-input-11-cd809174da5d>:3: RuntimeWarning: invalid value encountered in cast\n",
            "  np.array([np.nan]).astype(int).astype(float)\n"
          ]
        },
        {
          "output_type": "execute_result",
          "data": {
            "text/plain": [
              "array([-9.22337204e+18])"
            ]
          },
          "metadata": {},
          "execution_count": 11
        }
      ],
      "source": [
        "np.array(0) / np.array(0)\n",
        "np.array(0) // np.array(0)\n",
        "np.array([np.nan]).astype(int).astype(float)"
      ]
    },
    {
      "cell_type": "markdown",
      "metadata": {
        "id": "qfzLfFe90T4G"
      },
      "source": [
        "#### 29. How to round away from zero a float array ? (★☆☆)"
      ]
    },
    {
      "cell_type": "code",
      "execution_count": null,
      "metadata": {
        "colab": {
          "base_uri": "https://localhost:8080/"
        },
        "id": "tdFev7AC0T4H",
        "outputId": "4797880f-df40-44c0-afd2-98939787ec69"
      },
      "outputs": [
        {
          "output_type": "stream",
          "name": "stdout",
          "text": [
            "[-1.5 -2.3  0.   1.2  2.7]\n",
            "[-2. -3.  0.  2.  3.]\n"
          ]
        }
      ],
      "source": [
        "arr = np.array([-1.5, -2.3, 0.0, 1.2, 2.7])\n",
        "\n",
        "rounded_arr = np.where(arr > 0, np.ceil(arr), np.floor(arr))\n",
        "\n",
        "print(arr)\n",
        "print(rounded_arr)\n"
      ]
    },
    {
      "cell_type": "markdown",
      "metadata": {
        "id": "X3sAWNH_0T4H"
      },
      "source": [
        "#### 30. How to find common values between two arrays? (★☆☆)"
      ]
    },
    {
      "cell_type": "code",
      "execution_count": null,
      "metadata": {
        "colab": {
          "base_uri": "https://localhost:8080/"
        },
        "id": "tr4jK94B0T4H",
        "outputId": "065b3559-4632-4479-a720-46a29c7c8c3b"
      },
      "outputs": [
        {
          "output_type": "stream",
          "name": "stdout",
          "text": [
            "[4 5]\n"
          ]
        }
      ],
      "source": [
        "array1 = np.array([1, 2, 3, 4, 5])\n",
        "array2 = np.array([4, 5, 6, 7, 8])\n",
        "\n",
        "common_values = np.intersect1d(array1, array2)\n",
        "print(common_values)\n"
      ]
    }
  ],
  "metadata": {
    "kernelspec": {
      "display_name": "Python 3",
      "language": "python",
      "name": "python3"
    },
    "language_info": {
      "codemirror_mode": {
        "name": "ipython",
        "version": 3
      },
      "file_extension": ".py",
      "mimetype": "text/x-python",
      "name": "python",
      "nbconvert_exporter": "python",
      "pygments_lexer": "ipython3",
      "version": "3.7.4"
    },
    "colab": {
      "provenance": [],
      "include_colab_link": true
    }
  },
  "nbformat": 4,
  "nbformat_minor": 0
}