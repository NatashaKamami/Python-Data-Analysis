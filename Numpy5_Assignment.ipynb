{
  "cells": [
    {
      "cell_type": "markdown",
      "metadata": {
        "id": "view-in-github",
        "colab_type": "text"
      },
      "source": [
        "<a href=\"https://colab.research.google.com/github/NatashaKamami/Python-Data-Analysis/blob/main/Numpy5_Assignment.ipynb\" target=\"_parent\"><img src=\"https://colab.research.google.com/assets/colab-badge.svg\" alt=\"Open In Colab\"/></a>"
      ]
    },
    {
      "cell_type": "markdown",
      "metadata": {
        "id": "r_XUZJH-Cllk"
      },
      "source": [
        "# Numpy Exercise 5\n",
        "\n",
        "### All of the questions in this exercise are attributed to rougier/numpy-100"
      ]
    },
    {
      "cell_type": "code",
      "execution_count": null,
      "metadata": {
        "id": "z8VidC5-Cllo"
      },
      "outputs": [],
      "source": [
        "import numpy as np"
      ]
    },
    {
      "cell_type": "markdown",
      "metadata": {
        "id": "jk-l_SMACllp"
      },
      "source": [
        "#### 61. Find the nearest value from a given value in an array (★★☆)"
      ]
    },
    {
      "cell_type": "code",
      "execution_count": null,
      "metadata": {
        "id": "s3yl9ptoCllq",
        "colab": {
          "base_uri": "https://localhost:8080/"
        },
        "outputId": "c98d6cf6-0853-461e-f823-a04eac2c8a88"
      },
      "outputs": [
        {
          "output_type": "stream",
          "name": "stdout",
          "text": [
            "4\n"
          ]
        }
      ],
      "source": [
        "array = np.array([1, 2, 3, 4, 5])\n",
        "value = 3.6\n",
        "nearest_value = array[(np.abs(array - value)).argmin()]\n",
        "print(nearest_value)"
      ]
    },
    {
      "cell_type": "markdown",
      "metadata": {
        "id": "qpBjooRBCllq"
      },
      "source": [
        "#### 62. Considering two arrays with shape (1,3) and (3,1), how to compute their sum using an iterator? (★★☆)"
      ]
    },
    {
      "cell_type": "code",
      "execution_count": null,
      "metadata": {
        "id": "h3kmKWhPCllq",
        "colab": {
          "base_uri": "https://localhost:8080/"
        },
        "outputId": "b8f937c2-0589-4bd4-f7bb-38a292eb7f72"
      },
      "outputs": [
        {
          "output_type": "stream",
          "name": "stdout",
          "text": [
            "[[0]\n",
            " [1]\n",
            " [2]]\n",
            "[[0 1 2]]\n",
            "[[0 1 2]\n",
            " [1 2 3]\n",
            " [2 3 4]]\n"
          ]
        }
      ],
      "source": [
        "A = np.arange(3).reshape(3,1)\n",
        "B = np.arange(3).reshape(1,3)\n",
        "it = np.nditer([A,B,None])\n",
        "for x,y,z in it: z[...] = x + y\n",
        "\n",
        "print(A)\n",
        "print(B)\n",
        "print(it.operands[2])"
      ]
    },
    {
      "cell_type": "markdown",
      "metadata": {
        "id": "83Nhxw-uCllr"
      },
      "source": [
        "#### 63. Create an array class that has a name attribute (★★☆)"
      ]
    },
    {
      "cell_type": "code",
      "execution_count": null,
      "metadata": {
        "id": "jVFStzP2Cllr",
        "colab": {
          "base_uri": "https://localhost:8080/"
        },
        "outputId": "9c2dacea-97a1-40e2-a3ef-47cc397d8b5f"
      },
      "outputs": [
        {
          "output_type": "stream",
          "name": "stdout",
          "text": [
            "range_10\n"
          ]
        }
      ],
      "source": [
        "class NameArray(np.ndarray):\n",
        "    def __new__(cls, array, name):\n",
        "        obj = np.asarray(array).view(cls)\n",
        "        obj.name = name\n",
        "        return obj\n",
        "\n",
        "Z = NameArray(np.arange(10), \"range_10\")\n",
        "print (Z.name)"
      ]
    },
    {
      "cell_type": "markdown",
      "metadata": {
        "id": "gKUOFK7JCllr"
      },
      "source": [
        "#### 64. Consider a given vector, how to add 1 to each element indexed by a second vector (be careful with repeated indices)? (★★★)"
      ]
    },
    {
      "cell_type": "code",
      "execution_count": null,
      "metadata": {
        "id": "ngZzjqylClls",
        "colab": {
          "base_uri": "https://localhost:8080/"
        },
        "outputId": "1a564b3c-8fdd-47f3-debf-f8bfa7b19e22"
      },
      "outputs": [
        {
          "output_type": "stream",
          "name": "stdout",
          "text": [
            "[11 20 31 40]\n"
          ]
        }
      ],
      "source": [
        "vector = np.array([10, 20, 30, 40])\n",
        "indices = np.array([0, 2, 2])  # Adding 1 to indices 0 and 2 (which are repeated)\n",
        "vector[indices] += 1\n",
        "\n",
        "print(vector)"
      ]
    },
    {
      "cell_type": "markdown",
      "metadata": {
        "id": "SKICsX2RCllt"
      },
      "source": [
        "#### 65. How to accumulate elements of a vector (X) to an array (F) based on an index list (I)? (★★★)"
      ]
    },
    {
      "cell_type": "code",
      "execution_count": null,
      "metadata": {
        "id": "yHT-EhLmCllt"
      },
      "outputs": [],
      "source": [
        "X = np.array([0, 0, 0])\n",
        "values = np.array([1, 2, 3, 4])\n",
        "indices = np.array([0, 1, 0, 1])  # Accumulating at indices 0 and 1\n",
        "np.add.at(X, indices, values)\n"
      ]
    },
    {
      "cell_type": "markdown",
      "metadata": {
        "id": "z3H0jnM8Cllt"
      },
      "source": [
        "#### 66. Considering a (w,h,3) image of (dtype=ubyte), compute the number of unique colors (★★☆)"
      ]
    },
    {
      "cell_type": "code",
      "execution_count": null,
      "metadata": {
        "id": "lKmUIDzkCllu",
        "colab": {
          "base_uri": "https://localhost:8080/"
        },
        "outputId": "755f4f04-102c-436e-bfa8-a2abd8a33a9a"
      },
      "outputs": [
        {
          "output_type": "stream",
          "name": "stdout",
          "text": [
            "9996\n"
          ]
        }
      ],
      "source": [
        "# Example image of shape (height, width, 3)\n",
        "image = np.random.randint(0, 256, (100, 100, 3), dtype=np.ubyte)\n",
        "\n",
        "# Reshape the image to a 2D array of shape (num_pixels, 3)\n",
        "pixels = image.reshape(-1, 3)\n",
        "\n",
        "# Find unique colors\n",
        "unique_colors = np.unique(pixels, axis=0)\n",
        "num_unique_colors = unique_colors.shape[0]\n",
        "print(num_unique_colors)\n"
      ]
    },
    {
      "cell_type": "markdown",
      "metadata": {
        "id": "OoR_2JdXCllu"
      },
      "source": [
        "#### 67. Considering a four dimensions array, how to get sum over the last two axis at once? (★★★)"
      ]
    },
    {
      "cell_type": "code",
      "execution_count": null,
      "metadata": {
        "id": "ff-1oJiWCllu"
      },
      "outputs": [],
      "source": [
        "array = np.random.rand(4, 3, 2, 5)  # Example 4D array\n",
        "sum_result = np.sum(array, axis=(-1, -2))  # Sums over the last two axes\n",
        "print(sum_result)"
      ]
    },
    {
      "cell_type": "markdown",
      "metadata": {
        "id": "h7eiCK5cCllu"
      },
      "source": [
        "#### 68. Considering a one-dimensional vector D, how to compute means of subsets of D using a vector S of same size describing subset  indices? (★★★)"
      ]
    },
    {
      "cell_type": "code",
      "execution_count": null,
      "metadata": {
        "id": "dfrKgiS2Cllu",
        "colab": {
          "base_uri": "https://localhost:8080/"
        },
        "outputId": "da07943c-136b-42ae-a6d8-2a014d5671b4"
      },
      "outputs": [
        {
          "output_type": "stream",
          "name": "stdout",
          "text": [
            "[30. 30.]\n"
          ]
        }
      ],
      "source": [
        "D = np.array([10, 20, 30, 40, 50])\n",
        "S = np.array([0, 1, 0, 1, 0])  # Subset indices\n",
        "\n",
        "means = np.zeros(S.max() + 1)\n",
        "counts = np.zeros(S.max() + 1)\n",
        "\n",
        "np.add.at(means, S, D)\n",
        "np.add.at(counts, S, 1)\n",
        "\n",
        "mean_values = means / counts  # Avoid division by zero if necessary\n",
        "print(mean_values)"
      ]
    },
    {
      "cell_type": "markdown",
      "metadata": {
        "id": "Obq8AwB8Cllv"
      },
      "source": [
        "#### 69. How to get the diagonal of a dot product? (★★★)"
      ]
    },
    {
      "cell_type": "code",
      "execution_count": null,
      "metadata": {
        "id": "q08hAWDUCllv",
        "colab": {
          "base_uri": "https://localhost:8080/"
        },
        "outputId": "ebd82f7f-7b32-474c-b0ff-1070990ac754"
      },
      "outputs": [
        {
          "output_type": "stream",
          "name": "stdout",
          "text": [
            "[0.39160834 0.86215815 0.8443731 ]\n"
          ]
        }
      ],
      "source": [
        "A = np.random.rand(3, 4)\n",
        "B = np.random.rand(4, 3)\n",
        "\n",
        "# Compute the dot product\n",
        "dot_product = np.dot(A, B)\n",
        "\n",
        "# Get the diagonal\n",
        "diagonal = np.diagonal(dot_product)\n",
        "\n",
        "print(diagonal)"
      ]
    },
    {
      "cell_type": "markdown",
      "metadata": {
        "id": "T-zzQIicCllv"
      },
      "source": [
        "#### 70. Consider the vector [1, 2, 3, 4, 5], how to build a new vector with 3 consecutive zeros interleaved between each value? (★★★)"
      ]
    },
    {
      "cell_type": "code",
      "execution_count": null,
      "metadata": {
        "id": "W5WQhxVwCllw",
        "colab": {
          "base_uri": "https://localhost:8080/"
        },
        "outputId": "ca2fbf25-d4d6-4374-d398-760aacf0450a"
      },
      "outputs": [
        {
          "output_type": "stream",
          "name": "stdout",
          "text": [
            "[1 0 0 0 2 0 0 0 3 0 0 0 4 0 0 0 5]\n"
          ]
        }
      ],
      "source": [
        "vector = np.array([1, 2, 3, 4, 5])\n",
        "new_vector = np.zeros(len(vector) + 3 * (len(vector) - 1), dtype=vector.dtype)\n",
        "\n",
        "new_vector[::4] = vector  # Place original values in every fourth position\n",
        "print(new_vector)"
      ]
    },
    {
      "cell_type": "markdown",
      "metadata": {
        "id": "d-N8EdhVCllw"
      },
      "source": [
        "#### 71. Consider an array of dimension (5,5,3), how to mulitply it by an array with dimensions (5,5)? (★★★)"
      ]
    },
    {
      "cell_type": "code",
      "execution_count": null,
      "metadata": {
        "id": "6vR4JnSYCllw",
        "colab": {
          "base_uri": "https://localhost:8080/"
        },
        "outputId": "0af5597f-b90f-4c78-e1f4-fe804e901577"
      },
      "outputs": [
        {
          "output_type": "stream",
          "name": "stdout",
          "text": [
            "[[[1.47428436e-01 1.24821913e-01 2.01677615e-01]\n",
            "  [1.46350944e-01 5.92225397e-02 1.36287043e-01]\n",
            "  [1.47344882e-01 2.96666919e-01 2.35685640e-02]\n",
            "  [7.83247238e-01 8.80021314e-02 2.21931468e-01]\n",
            "  [3.78695557e-01 1.41065055e-02 5.80795334e-01]]\n",
            "\n",
            " [[1.46536572e-01 4.83314582e-02 3.16752196e-01]\n",
            "  [3.61378167e-01 7.90958953e-02 3.81728749e-01]\n",
            "  [6.96046797e-01 1.36067639e-01 8.23819884e-01]\n",
            "  [6.55652884e-01 7.87953774e-01 7.60835175e-01]\n",
            "  [3.35011725e-01 3.41149399e-01 2.23656739e-01]]\n",
            "\n",
            " [[5.90853814e-02 4.55452773e-03 4.92742181e-02]\n",
            "  [6.63762806e-02 8.61872879e-02 5.72185925e-02]\n",
            "  [4.68854220e-01 9.02464476e-01 8.62988115e-01]\n",
            "  [2.84939272e-02 8.90953195e-02 6.74803622e-02]\n",
            "  [1.41313300e-01 1.74538252e-01 1.09596675e-01]]\n",
            "\n",
            " [[5.99248341e-02 5.59304003e-02 1.71648695e-01]\n",
            "  [2.21033002e-01 3.13743788e-01 6.23968216e-02]\n",
            "  [5.99748206e-02 4.23412567e-03 3.33096733e-01]\n",
            "  [2.32810917e-02 4.52225372e-01 4.37968363e-01]\n",
            "  [2.55712833e-02 1.31546571e-02 2.75616632e-02]]\n",
            "\n",
            " [[1.46835915e-01 5.36238057e-03 1.95735547e-01]\n",
            "  [5.52620704e-01 8.37119862e-02 3.19607047e-01]\n",
            "  [5.48453100e-01 2.69416937e-01 9.02470641e-02]\n",
            "  [1.49174402e-01 2.59479241e-01 2.09339816e-01]\n",
            "  [1.66864455e-04 1.33865400e-03 1.49317327e-03]]]\n"
          ]
        }
      ],
      "source": [
        "array_3d = np.random.rand(5, 5, 3)  # Shape (5, 5, 3)\n",
        "array_2d = np.random.rand(5, 5)      # Shape (5, 5)\n",
        "\n",
        "# Broadcasting multiplication\n",
        "result = array_3d * array_2d[:, :, np.newaxis]  # Shape (5, 5, 3)\n",
        "print(result)"
      ]
    },
    {
      "cell_type": "markdown",
      "metadata": {
        "id": "chh6DWy-Cllw"
      },
      "source": [
        "#### 72. How to swap two rows of an array? (★★★)"
      ]
    },
    {
      "cell_type": "code",
      "execution_count": null,
      "metadata": {
        "id": "ZWYj4hToCllw",
        "colab": {
          "base_uri": "https://localhost:8080/"
        },
        "outputId": "fbd2b4d3-f676-4663-88a6-cbe17febc4fa"
      },
      "outputs": [
        {
          "output_type": "stream",
          "name": "stdout",
          "text": [
            "[[4 5 6]\n",
            " [1 2 3]\n",
            " [7 8 9]]\n"
          ]
        }
      ],
      "source": [
        "array = np.array([[1, 2, 3], [4, 5, 6], [7, 8, 9]])\n",
        "\n",
        "# Swap row 0 and row 1\n",
        "array[[0, 1]] = array[[1, 0]]\n",
        "\n",
        "print(array)"
      ]
    },
    {
      "cell_type": "markdown",
      "metadata": {
        "id": "FsSu6Aw7Cllw"
      },
      "source": [
        "#### 73. Consider a set of 10 triplets describing 10 triangles (with shared vertices), find the set of unique line segments composing all the  triangles (★★★)"
      ]
    },
    {
      "cell_type": "code",
      "execution_count": null,
      "metadata": {
        "id": "M9q039rACllx",
        "colab": {
          "base_uri": "https://localhost:8080/"
        },
        "outputId": "145094f4-ae7f-4812-dde6-82c62869f9b7"
      },
      "outputs": [
        {
          "output_type": "stream",
          "name": "stdout",
          "text": [
            "[[0 1]\n",
            " [1 2]\n",
            " [0 3]\n",
            " [2 3]\n",
            " [0 2]\n",
            " [1 3]]\n"
          ]
        }
      ],
      "source": [
        "triangles = np.array([[0, 1, 2], [1, 2, 3], [0, 2, 3], [0, 1, 3]])\n",
        "\n",
        "segments = set()\n",
        "for triangle in triangles:\n",
        "    segments.update({tuple(sorted([triangle[i], triangle[j]])) for i in range(3) for j in range(i + 1, 3)})\n",
        "\n",
        "unique_segments = np.array(list(segments))\n",
        "\n",
        "print(unique_segments)"
      ]
    },
    {
      "cell_type": "markdown",
      "metadata": {
        "id": "COKIRNkjCllx"
      },
      "source": [
        "#### 74. Given a sorted array C that corresponds to a bincount, how to produce an array A such that np.bincount(A) == C? (★★★)"
      ]
    },
    {
      "cell_type": "code",
      "execution_count": null,
      "metadata": {
        "id": "IhoaRyaBCllx",
        "colab": {
          "base_uri": "https://localhost:8080/"
        },
        "outputId": "623dcb45-4ec1-44dc-ace3-44ff7a77f649"
      },
      "outputs": [
        {
          "output_type": "stream",
          "name": "stdout",
          "text": [
            "[1 1 2 3 4 4 6]\n"
          ]
        }
      ],
      "source": [
        "C = np.bincount([1,1,2,3,4,4,6])\n",
        "A = np.repeat(np.arange(len(C)), C)\n",
        "print(A)"
      ]
    },
    {
      "cell_type": "markdown",
      "metadata": {
        "id": "luoRrk9bClly"
      },
      "source": [
        "#### 75. How to compute averages using a sliding window over an array? (★★★)"
      ]
    },
    {
      "cell_type": "code",
      "execution_count": null,
      "metadata": {
        "id": "sX_wIatPClly",
        "colab": {
          "base_uri": "https://localhost:8080/"
        },
        "outputId": "8f05e753-8e42-4c35-a967-9006745b738c"
      },
      "outputs": [
        {
          "output_type": "stream",
          "name": "stdout",
          "text": [
            "[2. 3. 4. 5.]\n"
          ]
        }
      ],
      "source": [
        "def sliding_window_average(arr, window_size):\n",
        "    kernel = np.ones(window_size) / window_size\n",
        "    return np.convolve(arr, kernel, mode='valid')\n",
        "\n",
        "array = np.array([1, 2, 3, 4, 5, 6])\n",
        "averages = sliding_window_average(array, window_size=3)\n",
        "print(averages)"
      ]
    },
    {
      "cell_type": "markdown",
      "metadata": {
        "id": "_Uugl8X7Clly"
      },
      "source": [
        "#### 76. Consider a one-dimensional array Z, build a two-dimensional array whose first row is (Z[0],Z[1],Z[2]) and each subsequent row is  shifted by 1 (last row should be (Z[-3],Z[-2],Z[-1]) (★★★)"
      ]
    },
    {
      "cell_type": "code",
      "execution_count": null,
      "metadata": {
        "id": "l1V-W1IpCllz",
        "colab": {
          "base_uri": "https://localhost:8080/"
        },
        "outputId": "51ad987c-573e-4529-bcba-a97473d0b636"
      },
      "outputs": [
        {
          "output_type": "stream",
          "name": "stdout",
          "text": [
            "[[ 1  2  3]\n",
            " [ 2  3  4]\n",
            " [ 3  4  5]\n",
            " [ 4  5  6]\n",
            " [ 5  6  7]\n",
            " [ 6  7  8]\n",
            " [ 7  8  9]\n",
            " [ 8  9 10]\n",
            " [ 9 10 11]\n",
            " [10 11 12]\n",
            " [11 12 13]\n",
            " [12 13 14]]\n"
          ]
        }
      ],
      "source": [
        "Z = np.array([1, 2, 3, 4, 5, 6, 7, 8, 9, 10, 11, 12, 13, 14])\n",
        "n_rows = len(Z) - 3 + 1\n",
        "\n",
        "# Build the 2D array\n",
        "shifted_array = np.array([Z[i:i+3] for i in range(n_rows)])\n",
        "print(shifted_array)"
      ]
    },
    {
      "cell_type": "markdown",
      "metadata": {
        "id": "ecmk1thKCllz"
      },
      "source": [
        "#### 77. How to negate a boolean, or to change the sign of a float inplace? (★★★)"
      ]
    },
    {
      "cell_type": "code",
      "execution_count": null,
      "metadata": {
        "id": "blzynMbxCllz",
        "colab": {
          "base_uri": "https://localhost:8080/"
        },
        "outputId": "13297268-d6f6-471b-f425-cf05e4140518"
      },
      "outputs": [
        {
          "output_type": "stream",
          "name": "stdout",
          "text": [
            "[-1.  2. -3.]\n"
          ]
        }
      ],
      "source": [
        "# Negate a boolean array\n",
        "bool_array = np.array([True, False, True])\n",
        "bool_array = ~bool_array  # In-place negation\n",
        "\n",
        "# Change the sign of a float array\n",
        "float_array = np.array([1.0, -2.0, 3.0])\n",
        "float_array *= -1  # In-place sign change\n",
        "\n",
        "print(float_array)"
      ]
    },
    {
      "cell_type": "markdown",
      "metadata": {
        "id": "r32EyZygCllz"
      },
      "source": [
        "#### 78. Consider 2 sets of points P0,P1 describing lines (2d) and a point p, how to compute distance from p to each line i (P0[i],P1[i])? (★★★)"
      ]
    },
    {
      "cell_type": "code",
      "execution_count": null,
      "metadata": {
        "id": "JwTU7XEJCllz",
        "colab": {
          "base_uri": "https://localhost:8080/"
        },
        "outputId": "ea4e0953-5409-4e79-f7af-939253705e87"
      },
      "outputs": [
        {
          "output_type": "stream",
          "name": "stdout",
          "text": [
            "[0.70710678 2.23606798 5.        ]\n"
          ]
        }
      ],
      "source": [
        "def point_to_line_distance(P0, P1, p):\n",
        "    line_vec = P1 - P0\n",
        "    point_vec = p - P0\n",
        "    line_len_sq = np.sum(line_vec ** 2, axis=1)\n",
        "    t = np.clip(np.einsum('ij,ij->i', point_vec, line_vec) / line_len_sq, 0, 1)\n",
        "    closest_points = P0 + t[:, np.newaxis] * line_vec\n",
        "    return np.linalg.norm(closest_points - p, axis=1)\n",
        "\n",
        "P0 = np.array([[1, 2], [3, 4], [5, 6]])\n",
        "P1 = np.array([[2, 3], [4, 5], [6, 7]])\n",
        "p = np.array([2, 2])\n",
        "distances = point_to_line_distance(P0, P1, p)\n",
        "\n",
        "print(distances)"
      ]
    },
    {
      "cell_type": "markdown",
      "metadata": {
        "id": "8_ldOovPCll0"
      },
      "source": [
        "#### 79. Consider 2 sets of points P0,P1 describing lines (2d) and a set of points P, how to compute distance from each point j (P[j]) to each line i (P0[i],P1[i])? (★★★)"
      ]
    },
    {
      "cell_type": "code",
      "execution_count": null,
      "metadata": {
        "id": "H4ifUgUzCll1",
        "colab": {
          "base_uri": "https://localhost:8080/"
        },
        "outputId": "6f4ef262-2ba6-43a8-9cf8-530ddaf65c64"
      },
      "outputs": [
        {
          "output_type": "stream",
          "name": "stdout",
          "text": [
            "[[1.         3.60555128 6.40312424]\n",
            " [0.70710678 2.23606798 5.        ]\n",
            " [1.         1.         3.60555128]]\n"
          ]
        }
      ],
      "source": [
        "def points_to_lines_distance(P0, P1, P):\n",
        "    distances = np.zeros((P.shape[0], P0.shape[0]))\n",
        "    for i, point in enumerate(P):\n",
        "        distances[i, :] = point_to_line_distance(P0, P1, point)\n",
        "    return distances\n",
        "\n",
        "P = np.array([[1, 1], [2, 2], [3, 3]])\n",
        "distances_to_lines = points_to_lines_distance(P0, P1, P)\n",
        "print(distances_to_lines)"
      ]
    },
    {
      "cell_type": "markdown",
      "metadata": {
        "id": "LCOfZUaWCll2"
      },
      "source": [
        "#### 80. Consider an arbitrary array, write a function that extract a subpart with a fixed shape and centered on a given element (pad with a `fill` value when necessary) (★★★)"
      ]
    },
    {
      "cell_type": "code",
      "execution_count": null,
      "metadata": {
        "id": "4pOIyltFCll2",
        "colab": {
          "base_uri": "https://localhost:8080/"
        },
        "outputId": "51c29ceb-5389-4d29-92d3-0f7aa20ea95a"
      },
      "outputs": [
        {
          "output_type": "stream",
          "name": "stdout",
          "text": [
            "[[5 6]\n",
            " [8 9]]\n"
          ]
        }
      ],
      "source": [
        "def extract_subpart(array, center, shape, fill_value=0):\n",
        "    pad_width = [(s // 2, s // 2) for s in shape]\n",
        "    padded_array = np.pad(array, pad_width, mode='constant', constant_values=fill_value)\n",
        "\n",
        "    start = tuple(center[i] + pad_width[i][0] for i in range(len(center)))\n",
        "    return padded_array[start[0]:start[0] + shape[0], start[1]:start[1] + shape[1]]\n",
        "\n",
        "array = np.array([[1, 2, 3], [4, 5, 6], [7, 8, 9]])\n",
        "subpart = extract_subpart(array, (1, 1), (2, 2))\n",
        "print(subpart)"
      ]
    },
    {
      "cell_type": "markdown",
      "metadata": {
        "id": "7fbpGfbbCll2"
      },
      "source": [
        "#### 81. Consider an array Z = [1,2,3,4,5,6,7,8,9,10,11,12,13,14], how to generate an array R = [[1,2,3,4], [2,3,4,5], [3,4,5,6], ..., [11,12,13,14]]? (★★★)"
      ]
    },
    {
      "cell_type": "code",
      "execution_count": null,
      "metadata": {
        "id": "3frDF6F_Cll2",
        "colab": {
          "base_uri": "https://localhost:8080/"
        },
        "outputId": "ce142c90-c275-4b5d-ea73-f195ee4677ff"
      },
      "outputs": [
        {
          "output_type": "stream",
          "name": "stdout",
          "text": [
            "[[ 1  2  3  4]\n",
            " [ 2  3  4  5]\n",
            " [ 3  4  5  6]\n",
            " [ 4  5  6  7]\n",
            " [ 5  6  7  8]\n",
            " [ 6  7  8  9]\n",
            " [ 7  8  9 10]\n",
            " [ 8  9 10 11]\n",
            " [ 9 10 11 12]\n",
            " [10 11 12 13]\n",
            " [11 12 13 14]]\n"
          ]
        }
      ],
      "source": [
        "Z = np.array([1, 2, 3, 4, 5, 6, 7, 8, 9, 10, 11, 12, 13, 14])\n",
        "window_size = 4\n",
        "\n",
        "# Generate the sliding windows\n",
        "R = np.array([Z[i:i + window_size] for i in range(len(Z) - window_size + 1)])\n",
        "print(R)"
      ]
    },
    {
      "cell_type": "markdown",
      "metadata": {
        "id": "xsNc1cStCll2"
      },
      "source": [
        "#### 82. Compute a matrix rank (★★★)"
      ]
    },
    {
      "cell_type": "code",
      "execution_count": null,
      "metadata": {
        "id": "B0XwFXNNCll3",
        "colab": {
          "base_uri": "https://localhost:8080/"
        },
        "outputId": "c5eca777-4760-431a-9e29-d21e68faa501"
      },
      "outputs": [
        {
          "output_type": "stream",
          "name": "stdout",
          "text": [
            "2\n"
          ]
        }
      ],
      "source": [
        "A = np.array([[1, 2, 3], [4, 5, 6], [7, 8, 9]])\n",
        "rank = np.linalg.matrix_rank(A)\n",
        "print(rank)"
      ]
    },
    {
      "cell_type": "markdown",
      "metadata": {
        "id": "kYiSTaxFCll3"
      },
      "source": [
        "#### 83. How to find the most frequent value in an array?"
      ]
    },
    {
      "cell_type": "code",
      "execution_count": null,
      "metadata": {
        "id": "6y_H5buXCll3",
        "colab": {
          "base_uri": "https://localhost:8080/"
        },
        "outputId": "2edb2287-3a98-415c-afa3-cca448e43f4b"
      },
      "outputs": [
        {
          "output_type": "stream",
          "name": "stdout",
          "text": [
            "4\n"
          ]
        }
      ],
      "source": [
        "arr = np.array([1, 2, 2, 3, 4, 4, 4, 5])\n",
        "unique, counts = np.unique(arr, return_counts=True)\n",
        "most_frequent = unique[np.argmax(counts)]\n",
        "print(most_frequent)"
      ]
    },
    {
      "cell_type": "markdown",
      "metadata": {
        "id": "PWw3818aCll3"
      },
      "source": [
        "#### 84. Extract all the contiguous 3x3 blocks from a random 10x10 matrix (★★★)"
      ]
    },
    {
      "cell_type": "code",
      "execution_count": null,
      "metadata": {
        "id": "_pwpQt5MCll4",
        "colab": {
          "base_uri": "https://localhost:8080/"
        },
        "outputId": "6518862d-6c88-481d-9ee4-07a682d21f39"
      },
      "outputs": [
        {
          "output_type": "stream",
          "name": "stdout",
          "text": [
            "[[[0.33314853 0.72801197 0.24353008]\n",
            "  [0.18284577 0.64752208 0.7629114 ]\n",
            "  [0.71726875 0.05024945 0.49131188]]\n",
            "\n",
            " [[0.72801197 0.24353008 0.83884746]\n",
            "  [0.64752208 0.7629114  0.97972325]\n",
            "  [0.05024945 0.49131188 0.87591448]]\n",
            "\n",
            " [[0.24353008 0.83884746 0.98496098]\n",
            "  [0.7629114  0.97972325 0.88961501]\n",
            "  [0.49131188 0.87591448 0.13219505]]\n",
            "\n",
            " [[0.83884746 0.98496098 0.00307237]\n",
            "  [0.97972325 0.88961501 0.75245652]\n",
            "  [0.87591448 0.13219505 0.04491642]]\n",
            "\n",
            " [[0.98496098 0.00307237 0.76661775]\n",
            "  [0.88961501 0.75245652 0.76404782]\n",
            "  [0.13219505 0.04491642 0.53292503]]\n",
            "\n",
            " [[0.00307237 0.76661775 0.90982598]\n",
            "  [0.75245652 0.76404782 0.20155737]\n",
            "  [0.04491642 0.53292503 0.27299792]]\n",
            "\n",
            " [[0.76661775 0.90982598 0.05751494]\n",
            "  [0.76404782 0.20155737 0.85128952]\n",
            "  [0.53292503 0.27299792 0.52442932]]\n",
            "\n",
            " [[0.90982598 0.05751494 0.50885384]\n",
            "  [0.20155737 0.85128952 0.97913777]\n",
            "  [0.27299792 0.52442932 0.58758709]]\n",
            "\n",
            " [[0.18284577 0.64752208 0.7629114 ]\n",
            "  [0.71726875 0.05024945 0.49131188]\n",
            "  [0.88524348 0.72983333 0.98774513]]\n",
            "\n",
            " [[0.64752208 0.7629114  0.97972325]\n",
            "  [0.05024945 0.49131188 0.87591448]\n",
            "  [0.72983333 0.98774513 0.60555508]]\n",
            "\n",
            " [[0.7629114  0.97972325 0.88961501]\n",
            "  [0.49131188 0.87591448 0.13219505]\n",
            "  [0.98774513 0.60555508 0.60765282]]\n",
            "\n",
            " [[0.97972325 0.88961501 0.75245652]\n",
            "  [0.87591448 0.13219505 0.04491642]\n",
            "  [0.60555508 0.60765282 0.86702892]]\n",
            "\n",
            " [[0.88961501 0.75245652 0.76404782]\n",
            "  [0.13219505 0.04491642 0.53292503]\n",
            "  [0.60765282 0.86702892 0.23025657]]\n",
            "\n",
            " [[0.75245652 0.76404782 0.20155737]\n",
            "  [0.04491642 0.53292503 0.27299792]\n",
            "  [0.86702892 0.23025657 0.9665393 ]]\n",
            "\n",
            " [[0.76404782 0.20155737 0.85128952]\n",
            "  [0.53292503 0.27299792 0.52442932]\n",
            "  [0.23025657 0.9665393  0.63840691]]\n",
            "\n",
            " [[0.20155737 0.85128952 0.97913777]\n",
            "  [0.27299792 0.52442932 0.58758709]\n",
            "  [0.9665393  0.63840691 0.68566662]]\n",
            "\n",
            " [[0.71726875 0.05024945 0.49131188]\n",
            "  [0.88524348 0.72983333 0.98774513]\n",
            "  [0.05482673 0.42960808 0.8829065 ]]\n",
            "\n",
            " [[0.05024945 0.49131188 0.87591448]\n",
            "  [0.72983333 0.98774513 0.60555508]\n",
            "  [0.42960808 0.8829065  0.77386824]]\n",
            "\n",
            " [[0.49131188 0.87591448 0.13219505]\n",
            "  [0.98774513 0.60555508 0.60765282]\n",
            "  [0.8829065  0.77386824 0.36703405]]\n",
            "\n",
            " [[0.87591448 0.13219505 0.04491642]\n",
            "  [0.60555508 0.60765282 0.86702892]\n",
            "  [0.77386824 0.36703405 0.38019308]]\n",
            "\n",
            " [[0.13219505 0.04491642 0.53292503]\n",
            "  [0.60765282 0.86702892 0.23025657]\n",
            "  [0.36703405 0.38019308 0.50553606]]\n",
            "\n",
            " [[0.04491642 0.53292503 0.27299792]\n",
            "  [0.86702892 0.23025657 0.9665393 ]\n",
            "  [0.38019308 0.50553606 0.90461261]]\n",
            "\n",
            " [[0.53292503 0.27299792 0.52442932]\n",
            "  [0.23025657 0.9665393  0.63840691]\n",
            "  [0.50553606 0.90461261 0.27862692]]\n",
            "\n",
            " [[0.27299792 0.52442932 0.58758709]\n",
            "  [0.9665393  0.63840691 0.68566662]\n",
            "  [0.90461261 0.27862692 0.92441371]]\n",
            "\n",
            " [[0.88524348 0.72983333 0.98774513]\n",
            "  [0.05482673 0.42960808 0.8829065 ]\n",
            "  [0.84796133 0.37444745 0.64709717]]\n",
            "\n",
            " [[0.72983333 0.98774513 0.60555508]\n",
            "  [0.42960808 0.8829065  0.77386824]\n",
            "  [0.37444745 0.64709717 0.61678505]]\n",
            "\n",
            " [[0.98774513 0.60555508 0.60765282]\n",
            "  [0.8829065  0.77386824 0.36703405]\n",
            "  [0.64709717 0.61678505 0.78360943]]\n",
            "\n",
            " [[0.60555508 0.60765282 0.86702892]\n",
            "  [0.77386824 0.36703405 0.38019308]\n",
            "  [0.61678505 0.78360943 0.76662265]]\n",
            "\n",
            " [[0.60765282 0.86702892 0.23025657]\n",
            "  [0.36703405 0.38019308 0.50553606]\n",
            "  [0.78360943 0.76662265 0.40386043]]\n",
            "\n",
            " [[0.86702892 0.23025657 0.9665393 ]\n",
            "  [0.38019308 0.50553606 0.90461261]\n",
            "  [0.76662265 0.40386043 0.20129287]]\n",
            "\n",
            " [[0.23025657 0.9665393  0.63840691]\n",
            "  [0.50553606 0.90461261 0.27862692]\n",
            "  [0.40386043 0.20129287 0.05808036]]\n",
            "\n",
            " [[0.9665393  0.63840691 0.68566662]\n",
            "  [0.90461261 0.27862692 0.92441371]\n",
            "  [0.20129287 0.05808036 0.13618584]]\n",
            "\n",
            " [[0.05482673 0.42960808 0.8829065 ]\n",
            "  [0.84796133 0.37444745 0.64709717]\n",
            "  [0.13562611 0.81067453 0.72544211]]\n",
            "\n",
            " [[0.42960808 0.8829065  0.77386824]\n",
            "  [0.37444745 0.64709717 0.61678505]\n",
            "  [0.81067453 0.72544211 0.78377762]]\n",
            "\n",
            " [[0.8829065  0.77386824 0.36703405]\n",
            "  [0.64709717 0.61678505 0.78360943]\n",
            "  [0.72544211 0.78377762 0.62466515]]\n",
            "\n",
            " [[0.77386824 0.36703405 0.38019308]\n",
            "  [0.61678505 0.78360943 0.76662265]\n",
            "  [0.78377762 0.62466515 0.93019862]]\n",
            "\n",
            " [[0.36703405 0.38019308 0.50553606]\n",
            "  [0.78360943 0.76662265 0.40386043]\n",
            "  [0.62466515 0.93019862 0.69237691]]\n",
            "\n",
            " [[0.38019308 0.50553606 0.90461261]\n",
            "  [0.76662265 0.40386043 0.20129287]\n",
            "  [0.93019862 0.69237691 0.9203202 ]]\n",
            "\n",
            " [[0.50553606 0.90461261 0.27862692]\n",
            "  [0.40386043 0.20129287 0.05808036]\n",
            "  [0.69237691 0.9203202  0.34929092]]\n",
            "\n",
            " [[0.90461261 0.27862692 0.92441371]\n",
            "  [0.20129287 0.05808036 0.13618584]\n",
            "  [0.9203202  0.34929092 0.03542607]]\n",
            "\n",
            " [[0.84796133 0.37444745 0.64709717]\n",
            "  [0.13562611 0.81067453 0.72544211]\n",
            "  [0.34695968 0.54247092 0.5243313 ]]\n",
            "\n",
            " [[0.37444745 0.64709717 0.61678505]\n",
            "  [0.81067453 0.72544211 0.78377762]\n",
            "  [0.54247092 0.5243313  0.02954148]]\n",
            "\n",
            " [[0.64709717 0.61678505 0.78360943]\n",
            "  [0.72544211 0.78377762 0.62466515]\n",
            "  [0.5243313  0.02954148 0.65733772]]\n",
            "\n",
            " [[0.61678505 0.78360943 0.76662265]\n",
            "  [0.78377762 0.62466515 0.93019862]\n",
            "  [0.02954148 0.65733772 0.32350993]]\n",
            "\n",
            " [[0.78360943 0.76662265 0.40386043]\n",
            "  [0.62466515 0.93019862 0.69237691]\n",
            "  [0.65733772 0.32350993 0.7073318 ]]\n",
            "\n",
            " [[0.76662265 0.40386043 0.20129287]\n",
            "  [0.93019862 0.69237691 0.9203202 ]\n",
            "  [0.32350993 0.7073318  0.37748449]]\n",
            "\n",
            " [[0.40386043 0.20129287 0.05808036]\n",
            "  [0.69237691 0.9203202  0.34929092]\n",
            "  [0.7073318  0.37748449 0.95138385]]\n",
            "\n",
            " [[0.20129287 0.05808036 0.13618584]\n",
            "  [0.9203202  0.34929092 0.03542607]\n",
            "  [0.37748449 0.95138385 0.24718553]]\n",
            "\n",
            " [[0.13562611 0.81067453 0.72544211]\n",
            "  [0.34695968 0.54247092 0.5243313 ]\n",
            "  [0.11655254 0.99223013 0.83961006]]\n",
            "\n",
            " [[0.81067453 0.72544211 0.78377762]\n",
            "  [0.54247092 0.5243313  0.02954148]\n",
            "  [0.99223013 0.83961006 0.32102659]]\n",
            "\n",
            " [[0.72544211 0.78377762 0.62466515]\n",
            "  [0.5243313  0.02954148 0.65733772]\n",
            "  [0.83961006 0.32102659 0.09917676]]\n",
            "\n",
            " [[0.78377762 0.62466515 0.93019862]\n",
            "  [0.02954148 0.65733772 0.32350993]\n",
            "  [0.32102659 0.09917676 0.90605479]]\n",
            "\n",
            " [[0.62466515 0.93019862 0.69237691]\n",
            "  [0.65733772 0.32350993 0.7073318 ]\n",
            "  [0.09917676 0.90605479 0.62110841]]\n",
            "\n",
            " [[0.93019862 0.69237691 0.9203202 ]\n",
            "  [0.32350993 0.7073318  0.37748449]\n",
            "  [0.90605479 0.62110841 0.40494497]]\n",
            "\n",
            " [[0.69237691 0.9203202  0.34929092]\n",
            "  [0.7073318  0.37748449 0.95138385]\n",
            "  [0.62110841 0.40494497 0.2332037 ]]\n",
            "\n",
            " [[0.9203202  0.34929092 0.03542607]\n",
            "  [0.37748449 0.95138385 0.24718553]\n",
            "  [0.40494497 0.2332037  0.89530467]]\n",
            "\n",
            " [[0.34695968 0.54247092 0.5243313 ]\n",
            "  [0.11655254 0.99223013 0.83961006]\n",
            "  [0.24001791 0.34538885 0.32793788]]\n",
            "\n",
            " [[0.54247092 0.5243313  0.02954148]\n",
            "  [0.99223013 0.83961006 0.32102659]\n",
            "  [0.34538885 0.32793788 0.50477461]]\n",
            "\n",
            " [[0.5243313  0.02954148 0.65733772]\n",
            "  [0.83961006 0.32102659 0.09917676]\n",
            "  [0.32793788 0.50477461 0.727774  ]]\n",
            "\n",
            " [[0.02954148 0.65733772 0.32350993]\n",
            "  [0.32102659 0.09917676 0.90605479]\n",
            "  [0.50477461 0.727774   0.89237638]]\n",
            "\n",
            " [[0.65733772 0.32350993 0.7073318 ]\n",
            "  [0.09917676 0.90605479 0.62110841]\n",
            "  [0.727774   0.89237638 0.97791567]]\n",
            "\n",
            " [[0.32350993 0.7073318  0.37748449]\n",
            "  [0.90605479 0.62110841 0.40494497]\n",
            "  [0.89237638 0.97791567 0.63469851]]\n",
            "\n",
            " [[0.7073318  0.37748449 0.95138385]\n",
            "  [0.62110841 0.40494497 0.2332037 ]\n",
            "  [0.97791567 0.63469851 0.38122673]]\n",
            "\n",
            " [[0.37748449 0.95138385 0.24718553]\n",
            "  [0.40494497 0.2332037  0.89530467]\n",
            "  [0.63469851 0.38122673 0.93567663]]]\n"
          ]
        }
      ],
      "source": [
        "matrix = np.random.rand(10, 10)\n",
        "blocks = np.array([matrix[i:i + 3, j:j + 3] for i in range(8) for j in range(8)])  # 8x8 starting points\n",
        "print(blocks)"
      ]
    },
    {
      "cell_type": "markdown",
      "metadata": {
        "id": "FgM4P7GcCll4"
      },
      "source": [
        "#### 85. Create a 2D array subclass such that Z[i,j] == Z[j,i] (★★★)"
      ]
    },
    {
      "cell_type": "code",
      "execution_count": null,
      "metadata": {
        "id": "VfWuf0zWCll4",
        "colab": {
          "base_uri": "https://localhost:8080/"
        },
        "outputId": "3cd19221-41c3-4e1f-a6ac-9150ff66f133"
      },
      "outputs": [
        {
          "output_type": "stream",
          "name": "stdout",
          "text": [
            "[[1 2]\n",
            " [2 1]]\n"
          ]
        }
      ],
      "source": [
        "class SymmetricArray(np.ndarray):\n",
        "    def __new__(cls, input_array):\n",
        "        obj = np.asarray(input_array).view(cls)\n",
        "        return obj\n",
        "\n",
        "    def __getitem__(self, index):\n",
        "        if isinstance(index, tuple):\n",
        "            return super().__getitem__((index[1], index[0]))  # Swap indices for symmetry\n",
        "        return super().__getitem__(index)\n",
        "\n",
        "# Example usage\n",
        "Z = SymmetricArray(np.array([[1, 2], [2, 1]]))\n",
        "print(Z)"
      ]
    },
    {
      "cell_type": "markdown",
      "metadata": {
        "id": "blwupHkSCll5"
      },
      "source": [
        "#### 86. Consider a set of p matrices wich shape (n,n) and a set of p vectors with shape (n,1). How to compute the sum of of the p matrix products at once? (result has shape (n,1)) (★★★)"
      ]
    },
    {
      "cell_type": "code",
      "execution_count": null,
      "metadata": {
        "id": "vqXEWGB9Cll5",
        "colab": {
          "base_uri": "https://localhost:8080/"
        },
        "outputId": "99317659-d193-4295-d046-b860442f7919"
      },
      "outputs": [
        {
          "output_type": "stream",
          "name": "stdout",
          "text": [
            "[[3.8444631 ]\n",
            " [3.24335457]\n",
            " [3.37830945]]\n"
          ]
        }
      ],
      "source": [
        "p = 5  # Number of matrices and vectors\n",
        "n = 3  # Size of matrices\n",
        "A = np.random.rand(p, n, n)  # p matrices of shape (n,n)\n",
        "B = np.random.rand(p, n, 1)   # p vectors of shape (n,1)\n",
        "\n",
        "# Compute the sum of the products\n",
        "result = np.sum(A @ B, axis=0)  # Resulting shape will be (n,1)\n",
        "print(result)"
      ]
    },
    {
      "cell_type": "markdown",
      "metadata": {
        "id": "lxaqKM48Cll6"
      },
      "source": [
        "#### 87. Consider a 16x16 array, how to get the block-sum (block size is 4x4)? (★★★)"
      ]
    },
    {
      "cell_type": "code",
      "execution_count": null,
      "metadata": {
        "id": "I9Yduto0Cll6",
        "colab": {
          "base_uri": "https://localhost:8080/"
        },
        "outputId": "850126ad-b09a-4a70-d303-ffc7555a9387"
      },
      "outputs": [
        {
          "output_type": "stream",
          "name": "stdout",
          "text": [
            "[[7.52665809 8.8386758  6.82807686 9.87674149]\n",
            " [6.55641415 8.28215196 8.90562607 7.20942378]\n",
            " [7.01727782 8.67791852 8.72461335 6.22403924]\n",
            " [8.17419409 9.04133478 8.46641389 5.95527987]]\n"
          ]
        }
      ],
      "source": [
        "array = np.random.rand(16, 16)\n",
        "block_size = 4\n",
        "block_sum = array.reshape(4, 4, block_size, block_size).sum(axis=(2, 3))\n",
        "print(block_sum)"
      ]
    },
    {
      "cell_type": "markdown",
      "metadata": {
        "id": "D6Qb5eScCll6"
      },
      "source": [
        "#### 88. How to implement the Game of Life using numpy arrays? (★★★)"
      ]
    },
    {
      "cell_type": "code",
      "execution_count": null,
      "metadata": {
        "id": "BTrsyE2rCll6",
        "colab": {
          "base_uri": "https://localhost:8080/"
        },
        "outputId": "b8cc2aa5-f9cd-400c-8cb1-f06eb190626e"
      },
      "outputs": [
        {
          "output_type": "stream",
          "name": "stdout",
          "text": [
            "[[1 0 1 0 0 0 1 1 1 0]\n",
            " [0 0 1 0 1 0 1 1 0 0]\n",
            " [0 0 0 0 0 1 1 0 0 0]\n",
            " [0 0 0 0 0 1 1 0 0 0]\n",
            " [0 0 1 0 0 1 1 0 0 0]\n",
            " [0 0 1 0 0 0 0 0 0 0]\n",
            " [0 0 0 0 0 0 1 0 0 0]\n",
            " [0 0 0 0 0 0 0 0 0 0]\n",
            " [0 0 0 0 0 0 1 0 0 0]\n",
            " [0 0 0 0 0 0 0 0 0 0]]\n"
          ]
        }
      ],
      "source": [
        "def game_of_life(board):\n",
        "    neighbors = sum(np.roll(np.roll(board, i, 0), j, 1)\n",
        "                    for i in (-1, 0, 1) for j in (-1, 0, 1))\n",
        "    return (neighbors == 3) | (board & (neighbors == 2))\n",
        "\n",
        "# Example usage\n",
        "board = np.random.randint(0, 2, (10, 10))\n",
        "next_board = game_of_life(board)\n",
        "print(next_board)"
      ]
    },
    {
      "cell_type": "markdown",
      "metadata": {
        "id": "UlZQ3WPPCll7"
      },
      "source": [
        "#### 89. How to get the n largest values of an array (★★★)"
      ]
    },
    {
      "cell_type": "code",
      "execution_count": null,
      "metadata": {
        "id": "tDcZNTneCll7",
        "colab": {
          "base_uri": "https://localhost:8080/"
        },
        "outputId": "00332af3-eff0-4c98-92b7-687784254215"
      },
      "outputs": [
        {
          "output_type": "stream",
          "name": "stdout",
          "text": [
            "[7 8 9]\n"
          ]
        }
      ],
      "source": [
        "arr = np.array([1, 3, 5, 7, 9, 2, 4, 6, 8, 0])\n",
        "n = 3\n",
        "largest_values = np.partition(arr, -n)[-n:]  # Get the n largest values\n",
        "print(largest_values)"
      ]
    },
    {
      "cell_type": "markdown",
      "metadata": {
        "id": "Xni2SkKvCll7"
      },
      "source": [
        "#### 90. Given an arbitrary number of vectors, build the cartesian product (every combinations of every item) (★★★)"
      ]
    },
    {
      "cell_type": "code",
      "execution_count": null,
      "metadata": {
        "id": "bosXDuPICll8",
        "colab": {
          "base_uri": "https://localhost:8080/"
        },
        "outputId": "8f0d8064-49f5-407d-d4f0-cad4a2ba8820"
      },
      "outputs": [
        {
          "output_type": "stream",
          "name": "stdout",
          "text": [
            "[[1 3]\n",
            " [1 4]\n",
            " [2 3]\n",
            " [2 4]]\n"
          ]
        }
      ],
      "source": [
        "vectors = [np.array([1, 2]), np.array([3, 4])]\n",
        "product = np.array(np.meshgrid(*vectors)).T.reshape(-1, len(vectors))\n",
        "print(product)"
      ]
    },
    {
      "cell_type": "markdown",
      "metadata": {
        "id": "kdB4Yc5hCll8"
      },
      "source": [
        "#### 91. How to create a record array from a regular array? (★★★)"
      ]
    },
    {
      "cell_type": "code",
      "execution_count": null,
      "metadata": {
        "id": "7BW7JaxhCll9",
        "colab": {
          "base_uri": "https://localhost:8080/"
        },
        "outputId": "8b216c78-2e4f-4de8-84ac-97845e8e29bd"
      },
      "outputs": [
        {
          "output_type": "stream",
          "name": "stdout",
          "text": [
            "[(b'Hello', 2.5, 3) (b'World', 3.6, 2)]\n"
          ]
        }
      ],
      "source": [
        "Z = np.array([(\"Hello\", 2.5, 3),\n",
        "              (\"World\", 3.6, 2)])\n",
        "R = np.core.records.fromarrays(Z.T,\n",
        "                               names='col1, col2, col3',\n",
        "                               formats = 'S8, f8, i8')\n",
        "print(R)"
      ]
    },
    {
      "cell_type": "markdown",
      "metadata": {
        "id": "6A97n9VLCll-"
      },
      "source": [
        "#### 92. Consider a large vector Z, compute Z to the power of 3 using 3 different methods (★★★)"
      ]
    },
    {
      "cell_type": "code",
      "execution_count": null,
      "metadata": {
        "id": "jUDzMmnhCll_",
        "colab": {
          "base_uri": "https://localhost:8080/"
        },
        "outputId": "65661b96-416d-42cf-bbad-c0ed7ed4817d"
      },
      "outputs": [
        {
          "output_type": "stream",
          "name": "stdout",
          "text": [
            "[  1   8  27  64 125]\n"
          ]
        }
      ],
      "source": [
        "Z = np.array([1, 2, 3, 4, 5])\n",
        "\n",
        "# Method 1: Using the `**` operator\n",
        "method1 = Z ** 3\n",
        "\n",
        "# Method 2: Using `np.power`\n",
        "method2 = np.power(Z, 3)\n",
        "\n",
        "# Method 3: Using `np.array` and `np.multiply`\n",
        "method3 = np.array([np.multiply(Z[i], Z[i]) for i in range(len(Z))])\n",
        "method3 = np.multiply(method3, Z)\n",
        "\n",
        "print(method3)"
      ]
    },
    {
      "cell_type": "markdown",
      "metadata": {
        "id": "_IBa9fWXCll_"
      },
      "source": [
        "#### 93. Consider two arrays A and B of shape (8,3) and (2,2). How to find rows of A that contain elements of each row of B regardless of the order of the elements in B? (★★★)"
      ]
    },
    {
      "cell_type": "code",
      "execution_count": null,
      "metadata": {
        "id": "rBBuPgQlClmA",
        "colab": {
          "base_uri": "https://localhost:8080/"
        },
        "outputId": "6bd35567-c547-4baa-e923-efeed4c12c08"
      },
      "outputs": [
        {
          "output_type": "stream",
          "name": "stdout",
          "text": [
            "[0 1 6 7]\n"
          ]
        }
      ],
      "source": [
        "A = np.random.randint(0,5,(8,3))\n",
        "B = np.random.randint(0,5,(2,2))\n",
        "\n",
        "C = (A[..., np.newaxis, np.newaxis] == B)\n",
        "rows = np.where(C.any((3,1)).all(1))[0]\n",
        "print(rows)"
      ]
    },
    {
      "cell_type": "markdown",
      "metadata": {
        "id": "V1h-DBxjClmA"
      },
      "source": [
        "#### 94. Considering a 10x3 matrix, extract rows with unequal values (e.g. [2,2,3]) (★★★)"
      ]
    },
    {
      "cell_type": "code",
      "execution_count": null,
      "metadata": {
        "id": "zjiFhrJuClmA",
        "colab": {
          "base_uri": "https://localhost:8080/"
        },
        "outputId": "121ba8a3-9f20-4760-d3ab-7136085e67db"
      },
      "outputs": [
        {
          "output_type": "stream",
          "name": "stdout",
          "text": [
            "[]\n"
          ]
        }
      ],
      "source": [
        "matrix = np.random.randint(1, 5, (10, 3))\n",
        "unequal_rows = matrix[~np.all(matrix[:, None] == matrix[:, None, :], axis=2).any(axis=1)]\n",
        "print(unequal_rows)"
      ]
    },
    {
      "cell_type": "markdown",
      "metadata": {
        "id": "TNgwgr-HClmB"
      },
      "source": [
        "#### 95. Convert a vector of ints into a matrix binary representation (★★★)"
      ]
    },
    {
      "cell_type": "code",
      "execution_count": null,
      "metadata": {
        "id": "oPVz3F4-ClmB",
        "colab": {
          "base_uri": "https://localhost:8080/"
        },
        "outputId": "c57ca0b5-8c80-4d34-e168-33659c7fedac"
      },
      "outputs": [
        {
          "output_type": "stream",
          "name": "stdout",
          "text": [
            "[[0 0 0 0 0 0 0 1]\n",
            " [0 0 0 0 0 0 1 0]\n",
            " [0 0 0 0 0 0 1 1]]\n"
          ]
        }
      ],
      "source": [
        "vector = np.array([1, 2, 3])\n",
        "binary_representation = np.unpackbits(vector[:, np.newaxis].astype(np.uint8), axis=1)\n",
        "print(binary_representation)"
      ]
    },
    {
      "cell_type": "markdown",
      "metadata": {
        "id": "GGmdff1VClmB"
      },
      "source": [
        "#### 96. Given a two dimensional array, how to extract unique rows? (★★★)"
      ]
    },
    {
      "cell_type": "code",
      "execution_count": null,
      "metadata": {
        "id": "45DPrpDMClmB",
        "colab": {
          "base_uri": "https://localhost:8080/"
        },
        "outputId": "a9e2e32f-2ea5-444d-ecaa-a36265d33025"
      },
      "outputs": [
        {
          "output_type": "stream",
          "name": "stdout",
          "text": [
            "[[0 0 0]\n",
            " [0 1 1]\n",
            " [1 2 0]\n",
            " [1 3 3]\n",
            " [2 0 1]\n",
            " [2 0 4]\n",
            " [3 1 4]\n",
            " [4 1 3]\n",
            " [4 2 4]]\n"
          ]
        }
      ],
      "source": [
        "array = np.random.randint(0, 5, (10, 3))\n",
        "unique_rows = np.unique(array, axis=0)\n",
        "print(unique_rows)"
      ]
    },
    {
      "cell_type": "markdown",
      "metadata": {
        "id": "C8wIpXH9ClmC"
      },
      "source": [
        "#### 97. Considering 2 vectors A & B, write the einsum equivalent of inner, outer, sum, and mul function (★★★)"
      ]
    },
    {
      "cell_type": "code",
      "execution_count": null,
      "metadata": {
        "id": "QQdEmwooClmC",
        "colab": {
          "base_uri": "https://localhost:8080/"
        },
        "outputId": "6c8b27fd-4ac3-462e-91f7-cce1a77b9a53"
      },
      "outputs": [
        {
          "output_type": "stream",
          "name": "stdout",
          "text": [
            "32\n",
            "[[ 4  5  6]\n",
            " [ 8 10 12]\n",
            " [12 15 18]]\n",
            "6\n",
            "[[ 4  5  6]\n",
            " [ 8 10 12]\n",
            " [12 15 18]]\n"
          ]
        }
      ],
      "source": [
        "A = np.array([1, 2, 3])\n",
        "B = np.array([4, 5, 6])\n",
        "\n",
        "# Inner product\n",
        "inner_product = np.einsum('i,i->', A, B)\n",
        "print(inner_product)\n",
        "\n",
        "# Outer product\n",
        "outer_product = np.einsum('i,j->ij', A, B)\n",
        "print(outer_product)\n",
        "\n",
        "# Sum\n",
        "total_sum = np.einsum('i->', A)\n",
        "print(total_sum)\n",
        "\n",
        "# Element-wise multiplication\n",
        "elementwise_mul = np.einsum('i,j->ij', A, B)\n",
        "print(elementwise_mul)\n"
      ]
    },
    {
      "cell_type": "markdown",
      "metadata": {
        "id": "1rOaCKroClmC"
      },
      "source": [
        "#### 98. Considering a path described by two vectors (X,Y), how to sample it using equidistant samples (★★★)?"
      ]
    },
    {
      "cell_type": "code",
      "execution_count": null,
      "metadata": {
        "id": "_ktZbzKAClmD",
        "colab": {
          "base_uri": "https://localhost:8080/"
        },
        "outputId": "7cf972a0-96f2-4fe3-94ac-9da93509969e"
      },
      "outputs": [
        {
          "output_type": "stream",
          "name": "stdout",
          "text": [
            "[[ 0.    0.  ]\n",
            " [ 0.75  0.75]\n",
            " [ 1.5   0.5 ]\n",
            " [ 2.25 -0.25]\n",
            " [ 3.   -1.  ]]\n"
          ]
        }
      ],
      "source": [
        "import numpy as np\n",
        "\n",
        "X = np.array([0, 1, 2, 3])\n",
        "Y = np.array([0, 1, 0, -1])\n",
        "\n",
        "# Sample equidistant points\n",
        "t = np.linspace(0, 1, num=5)\n",
        "sampled_points = np.vstack((np.interp(t, np.linspace(0, 1, len(X)), X),\n",
        "                             np.interp(t, np.linspace(0, 1, len(Y)), Y))).T\n",
        "print(sampled_points)"
      ]
    },
    {
      "cell_type": "markdown",
      "metadata": {
        "id": "aIisU6j7ClmD"
      },
      "source": [
        "#### 99. Given an integer n and a 2D array X, select from X the rows which can be interpreted as draws from a multinomial distribution with n degrees, i.e., the rows which only contain integers and which sum to n. (★★★)"
      ]
    },
    {
      "cell_type": "code",
      "execution_count": null,
      "metadata": {
        "id": "MzfDafQfClmD",
        "colab": {
          "base_uri": "https://localhost:8080/"
        },
        "outputId": "4410c4b7-a563-4c75-ac69-ad069492412f"
      },
      "outputs": [
        {
          "output_type": "stream",
          "name": "stdout",
          "text": [
            "[]\n"
          ]
        }
      ],
      "source": [
        "import numpy as np\n",
        "\n",
        "n = 5\n",
        "X = np.random.randint(0, n + 1, (10, 4))  # Example rows\n",
        "\n",
        "valid_rows = X[np.sum(X, axis=1) == n]\n",
        "print(valid_rows)"
      ]
    },
    {
      "cell_type": "markdown",
      "metadata": {
        "id": "S6KXjW6zClmD"
      },
      "source": [
        "#### 100. Compute bootstrapped 95% confidence intervals for the mean of a 1D array X (i.e., resample the elements of an array with replacement N times, compute the mean of each sample, and then compute percentiles over the means). (★★★)"
      ]
    },
    {
      "cell_type": "code",
      "execution_count": null,
      "metadata": {
        "id": "flsGnJ5lClmD",
        "colab": {
          "base_uri": "https://localhost:8080/"
        },
        "outputId": "97ac7f57-4ae5-4cc7-fe20-1a755345f5d4"
      },
      "outputs": [
        {
          "output_type": "stream",
          "name": "stdout",
          "text": [
            "0.40854356489861854 0.5157987694712594\n"
          ]
        }
      ],
      "source": [
        "X = np.random.rand(100)  # Example data\n",
        "N = 1000  # Number of bootstrap samples\n",
        "boot_means = np.random.choice(X, (N, len(X)), replace=True).mean(axis=1)\n",
        "ci_lower, ci_upper = np.percentile(boot_means, [2.5, 97.5])\n",
        "print(ci_lower, ci_upper)"
      ]
    },
    {
      "cell_type": "code",
      "execution_count": null,
      "metadata": {
        "id": "AppGXg1SClmE"
      },
      "outputs": [],
      "source": []
    }
  ],
  "metadata": {
    "kernelspec": {
      "display_name": "Python 3",
      "language": "python",
      "name": "python3"
    },
    "language_info": {
      "codemirror_mode": {
        "name": "ipython",
        "version": 3
      },
      "file_extension": ".py",
      "mimetype": "text/x-python",
      "name": "python",
      "nbconvert_exporter": "python",
      "pygments_lexer": "ipython3",
      "version": "3.7.4"
    },
    "colab": {
      "provenance": [],
      "include_colab_link": true
    }
  },
  "nbformat": 4,
  "nbformat_minor": 0
}