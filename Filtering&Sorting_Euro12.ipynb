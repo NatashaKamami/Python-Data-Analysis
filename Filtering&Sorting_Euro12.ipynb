{
  "cells": [
    {
      "cell_type": "markdown",
      "metadata": {
        "id": "view-in-github",
        "colab_type": "text"
      },
      "source": [
        "<a href=\"https://colab.research.google.com/github/NatashaKamami/Python-Data-Analysis/blob/main/Filtering%26Sorting_Euro12.ipynb\" target=\"_parent\"><img src=\"https://colab.research.google.com/assets/colab-badge.svg\" alt=\"Open In Colab\"/></a>"
      ]
    },
    {
      "cell_type": "markdown",
      "metadata": {
        "id": "Kaa7tnph2ld9"
      },
      "source": [
        "# Ex2 - Filtering and Sorting Data"
      ]
    },
    {
      "cell_type": "markdown",
      "metadata": {
        "id": "IRycf8Jo2leD"
      },
      "source": [
        "This time we are going to pull data directly from the internet.\n",
        "\n",
        "### Step 1. Import the necessary libraries"
      ]
    },
    {
      "cell_type": "code",
      "execution_count": null,
      "metadata": {
        "id": "BI2b4Th_2leF"
      },
      "outputs": [],
      "source": [
        "import pandas as pd"
      ]
    },
    {
      "cell_type": "markdown",
      "metadata": {
        "id": "w2hCRPt72leF"
      },
      "source": [
        "### Step 2. Import the dataset from this [address](https://raw.githubusercontent.com/guipsamora/pandas_exercises/master/02_Filtering_%26_Sorting/Euro12/Euro_2012_stats_TEAM.csv)."
      ]
    },
    {
      "cell_type": "markdown",
      "metadata": {
        "id": "wyJ3W1mD2leG"
      },
      "source": [
        "### Step 3. Assign it to a variable called euro12."
      ]
    },
    {
      "cell_type": "code",
      "execution_count": null,
      "metadata": {
        "id": "XmBP9QfI2leH"
      },
      "outputs": [],
      "source": [
        "url = 'https://raw.githubusercontent.com/guipsamora/pandas_exercises/master/02_Filtering_%26_Sorting/Euro12/Euro_2012_stats_TEAM.csv'\n",
        "euro12 = pd.read_csv(url)\n"
      ]
    },
    {
      "cell_type": "markdown",
      "metadata": {
        "id": "dpe2N-zQ2leH"
      },
      "source": [
        "### Step 4. Select only the Goal column."
      ]
    },
    {
      "cell_type": "code",
      "execution_count": null,
      "metadata": {
        "colab": {
          "base_uri": "https://localhost:8080/"
        },
        "id": "jC-VnZJQ2leH",
        "outputId": "3f76a6fa-509f-48c9-c0bb-774d1851255b"
      },
      "outputs": [
        {
          "output_type": "stream",
          "name": "stdout",
          "text": [
            "0      4\n",
            "1      4\n",
            "2      4\n",
            "3      5\n",
            "4      3\n",
            "5     10\n",
            "6      5\n",
            "7      6\n",
            "8      2\n",
            "9      2\n",
            "10     6\n",
            "11     1\n",
            "12     5\n",
            "13    12\n",
            "14     5\n",
            "15     2\n",
            "Name: Goals, dtype: int64\n"
          ]
        }
      ],
      "source": [
        "goals = euro12['Goals']\n",
        "print(goals)\n"
      ]
    },
    {
      "cell_type": "markdown",
      "metadata": {
        "id": "j7MVXDQ72leI"
      },
      "source": [
        "### Step 5. How many team participated in the Euro2012?"
      ]
    },
    {
      "cell_type": "code",
      "execution_count": null,
      "metadata": {
        "colab": {
          "base_uri": "https://localhost:8080/"
        },
        "id": "HNngggA52leI",
        "outputId": "4e64c340-ec11-4be6-d0f6-d9438401e93a"
      },
      "outputs": [
        {
          "output_type": "stream",
          "name": "stdout",
          "text": [
            "16\n"
          ]
        }
      ],
      "source": [
        "num_teams = euro12['Team'].nunique()\n",
        "print(num_teams)\n"
      ]
    },
    {
      "cell_type": "markdown",
      "metadata": {
        "id": "ERyqLoaW2leJ"
      },
      "source": [
        "### Step 6. What is the number of columns in the dataset?"
      ]
    },
    {
      "cell_type": "code",
      "execution_count": null,
      "metadata": {
        "colab": {
          "base_uri": "https://localhost:8080/"
        },
        "id": "l0zej-vb2leJ",
        "outputId": "683af19e-13b1-4b03-ead2-ce76f1714653"
      },
      "outputs": [
        {
          "output_type": "stream",
          "name": "stdout",
          "text": [
            "35\n"
          ]
        }
      ],
      "source": [
        "num_columns = len(euro12.columns)\n",
        "print(num_columns)\n"
      ]
    },
    {
      "cell_type": "markdown",
      "metadata": {
        "id": "Y4sGiV6H2leK"
      },
      "source": [
        "### Step 7. View only the columns Team, Yellow Cards and Red Cards and assign them to a dataframe called discipline"
      ]
    },
    {
      "cell_type": "code",
      "execution_count": null,
      "metadata": {
        "colab": {
          "base_uri": "https://localhost:8080/"
        },
        "id": "xGgO_n322leK",
        "outputId": "322541d8-2160-4f62-ab40-db3647cfb668"
      },
      "outputs": [
        {
          "output_type": "stream",
          "name": "stdout",
          "text": [
            "                   Team  Yellow Cards  Red Cards\n",
            "0               Croatia             9          0\n",
            "1        Czech Republic             7          0\n",
            "2               Denmark             4          0\n",
            "3               England             5          0\n",
            "4                France             6          0\n",
            "5               Germany             4          0\n",
            "6                Greece             9          1\n",
            "7                 Italy            16          0\n",
            "8           Netherlands             5          0\n",
            "9                Poland             7          1\n",
            "10             Portugal            12          0\n",
            "11  Republic of Ireland             6          1\n",
            "12               Russia             6          0\n",
            "13                Spain            11          0\n",
            "14               Sweden             7          0\n",
            "15              Ukraine             5          0\n"
          ]
        }
      ],
      "source": [
        "discipline = euro12[['Team', 'Yellow Cards', 'Red Cards']]\n",
        "print(discipline)\n"
      ]
    },
    {
      "cell_type": "markdown",
      "metadata": {
        "id": "YGCquAxP2leK"
      },
      "source": [
        "### Step 8. Sort the teams by Red Cards, then to Yellow Cards"
      ]
    },
    {
      "cell_type": "code",
      "execution_count": null,
      "metadata": {
        "scrolled": true,
        "colab": {
          "base_uri": "https://localhost:8080/"
        },
        "id": "jIW6i25f2leL",
        "outputId": "bb1c4b70-1500-4278-89e8-c9797d68bdce"
      },
      "outputs": [
        {
          "output_type": "stream",
          "name": "stdout",
          "text": [
            "                   Team  Yellow Cards  Red Cards\n",
            "2               Denmark             4          0\n",
            "5               Germany             4          0\n",
            "3               England             5          0\n",
            "8           Netherlands             5          0\n",
            "15              Ukraine             5          0\n",
            "4                France             6          0\n",
            "12               Russia             6          0\n",
            "1        Czech Republic             7          0\n",
            "14               Sweden             7          0\n",
            "0               Croatia             9          0\n",
            "13                Spain            11          0\n",
            "10             Portugal            12          0\n",
            "7                 Italy            16          0\n",
            "11  Republic of Ireland             6          1\n",
            "9                Poland             7          1\n",
            "6                Greece             9          1\n"
          ]
        }
      ],
      "source": [
        "sorted_discipline = discipline.sort_values(by=['Red Cards', 'Yellow Cards'])\n",
        "print(sorted_discipline)\n"
      ]
    },
    {
      "cell_type": "markdown",
      "metadata": {
        "id": "r4_rXQj42leL"
      },
      "source": [
        "### Step 9. Calculate the mean Yellow Cards given per Team"
      ]
    },
    {
      "cell_type": "code",
      "execution_count": null,
      "metadata": {
        "colab": {
          "base_uri": "https://localhost:8080/"
        },
        "id": "TcXJjWxN2leL",
        "outputId": "dbeaeb39-c160-4302-e14d-72d1010b0bec"
      },
      "outputs": [
        {
          "output_type": "stream",
          "name": "stdout",
          "text": [
            "7.4375\n"
          ]
        }
      ],
      "source": [
        "mean_yellow_cards = euro12['Yellow Cards'].mean()\n",
        "print(mean_yellow_cards)\n"
      ]
    },
    {
      "cell_type": "markdown",
      "metadata": {
        "id": "wTKcsBcD2leL"
      },
      "source": [
        "### Step 10. Filter teams that scored more than 6 goals"
      ]
    },
    {
      "cell_type": "code",
      "execution_count": null,
      "metadata": {
        "colab": {
          "base_uri": "https://localhost:8080/"
        },
        "id": "Eyyd1eSx2leM",
        "outputId": "a9c7f013-3dab-4060-b15c-4737ebd6e8eb"
      },
      "outputs": [
        {
          "output_type": "stream",
          "name": "stdout",
          "text": [
            "       Team  Goals  Shots on target  Shots off target Shooting Accuracy  \\\n",
            "5   Germany     10               32                32             47.8%   \n",
            "13    Spain     12               42                33             55.9%   \n",
            "\n",
            "   % Goals-to-shots  Total shots (inc. Blocked)  Hit Woodwork  Penalty goals  \\\n",
            "5             15.6%                          80             2              1   \n",
            "13            16.0%                         100             0              1   \n",
            "\n",
            "    Penalties not scored  ...  Saves made  Saves-to-shots ratio  Fouls Won  \\\n",
            "5                      0  ...          10                 62.6%         63   \n",
            "13                     0  ...          15                 93.8%        102   \n",
            "\n",
            "   Fouls Conceded  Offsides  Yellow Cards  Red Cards  Subs on  Subs off  \\\n",
            "5              49        12             4          0       15        15   \n",
            "13             83        19            11          0       17        17   \n",
            "\n",
            "    Players Used  \n",
            "5             17  \n",
            "13            18  \n",
            "\n",
            "[2 rows x 35 columns]\n"
          ]
        }
      ],
      "source": [
        "teams_more_than_6_goals = euro12[euro12['Goals'] > 6]\n",
        "print(teams_more_than_6_goals)\n"
      ]
    },
    {
      "cell_type": "markdown",
      "metadata": {
        "id": "8gDsEvuu2leM"
      },
      "source": [
        "### Step 11. Select the teams that start with G"
      ]
    },
    {
      "cell_type": "code",
      "execution_count": null,
      "metadata": {
        "colab": {
          "base_uri": "https://localhost:8080/"
        },
        "id": "bjdOxfZV2leM",
        "outputId": "19285feb-477f-4df4-fb15-c9fff1a5bc25"
      },
      "outputs": [
        {
          "output_type": "stream",
          "name": "stdout",
          "text": [
            "      Team  Goals  Shots on target  Shots off target Shooting Accuracy  \\\n",
            "5  Germany     10               32                32             47.8%   \n",
            "6   Greece      5                8                18             30.7%   \n",
            "\n",
            "  % Goals-to-shots  Total shots (inc. Blocked)  Hit Woodwork  Penalty goals  \\\n",
            "5            15.6%                          80             2              1   \n",
            "6            19.2%                          32             1              1   \n",
            "\n",
            "   Penalties not scored  ...  Saves made  Saves-to-shots ratio  Fouls Won  \\\n",
            "5                     0  ...          10                 62.6%         63   \n",
            "6                     1  ...          13                 65.1%         67   \n",
            "\n",
            "  Fouls Conceded  Offsides  Yellow Cards  Red Cards  Subs on  Subs off  \\\n",
            "5             49        12             4          0       15        15   \n",
            "6             48        12             9          1       12        12   \n",
            "\n",
            "   Players Used  \n",
            "5            17  \n",
            "6            20  \n",
            "\n",
            "[2 rows x 35 columns]\n"
          ]
        }
      ],
      "source": [
        "teams_starting_with_g = euro12[euro12['Team'].str.startswith('G')]\n",
        "print(teams_starting_with_g)\n"
      ]
    },
    {
      "cell_type": "markdown",
      "metadata": {
        "id": "bDm2vicv2leN"
      },
      "source": [
        "### Step 12. Select the first 7 columns"
      ]
    },
    {
      "cell_type": "code",
      "execution_count": null,
      "metadata": {
        "colab": {
          "base_uri": "https://localhost:8080/"
        },
        "id": "dmehC28L2leN",
        "outputId": "ca7808a4-e5d5-4f88-ff35-88c10b184e1d"
      },
      "outputs": [
        {
          "output_type": "stream",
          "name": "stdout",
          "text": [
            "                   Team  Goals  Shots on target  Shots off target  \\\n",
            "0               Croatia      4               13                12   \n",
            "1        Czech Republic      4               13                18   \n",
            "2               Denmark      4               10                10   \n",
            "3               England      5               11                18   \n",
            "4                France      3               22                24   \n",
            "5               Germany     10               32                32   \n",
            "6                Greece      5                8                18   \n",
            "7                 Italy      6               34                45   \n",
            "8           Netherlands      2               12                36   \n",
            "9                Poland      2               15                23   \n",
            "10             Portugal      6               22                42   \n",
            "11  Republic of Ireland      1                7                12   \n",
            "12               Russia      5                9                31   \n",
            "13                Spain     12               42                33   \n",
            "14               Sweden      5               17                19   \n",
            "15              Ukraine      2                7                26   \n",
            "\n",
            "   Shooting Accuracy % Goals-to-shots  Total shots (inc. Blocked)  \n",
            "0              51.9%            16.0%                          32  \n",
            "1              41.9%            12.9%                          39  \n",
            "2              50.0%            20.0%                          27  \n",
            "3              50.0%            17.2%                          40  \n",
            "4              37.9%             6.5%                          65  \n",
            "5              47.8%            15.6%                          80  \n",
            "6              30.7%            19.2%                          32  \n",
            "7              43.0%             7.5%                         110  \n",
            "8              25.0%             4.1%                          60  \n",
            "9              39.4%             5.2%                          48  \n",
            "10             34.3%             9.3%                          82  \n",
            "11             36.8%             5.2%                          28  \n",
            "12             22.5%            12.5%                          59  \n",
            "13             55.9%            16.0%                         100  \n",
            "14             47.2%            13.8%                          39  \n",
            "15             21.2%             6.0%                          38  \n"
          ]
        }
      ],
      "source": [
        "first_7_columns = euro12.iloc[:, :7]\n",
        "print(first_7_columns)\n"
      ]
    },
    {
      "cell_type": "markdown",
      "metadata": {
        "id": "TOviXbT92leN"
      },
      "source": [
        "### Step 13. Select all columns except the last 3."
      ]
    },
    {
      "cell_type": "code",
      "execution_count": null,
      "metadata": {
        "colab": {
          "base_uri": "https://localhost:8080/"
        },
        "id": "qSvoh5bL2leN",
        "outputId": "4c5872a8-5c52-4746-c651-0682d4d6da3a"
      },
      "outputs": [
        {
          "output_type": "stream",
          "name": "stdout",
          "text": [
            "                   Team  Goals  Shots on target  Shots off target  \\\n",
            "0               Croatia      4               13                12   \n",
            "1        Czech Republic      4               13                18   \n",
            "2               Denmark      4               10                10   \n",
            "3               England      5               11                18   \n",
            "4                France      3               22                24   \n",
            "5               Germany     10               32                32   \n",
            "6                Greece      5                8                18   \n",
            "7                 Italy      6               34                45   \n",
            "8           Netherlands      2               12                36   \n",
            "9                Poland      2               15                23   \n",
            "10             Portugal      6               22                42   \n",
            "11  Republic of Ireland      1                7                12   \n",
            "12               Russia      5                9                31   \n",
            "13                Spain     12               42                33   \n",
            "14               Sweden      5               17                19   \n",
            "15              Ukraine      2                7                26   \n",
            "\n",
            "   Shooting Accuracy % Goals-to-shots  Total shots (inc. Blocked)  \\\n",
            "0              51.9%            16.0%                          32   \n",
            "1              41.9%            12.9%                          39   \n",
            "2              50.0%            20.0%                          27   \n",
            "3              50.0%            17.2%                          40   \n",
            "4              37.9%             6.5%                          65   \n",
            "5              47.8%            15.6%                          80   \n",
            "6              30.7%            19.2%                          32   \n",
            "7              43.0%             7.5%                         110   \n",
            "8              25.0%             4.1%                          60   \n",
            "9              39.4%             5.2%                          48   \n",
            "10             34.3%             9.3%                          82   \n",
            "11             36.8%             5.2%                          28   \n",
            "12             22.5%            12.5%                          59   \n",
            "13             55.9%            16.0%                         100   \n",
            "14             47.2%            13.8%                          39   \n",
            "15             21.2%             6.0%                          38   \n",
            "\n",
            "    Hit Woodwork  Penalty goals  Penalties not scored  ...  Clean Sheets  \\\n",
            "0              0              0                     0  ...             0   \n",
            "1              0              0                     0  ...             1   \n",
            "2              1              0                     0  ...             1   \n",
            "3              0              0                     0  ...             2   \n",
            "4              1              0                     0  ...             1   \n",
            "5              2              1                     0  ...             1   \n",
            "6              1              1                     1  ...             1   \n",
            "7              2              0                     0  ...             2   \n",
            "8              2              0                     0  ...             0   \n",
            "9              0              0                     0  ...             0   \n",
            "10             6              0                     0  ...             2   \n",
            "11             0              0                     0  ...             0   \n",
            "12             2              0                     0  ...             0   \n",
            "13             0              1                     0  ...             5   \n",
            "14             3              0                     0  ...             1   \n",
            "15             0              0                     0  ...             0   \n",
            "\n",
            "    Blocks  Goals conceded Saves made  Saves-to-shots ratio  Fouls Won  \\\n",
            "0       10               3         13                 81.3%         41   \n",
            "1       10               6          9                 60.1%         53   \n",
            "2       10               5         10                 66.7%         25   \n",
            "3       29               3         22                 88.1%         43   \n",
            "4        7               5          6                 54.6%         36   \n",
            "5       11               6         10                 62.6%         63   \n",
            "6       23               7         13                 65.1%         67   \n",
            "7       18               7         20                 74.1%        101   \n",
            "8        9               5         12                 70.6%         35   \n",
            "9        8               3          6                 66.7%         48   \n",
            "10      11               4         10                 71.5%         73   \n",
            "11      23               9         17                 65.4%         43   \n",
            "12       8               3         10                 77.0%         34   \n",
            "13       8               1         15                 93.8%        102   \n",
            "14      12               5          8                 61.6%         35   \n",
            "15       4               4         13                 76.5%         48   \n",
            "\n",
            "    Fouls Conceded  Offsides  Yellow Cards  Red Cards  \n",
            "0               62         2             9          0  \n",
            "1               73         8             7          0  \n",
            "2               38         8             4          0  \n",
            "3               45         6             5          0  \n",
            "4               51         5             6          0  \n",
            "5               49        12             4          0  \n",
            "6               48        12             9          1  \n",
            "7               89        16            16          0  \n",
            "8               30         3             5          0  \n",
            "9               56         3             7          1  \n",
            "10              90        10            12          0  \n",
            "11              51        11             6          1  \n",
            "12              43         4             6          0  \n",
            "13              83        19            11          0  \n",
            "14              51         7             7          0  \n",
            "15              31         4             5          0  \n",
            "\n",
            "[16 rows x 32 columns]\n"
          ]
        }
      ],
      "source": [
        "excluding_last_3 = euro12.iloc[:, :-3]\n",
        "print(excluding_last_3)\n"
      ]
    },
    {
      "cell_type": "markdown",
      "metadata": {
        "id": "HnNm65Y52leN"
      },
      "source": [
        "### Step 14. Present only the Shooting Accuracy from England, Italy and Russia"
      ]
    },
    {
      "cell_type": "code",
      "execution_count": null,
      "metadata": {
        "colab": {
          "base_uri": "https://localhost:8080/"
        },
        "id": "mD1x3ujo2leO",
        "outputId": "6c390a5b-7097-40e4-965c-d71c01d1ea40"
      },
      "outputs": [
        {
          "output_type": "stream",
          "name": "stdout",
          "text": [
            "       Team Shooting Accuracy\n",
            "3   England             50.0%\n",
            "7     Italy             43.0%\n",
            "12   Russia             22.5%\n"
          ]
        }
      ],
      "source": [
        "shooting_accuracy = euro12[euro12['Team'].isin(['England', 'Italy', 'Russia'])][['Team', 'Shooting Accuracy']]\n",
        "print(shooting_accuracy)\n"
      ]
    }
  ],
  "metadata": {
    "anaconda-cloud": {},
    "kernelspec": {
      "display_name": "Python [default]",
      "language": "python",
      "name": "python2"
    },
    "language_info": {
      "codemirror_mode": {
        "name": "ipython",
        "version": 2
      },
      "file_extension": ".py",
      "mimetype": "text/x-python",
      "name": "python",
      "nbconvert_exporter": "python",
      "pygments_lexer": "ipython2",
      "version": "2.7.12"
    },
    "colab": {
      "provenance": [],
      "include_colab_link": true
    }
  },
  "nbformat": 4,
  "nbformat_minor": 0
}