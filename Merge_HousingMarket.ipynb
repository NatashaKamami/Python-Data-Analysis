{
  "cells": [
    {
      "cell_type": "markdown",
      "metadata": {
        "id": "view-in-github",
        "colab_type": "text"
      },
      "source": [
        "<a href=\"https://colab.research.google.com/github/NatashaKamami/Python-Data-Analysis/blob/main/Merge_HousingMarket.ipynb\" target=\"_parent\"><img src=\"https://colab.research.google.com/assets/colab-badge.svg\" alt=\"Open In Colab\"/></a>"
      ]
    },
    {
      "cell_type": "markdown",
      "metadata": {
        "id": "0DlANIMfOoSB"
      },
      "source": [
        "# Housing Market"
      ]
    },
    {
      "cell_type": "markdown",
      "metadata": {
        "id": "srbxP6BnOoSJ"
      },
      "source": [
        "### Introduction:\n",
        "\n",
        "This time we will create our own dataset with fictional numbers to describe a house market. As we are going to create random data don't try to reason of the numbers.\n",
        "\n",
        "### Step 1. Import the necessary libraries"
      ]
    },
    {
      "cell_type": "code",
      "execution_count": null,
      "metadata": {
        "id": "ZypOOPf9OoSM"
      },
      "outputs": [],
      "source": [
        "import pandas as pd\n",
        "import numpy as np\n"
      ]
    },
    {
      "cell_type": "markdown",
      "metadata": {
        "id": "NWWuyQ9TOoSN"
      },
      "source": [
        "### Step 2. Create 3 differents Series, each of length 100, as follows:\n",
        "1. The first a random number from 1 to 4\n",
        "2. The second a random number from 1 to 3\n",
        "3. The third a random number from 10,000 to 30,000"
      ]
    },
    {
      "cell_type": "code",
      "execution_count": null,
      "metadata": {
        "id": "WQqxE2xIOoSN"
      },
      "outputs": [],
      "source": [
        "# Create the Series with random data\n",
        "bedrooms = np.random.randint(1, 5, size=100)  # Random numbers from 1 to 4\n",
        "bathrooms = np.random.randint(1, 4, size=100)  # Random numbers from 1 to 3\n",
        "price_sqr_meter = np.random.randint(10000, 30001, size=100)  # Random numbers from 10,000 to 30,000\n"
      ]
    },
    {
      "cell_type": "markdown",
      "metadata": {
        "id": "-meXQEdmOoSO"
      },
      "source": [
        "### Step 3. Let's create a DataFrame by joinning the Series by column"
      ]
    },
    {
      "cell_type": "code",
      "execution_count": null,
      "metadata": {
        "id": "7sj9VrTEOoSP"
      },
      "outputs": [],
      "source": [
        "# Create the DataFrame\n",
        "housing_data = pd.DataFrame({\n",
        "    'bedrooms': bedrooms,\n",
        "    'bathrooms': bathrooms,\n",
        "    'price_sqr_meter': price_sqr_meter\n",
        "})\n"
      ]
    },
    {
      "cell_type": "markdown",
      "metadata": {
        "id": "X8G94nt0OoSP"
      },
      "source": [
        "### Step 4. Change the name of the columns to bedrs, bathrs, price_sqr_meter"
      ]
    },
    {
      "cell_type": "code",
      "execution_count": null,
      "metadata": {
        "id": "EUK4hhdEOoSP"
      },
      "outputs": [],
      "source": [
        "# Rename the columns\n",
        "housing_data.columns = ['bedrs', 'bathrs', 'price_sqr_meter']\n"
      ]
    },
    {
      "cell_type": "markdown",
      "metadata": {
        "id": "7bVbXdRiOoSQ"
      },
      "source": [
        "### Step 5. Create a one column DataFrame with the values of the 3 Series and assign it to 'bigcolumn'"
      ]
    },
    {
      "cell_type": "code",
      "execution_count": null,
      "metadata": {
        "id": "IqdaX4b1OoSQ"
      },
      "outputs": [],
      "source": [
        "# Create a one-column DataFrame\n",
        "bigcolumn = pd.DataFrame(housing_data.values.flatten(), columns=['value'])\n"
      ]
    },
    {
      "cell_type": "markdown",
      "metadata": {
        "id": "NJFkHmK1OoSQ"
      },
      "source": [
        "### Step 6. Oops, it seems it is going only until index 99. Is it true?"
      ]
    },
    {
      "cell_type": "code",
      "execution_count": null,
      "metadata": {
        "colab": {
          "base_uri": "https://localhost:8080/"
        },
        "id": "97P542FlOoSR",
        "outputId": "e4032e21-73c1-4388-b5b2-085ef3d2231a"
      },
      "outputs": [
        {
          "output_type": "stream",
          "name": "stdout",
          "text": [
            "RangeIndex(start=0, stop=300, step=1)\n"
          ]
        }
      ],
      "source": [
        "# Check the index of bigcolumn\n",
        "print(bigcolumn.index)\n",
        "\n"
      ]
    },
    {
      "cell_type": "markdown",
      "metadata": {
        "id": "S33zLvOWOoSR"
      },
      "source": [
        "### Step 7. Reindex the DataFrame so it goes from 0 to 299"
      ]
    },
    {
      "cell_type": "code",
      "execution_count": null,
      "metadata": {
        "id": "lq6NoQE5OoSS"
      },
      "outputs": [],
      "source": [
        "# Reindexing is not necessary since it is already from 0 to 299.\n",
        "# However, if you want to ensure it is correctly indexed:\n",
        "bigcolumn = bigcolumn.reset_index(drop=True)\n"
      ]
    }
  ],
  "metadata": {
    "kernelspec": {
      "display_name": "Python 2",
      "language": "python",
      "name": "python2"
    },
    "language_info": {
      "codemirror_mode": {
        "name": "ipython",
        "version": 2
      },
      "file_extension": ".py",
      "mimetype": "text/x-python",
      "name": "python",
      "nbconvert_exporter": "python",
      "pygments_lexer": "ipython2",
      "version": "2.7.11"
    },
    "colab": {
      "provenance": [],
      "include_colab_link": true
    }
  },
  "nbformat": 4,
  "nbformat_minor": 0
}